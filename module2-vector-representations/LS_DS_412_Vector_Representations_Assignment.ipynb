{
 "cells": [
  {
   "cell_type": "markdown",
   "metadata": {},
   "source": [
    "<img align=\"left\" src=\"https://lever-client-logos.s3.amazonaws.com/864372b1-534c-480e-acd5-9711f850815c-1524247202159.png\" width=200>\n",
    "<br></br>\n",
    "\n",
    "# Vector Representations\n",
    "## *Data Science Unit 4 Sprint 2 Assignment 2*"
   ]
  },
  {
   "cell_type": "code",
   "execution_count": 1,
   "metadata": {
    "colab": {
     "base_uri": "https://localhost:8080/",
     "height": 159
    },
    "colab_type": "code",
    "id": "hyj-f9FDcVFp",
    "outputId": "5dd045fe-6e4c-458c-e2fc-253c3da9c805"
   },
   "outputs": [],
   "source": [
    "import re\n",
    "import string\n",
    "\n",
    "from sklearn.feature_extraction.text import CountVectorizer, TfidfVectorizer\n",
    "from sklearn.neighbors import NearestNeighbors\n",
    "import matplotlib.pyplot as plt\n",
    "import pandas as pd\n",
    "import numpy as np\n",
    "import spacy\n",
    "\n",
    "from bs4 import BeautifulSoup"
   ]
  },
  {
   "cell_type": "markdown",
   "metadata": {
    "colab_type": "text",
    "id": "M7bcmqfGXrFG"
   },
   "source": [
    "## 1) *Clean:* Job Listings from indeed.com that contain the title \"Data Scientist\" \n",
    "\n",
    "You have `job_listings.csv` in the data folder for this module. The text data in the description column is still messy - full of html tags. Use the [BeautifulSoup](https://www.crummy.com/software/BeautifulSoup/bs4/doc/) library to clean up this column. You will need to read through the documentation to accomplish this task. "
   ]
  },
  {
   "cell_type": "code",
   "execution_count": 2,
   "metadata": {
    "colab": {},
    "colab_type": "code",
    "id": "KcYlc1URXhlC"
   },
   "outputs": [
    {
     "output_type": "execute_result",
     "data": {
      "text/plain": [
       "   Unnamed: 0                                        description  \\\n",
       "0           0  b\"<div><div>Job Requirements:</div><ul><li><p>...   \n",
       "1           1  b'<div>Job Description<br/>\\n<br/>\\n<p>As a Da...   \n",
       "2           2  b'<div><p>As a Data Scientist you will be work...   \n",
       "3           3  b'<div class=\"jobsearch-JobMetadataHeader icl-...   \n",
       "4           4  b'<ul><li>Location: USA \\xe2\\x80\\x93 multiple ...   \n",
       "\n",
       "                          title  \n",
       "0               Data scientist   \n",
       "1              Data Scientist I  \n",
       "2  Data Scientist - Entry Level  \n",
       "3                Data Scientist  \n",
       "4                Data Scientist  "
      ],
      "text/html": "<div>\n<style scoped>\n    .dataframe tbody tr th:only-of-type {\n        vertical-align: middle;\n    }\n\n    .dataframe tbody tr th {\n        vertical-align: top;\n    }\n\n    .dataframe thead th {\n        text-align: right;\n    }\n</style>\n<table border=\"1\" class=\"dataframe\">\n  <thead>\n    <tr style=\"text-align: right;\">\n      <th></th>\n      <th>Unnamed: 0</th>\n      <th>description</th>\n      <th>title</th>\n    </tr>\n  </thead>\n  <tbody>\n    <tr>\n      <th>0</th>\n      <td>0</td>\n      <td>b\"&lt;div&gt;&lt;div&gt;Job Requirements:&lt;/div&gt;&lt;ul&gt;&lt;li&gt;&lt;p&gt;...</td>\n      <td>Data scientist</td>\n    </tr>\n    <tr>\n      <th>1</th>\n      <td>1</td>\n      <td>b'&lt;div&gt;Job Description&lt;br/&gt;\\n&lt;br/&gt;\\n&lt;p&gt;As a Da...</td>\n      <td>Data Scientist I</td>\n    </tr>\n    <tr>\n      <th>2</th>\n      <td>2</td>\n      <td>b'&lt;div&gt;&lt;p&gt;As a Data Scientist you will be work...</td>\n      <td>Data Scientist - Entry Level</td>\n    </tr>\n    <tr>\n      <th>3</th>\n      <td>3</td>\n      <td>b'&lt;div class=\"jobsearch-JobMetadataHeader icl-...</td>\n      <td>Data Scientist</td>\n    </tr>\n    <tr>\n      <th>4</th>\n      <td>4</td>\n      <td>b'&lt;ul&gt;&lt;li&gt;Location: USA \\xe2\\x80\\x93 multiple ...</td>\n      <td>Data Scientist</td>\n    </tr>\n  </tbody>\n</table>\n</div>"
     },
     "metadata": {},
     "execution_count": 2
    }
   ],
   "source": [
    "# read in the csv\n",
    "job_listings = pd.read_csv('data/job_listings.csv')\n",
    "job_listings.head()"
   ]
  },
  {
   "cell_type": "code",
   "execution_count": 3,
   "metadata": {},
   "outputs": [],
   "source": [
    "def clean_up_html(txt):\n",
    "    \"\"\"\n",
    "    Takes in HTML document.\n",
    "    Returns the text from the document.\n",
    "    \"\"\"\n",
    "    soup = BeautifulSoup(txt, 'html.parser')\n",
    "    html_txt = soup.get_text()\n",
    "    clean1 = html_txt.replace('\\\\n', '.')\n",
    "    cleaned_up_txt = re.sub('[^a-zA-Z 0-9\"]', ' ', clean1)\n",
    "\n",
    "    return cleaned_up_txt"
   ]
  },
  {
   "cell_type": "code",
   "execution_count": 4,
   "metadata": {},
   "outputs": [
    {
     "output_type": "execute_result",
     "data": {
      "text/plain": [
       "   Unnamed: 0                                        description  \\\n",
       "0           0  \"Job Requirements  Conceptual understanding in...   \n",
       "1           1   Job Description  As a Data Scientist 1  you w...   \n",
       "2           2   As a Data Scientist you will be working on co...   \n",
       "3           3    4 969    6 756 a monthContractUnder the gene...   \n",
       "4           4   Location  USA  xe2 x80 x93 multiple locations...   \n",
       "\n",
       "                          title  \n",
       "0               Data scientist   \n",
       "1              Data Scientist I  \n",
       "2  Data Scientist - Entry Level  \n",
       "3                Data Scientist  \n",
       "4                Data Scientist  "
      ],
      "text/html": "<div>\n<style scoped>\n    .dataframe tbody tr th:only-of-type {\n        vertical-align: middle;\n    }\n\n    .dataframe tbody tr th {\n        vertical-align: top;\n    }\n\n    .dataframe thead th {\n        text-align: right;\n    }\n</style>\n<table border=\"1\" class=\"dataframe\">\n  <thead>\n    <tr style=\"text-align: right;\">\n      <th></th>\n      <th>Unnamed: 0</th>\n      <th>description</th>\n      <th>title</th>\n    </tr>\n  </thead>\n  <tbody>\n    <tr>\n      <th>0</th>\n      <td>0</td>\n      <td>\"Job Requirements  Conceptual understanding in...</td>\n      <td>Data scientist</td>\n    </tr>\n    <tr>\n      <th>1</th>\n      <td>1</td>\n      <td>Job Description  As a Data Scientist 1  you w...</td>\n      <td>Data Scientist I</td>\n    </tr>\n    <tr>\n      <th>2</th>\n      <td>2</td>\n      <td>As a Data Scientist you will be working on co...</td>\n      <td>Data Scientist - Entry Level</td>\n    </tr>\n    <tr>\n      <th>3</th>\n      <td>3</td>\n      <td>4 969    6 756 a monthContractUnder the gene...</td>\n      <td>Data Scientist</td>\n    </tr>\n    <tr>\n      <th>4</th>\n      <td>4</td>\n      <td>Location  USA  xe2 x80 x93 multiple locations...</td>\n      <td>Data Scientist</td>\n    </tr>\n  </tbody>\n</table>\n</div>"
     },
     "metadata": {},
     "execution_count": 4
    }
   ],
   "source": [
    "# apply clean_up_html to description column\n",
    "job_listings['description'] = job_listings['description'].apply(clean_up_html)\n",
    "\n",
    "# get rid of b at beginning of each description\n",
    "job_listings['description'] = job_listings['description'].apply(lambda txt: txt[1:])\n",
    "job_listings.head()"
   ]
  },
  {
   "cell_type": "markdown",
   "metadata": {
    "colab_type": "text",
    "id": "5C4xFZNtX1m2"
   },
   "source": [
    "## 2) Use Spacy to tokenize the listings "
   ]
  },
  {
   "cell_type": "code",
   "execution_count": 5,
   "metadata": {
    "colab": {},
    "colab_type": "code",
    "id": "dhUHuMr-X-II"
   },
   "outputs": [],
   "source": [
    "nlp = spacy.load('en_core_web_lg')\n",
    "\n",
    "def create_lemmas(txt):\n",
    "    \"\"\"\n",
    "    This function takes in a text document and returns a list of lemmas\n",
    "    \"\"\"\n",
    "\n",
    "    # custom stop words\n",
    "    STOP_WORDS = nlp.Defaults.stop_words.union(['xe2', 'x80', 'x93'])\n",
    "\n",
    "    # our language model creates tokens for us and flags their attributes\n",
    "    doc = nlp(txt)\n",
    "    \n",
    "    lemmas = []\n",
    "\n",
    "    for token in doc:\n",
    "        # apply token attribute filters\n",
    "        if (token.is_punct == False) & (token.text.lower() not in STOP_WORDS) & (token.is_space == False):\n",
    "            # use the dot operator to access the lower case lemma of the token\n",
    "            lemmas.append(token.lemma_.lower())\n",
    "\n",
    "    return lemmas"
   ]
  },
  {
   "cell_type": "markdown",
   "metadata": {
    "colab_type": "text",
    "id": "-lgCZNL_YycP"
   },
   "source": [
    "## 3) Use Scikit-Learn's CountVectorizer to get word counts for each listing."
   ]
  },
  {
   "cell_type": "code",
   "execution_count": 6,
   "metadata": {
    "colab": {},
    "colab_type": "code",
    "id": "X2PZ8Pj_YxcF"
   },
   "outputs": [
    {
     "output_type": "stream",
     "name": "stderr",
     "text": [
      "/Users/keila/.local/share/virtualenvs/DS-Unit-4-Sprint-1-NLP-E0pgGHex/lib/python3.9/site-packages/sklearn/feature_extraction/text.py:489: UserWarning: The parameter 'token_pattern' will not be used since 'tokenizer' is not None'\n  warnings.warn(\"The parameter 'token_pattern' will not be used\"\n"
     ]
    }
   ],
   "source": [
    "# get tokens in a series\n",
    "tokens = job_listings['description']\n",
    "\n",
    "# create transformer\n",
    "vect = CountVectorizer(tokenizer=create_lemmas)\n",
    "\n",
    "# # build its vocab\n",
    "vect.fit(tokens)\n",
    "\n",
    "# # transform text\n",
    "dtm = vect.transform(tokens)"
   ]
  },
  {
   "cell_type": "code",
   "execution_count": 7,
   "metadata": {},
   "outputs": [
    {
     "output_type": "execute_result",
     "data": {
      "text/plain": [
       "     0  00  000  02115  03  0305  0356  04  062  06366  ...  zero  zeus  zf  \\\n",
       "0    0   0    0      0   0     0     0   0    0      0  ...     0     0   0   \n",
       "1    0   0    0      0   0     0     0   0    0      0  ...     0     0   0   \n",
       "2    0   0    0      0   0     0     0   0    0      0  ...     0     0   0   \n",
       "3    0   0    0      0   0     0     0   0    0      0  ...     0     0   0   \n",
       "4    0   0    0      0   0     0     0   0    0      0  ...     0     0   0   \n",
       "..  ..  ..  ...    ...  ..   ...   ...  ..  ...    ...  ...   ...   ...  ..   \n",
       "421  0   0    0      0   0     0     0   0    0      0  ...     0     0   0   \n",
       "422  0   0    0      0   0     0     0   0    0      0  ...     0     0   0   \n",
       "423  0   0    2      0   0     0     0   0    0      0  ...     1     0   0   \n",
       "424  0   0    0      0   0     0     0   0    0      0  ...     0     0   0   \n",
       "425  0   0    1      0   0     0     0   0    0      0  ...     0     0   0   \n",
       "\n",
       "     zheng  zillow  zogsport  zone  zoom  zuckerberg  zurich  \n",
       "0        0       0         0     0     0           0       0  \n",
       "1        0       0         0     0     0           0       0  \n",
       "2        0       0         0     0     0           0       0  \n",
       "3        1       0         0     0     0           0       0  \n",
       "4        0       0         0     0     0           0       0  \n",
       "..     ...     ...       ...   ...   ...         ...     ...  \n",
       "421      0       0         0     0     0           0       0  \n",
       "422      0       0         0     0     0           0       0  \n",
       "423      0       0         0     0     0           0       0  \n",
       "424      0       0         0     0     0           0       0  \n",
       "425      0       0         0     0     0           0       0  \n",
       "\n",
       "[426 rows x 6737 columns]"
      ],
      "text/html": "<div>\n<style scoped>\n    .dataframe tbody tr th:only-of-type {\n        vertical-align: middle;\n    }\n\n    .dataframe tbody tr th {\n        vertical-align: top;\n    }\n\n    .dataframe thead th {\n        text-align: right;\n    }\n</style>\n<table border=\"1\" class=\"dataframe\">\n  <thead>\n    <tr style=\"text-align: right;\">\n      <th></th>\n      <th>0</th>\n      <th>00</th>\n      <th>000</th>\n      <th>02115</th>\n      <th>03</th>\n      <th>0305</th>\n      <th>0356</th>\n      <th>04</th>\n      <th>062</th>\n      <th>06366</th>\n      <th>...</th>\n      <th>zero</th>\n      <th>zeus</th>\n      <th>zf</th>\n      <th>zheng</th>\n      <th>zillow</th>\n      <th>zogsport</th>\n      <th>zone</th>\n      <th>zoom</th>\n      <th>zuckerberg</th>\n      <th>zurich</th>\n    </tr>\n  </thead>\n  <tbody>\n    <tr>\n      <th>0</th>\n      <td>0</td>\n      <td>0</td>\n      <td>0</td>\n      <td>0</td>\n      <td>0</td>\n      <td>0</td>\n      <td>0</td>\n      <td>0</td>\n      <td>0</td>\n      <td>0</td>\n      <td>...</td>\n      <td>0</td>\n      <td>0</td>\n      <td>0</td>\n      <td>0</td>\n      <td>0</td>\n      <td>0</td>\n      <td>0</td>\n      <td>0</td>\n      <td>0</td>\n      <td>0</td>\n    </tr>\n    <tr>\n      <th>1</th>\n      <td>0</td>\n      <td>0</td>\n      <td>0</td>\n      <td>0</td>\n      <td>0</td>\n      <td>0</td>\n      <td>0</td>\n      <td>0</td>\n      <td>0</td>\n      <td>0</td>\n      <td>...</td>\n      <td>0</td>\n      <td>0</td>\n      <td>0</td>\n      <td>0</td>\n      <td>0</td>\n      <td>0</td>\n      <td>0</td>\n      <td>0</td>\n      <td>0</td>\n      <td>0</td>\n    </tr>\n    <tr>\n      <th>2</th>\n      <td>0</td>\n      <td>0</td>\n      <td>0</td>\n      <td>0</td>\n      <td>0</td>\n      <td>0</td>\n      <td>0</td>\n      <td>0</td>\n      <td>0</td>\n      <td>0</td>\n      <td>...</td>\n      <td>0</td>\n      <td>0</td>\n      <td>0</td>\n      <td>0</td>\n      <td>0</td>\n      <td>0</td>\n      <td>0</td>\n      <td>0</td>\n      <td>0</td>\n      <td>0</td>\n    </tr>\n    <tr>\n      <th>3</th>\n      <td>0</td>\n      <td>0</td>\n      <td>0</td>\n      <td>0</td>\n      <td>0</td>\n      <td>0</td>\n      <td>0</td>\n      <td>0</td>\n      <td>0</td>\n      <td>0</td>\n      <td>...</td>\n      <td>0</td>\n      <td>0</td>\n      <td>0</td>\n      <td>1</td>\n      <td>0</td>\n      <td>0</td>\n      <td>0</td>\n      <td>0</td>\n      <td>0</td>\n      <td>0</td>\n    </tr>\n    <tr>\n      <th>4</th>\n      <td>0</td>\n      <td>0</td>\n      <td>0</td>\n      <td>0</td>\n      <td>0</td>\n      <td>0</td>\n      <td>0</td>\n      <td>0</td>\n      <td>0</td>\n      <td>0</td>\n      <td>...</td>\n      <td>0</td>\n      <td>0</td>\n      <td>0</td>\n      <td>0</td>\n      <td>0</td>\n      <td>0</td>\n      <td>0</td>\n      <td>0</td>\n      <td>0</td>\n      <td>0</td>\n    </tr>\n    <tr>\n      <th>...</th>\n      <td>...</td>\n      <td>...</td>\n      <td>...</td>\n      <td>...</td>\n      <td>...</td>\n      <td>...</td>\n      <td>...</td>\n      <td>...</td>\n      <td>...</td>\n      <td>...</td>\n      <td>...</td>\n      <td>...</td>\n      <td>...</td>\n      <td>...</td>\n      <td>...</td>\n      <td>...</td>\n      <td>...</td>\n      <td>...</td>\n      <td>...</td>\n      <td>...</td>\n      <td>...</td>\n    </tr>\n    <tr>\n      <th>421</th>\n      <td>0</td>\n      <td>0</td>\n      <td>0</td>\n      <td>0</td>\n      <td>0</td>\n      <td>0</td>\n      <td>0</td>\n      <td>0</td>\n      <td>0</td>\n      <td>0</td>\n      <td>...</td>\n      <td>0</td>\n      <td>0</td>\n      <td>0</td>\n      <td>0</td>\n      <td>0</td>\n      <td>0</td>\n      <td>0</td>\n      <td>0</td>\n      <td>0</td>\n      <td>0</td>\n    </tr>\n    <tr>\n      <th>422</th>\n      <td>0</td>\n      <td>0</td>\n      <td>0</td>\n      <td>0</td>\n      <td>0</td>\n      <td>0</td>\n      <td>0</td>\n      <td>0</td>\n      <td>0</td>\n      <td>0</td>\n      <td>...</td>\n      <td>0</td>\n      <td>0</td>\n      <td>0</td>\n      <td>0</td>\n      <td>0</td>\n      <td>0</td>\n      <td>0</td>\n      <td>0</td>\n      <td>0</td>\n      <td>0</td>\n    </tr>\n    <tr>\n      <th>423</th>\n      <td>0</td>\n      <td>0</td>\n      <td>2</td>\n      <td>0</td>\n      <td>0</td>\n      <td>0</td>\n      <td>0</td>\n      <td>0</td>\n      <td>0</td>\n      <td>0</td>\n      <td>...</td>\n      <td>1</td>\n      <td>0</td>\n      <td>0</td>\n      <td>0</td>\n      <td>0</td>\n      <td>0</td>\n      <td>0</td>\n      <td>0</td>\n      <td>0</td>\n      <td>0</td>\n    </tr>\n    <tr>\n      <th>424</th>\n      <td>0</td>\n      <td>0</td>\n      <td>0</td>\n      <td>0</td>\n      <td>0</td>\n      <td>0</td>\n      <td>0</td>\n      <td>0</td>\n      <td>0</td>\n      <td>0</td>\n      <td>...</td>\n      <td>0</td>\n      <td>0</td>\n      <td>0</td>\n      <td>0</td>\n      <td>0</td>\n      <td>0</td>\n      <td>0</td>\n      <td>0</td>\n      <td>0</td>\n      <td>0</td>\n    </tr>\n    <tr>\n      <th>425</th>\n      <td>0</td>\n      <td>0</td>\n      <td>1</td>\n      <td>0</td>\n      <td>0</td>\n      <td>0</td>\n      <td>0</td>\n      <td>0</td>\n      <td>0</td>\n      <td>0</td>\n      <td>...</td>\n      <td>0</td>\n      <td>0</td>\n      <td>0</td>\n      <td>0</td>\n      <td>0</td>\n      <td>0</td>\n      <td>0</td>\n      <td>0</td>\n      <td>0</td>\n      <td>0</td>\n    </tr>\n  </tbody>\n</table>\n<p>426 rows × 6737 columns</p>\n</div>"
     },
     "metadata": {},
     "execution_count": 7
    }
   ],
   "source": [
    "# visualize as dataframe\n",
    "dtm = pd.DataFrame(data=dtm.toarray(), columns=vect.get_feature_names())\n",
    "dtm"
   ]
  },
  {
   "cell_type": "markdown",
   "metadata": {
    "colab_type": "text",
    "id": "Zo1iH_UeY7_n"
   },
   "source": [
    "## 4) Visualize the most common word counts"
   ]
  },
  {
   "cell_type": "code",
   "execution_count": 8,
   "metadata": {
    "colab": {},
    "colab_type": "code",
    "id": "M5LB00uyZKV5"
   },
   "outputs": [
    {
     "output_type": "execute_result",
     "data": {
      "text/plain": [
       "datum         2820\n",
       "experience    1957\n",
       "work          1661\n",
       "data          1646\n",
       "team          1373\n",
       "business      1265\n",
       "science        989\n",
       "product        896\n",
       "model          883\n",
       "analytic       839\n",
       "analysis       812\n",
       "skill          724\n",
       "scientist      710\n",
       "machine        708\n",
       "build          635\n",
       "dtype: int64"
      ]
     },
     "metadata": {},
     "execution_count": 8
    }
   ],
   "source": [
    "dtm.sum().sort_values(ascending=False).head(15)"
   ]
  },
  {
   "cell_type": "markdown",
   "metadata": {
    "colab_type": "text",
    "id": "bwFsTqrVZMYi"
   },
   "source": [
    "## 5) Use Scikit-Learn's tfidfVectorizer to get a TF-IDF feature matrix"
   ]
  },
  {
   "cell_type": "code",
   "execution_count": 9,
   "metadata": {
    "colab": {},
    "colab_type": "code",
    "id": "-gx2gZCbl5Np"
   },
   "outputs": [
    {
     "output_type": "stream",
     "name": "stderr",
     "text": [
      "/Users/keila/.local/share/virtualenvs/DS-Unit-4-Sprint-1-NLP-E0pgGHex/lib/python3.9/site-packages/sklearn/feature_extraction/text.py:489: UserWarning: The parameter 'token_pattern' will not be used since 'tokenizer' is not None'\n  warnings.warn(\"The parameter 'token_pattern' will not be used\"\n"
     ]
    }
   ],
   "source": [
    "# Instantiate vectorizer object\n",
    "tfidf = TfidfVectorizer(tokenizer=create_lemmas)\n",
    "\n",
    "# Create a vocabulary and get word counts per document\n",
    "tfidf.fit(tokens)\n",
    "\n",
    "# Similiar to fit_predict\n",
    "tfidf_dtm = tfidf.transform(tokens)"
   ]
  },
  {
   "cell_type": "code",
   "execution_count": 10,
   "metadata": {},
   "outputs": [
    {
     "output_type": "execute_result",
     "data": {
      "text/plain": [
       "       0   00       000  02115   03  0305  0356   04  062  06366  ...  \\\n",
       "0    0.0  0.0  0.000000    0.0  0.0   0.0   0.0  0.0  0.0    0.0  ...   \n",
       "1    0.0  0.0  0.000000    0.0  0.0   0.0   0.0  0.0  0.0    0.0  ...   \n",
       "2    0.0  0.0  0.000000    0.0  0.0   0.0   0.0  0.0  0.0    0.0  ...   \n",
       "3    0.0  0.0  0.000000    0.0  0.0   0.0   0.0  0.0  0.0    0.0  ...   \n",
       "4    0.0  0.0  0.000000    0.0  0.0   0.0   0.0  0.0  0.0    0.0  ...   \n",
       "..   ...  ...       ...    ...  ...   ...   ...  ...  ...    ...  ...   \n",
       "421  0.0  0.0  0.000000    0.0  0.0   0.0   0.0  0.0  0.0    0.0  ...   \n",
       "422  0.0  0.0  0.000000    0.0  0.0   0.0   0.0  0.0  0.0    0.0  ...   \n",
       "423  0.0  0.0  0.121650    0.0  0.0   0.0   0.0  0.0  0.0    0.0  ...   \n",
       "424  0.0  0.0  0.000000    0.0  0.0   0.0   0.0  0.0  0.0    0.0  ...   \n",
       "425  0.0  0.0  0.038281    0.0  0.0   0.0   0.0  0.0  0.0    0.0  ...   \n",
       "\n",
       "         zero  zeus   zf     zheng  zillow  zogsport  zone  zoom  zuckerberg  \\\n",
       "0    0.000000   0.0  0.0  0.000000     0.0       0.0   0.0   0.0         0.0   \n",
       "1    0.000000   0.0  0.0  0.000000     0.0       0.0   0.0   0.0         0.0   \n",
       "2    0.000000   0.0  0.0  0.000000     0.0       0.0   0.0   0.0         0.0   \n",
       "3    0.000000   0.0  0.0  0.108188     0.0       0.0   0.0   0.0         0.0   \n",
       "4    0.000000   0.0  0.0  0.000000     0.0       0.0   0.0   0.0         0.0   \n",
       "..        ...   ...  ...       ...     ...       ...   ...   ...         ...   \n",
       "421  0.000000   0.0  0.0  0.000000     0.0       0.0   0.0   0.0         0.0   \n",
       "422  0.000000   0.0  0.0  0.000000     0.0       0.0   0.0   0.0         0.0   \n",
       "423  0.102652   0.0  0.0  0.000000     0.0       0.0   0.0   0.0         0.0   \n",
       "424  0.000000   0.0  0.0  0.000000     0.0       0.0   0.0   0.0         0.0   \n",
       "425  0.000000   0.0  0.0  0.000000     0.0       0.0   0.0   0.0         0.0   \n",
       "\n",
       "     zurich  \n",
       "0       0.0  \n",
       "1       0.0  \n",
       "2       0.0  \n",
       "3       0.0  \n",
       "4       0.0  \n",
       "..      ...  \n",
       "421     0.0  \n",
       "422     0.0  \n",
       "423     0.0  \n",
       "424     0.0  \n",
       "425     0.0  \n",
       "\n",
       "[426 rows x 6737 columns]"
      ],
      "text/html": "<div>\n<style scoped>\n    .dataframe tbody tr th:only-of-type {\n        vertical-align: middle;\n    }\n\n    .dataframe tbody tr th {\n        vertical-align: top;\n    }\n\n    .dataframe thead th {\n        text-align: right;\n    }\n</style>\n<table border=\"1\" class=\"dataframe\">\n  <thead>\n    <tr style=\"text-align: right;\">\n      <th></th>\n      <th>0</th>\n      <th>00</th>\n      <th>000</th>\n      <th>02115</th>\n      <th>03</th>\n      <th>0305</th>\n      <th>0356</th>\n      <th>04</th>\n      <th>062</th>\n      <th>06366</th>\n      <th>...</th>\n      <th>zero</th>\n      <th>zeus</th>\n      <th>zf</th>\n      <th>zheng</th>\n      <th>zillow</th>\n      <th>zogsport</th>\n      <th>zone</th>\n      <th>zoom</th>\n      <th>zuckerberg</th>\n      <th>zurich</th>\n    </tr>\n  </thead>\n  <tbody>\n    <tr>\n      <th>0</th>\n      <td>0.0</td>\n      <td>0.0</td>\n      <td>0.000000</td>\n      <td>0.0</td>\n      <td>0.0</td>\n      <td>0.0</td>\n      <td>0.0</td>\n      <td>0.0</td>\n      <td>0.0</td>\n      <td>0.0</td>\n      <td>...</td>\n      <td>0.000000</td>\n      <td>0.0</td>\n      <td>0.0</td>\n      <td>0.000000</td>\n      <td>0.0</td>\n      <td>0.0</td>\n      <td>0.0</td>\n      <td>0.0</td>\n      <td>0.0</td>\n      <td>0.0</td>\n    </tr>\n    <tr>\n      <th>1</th>\n      <td>0.0</td>\n      <td>0.0</td>\n      <td>0.000000</td>\n      <td>0.0</td>\n      <td>0.0</td>\n      <td>0.0</td>\n      <td>0.0</td>\n      <td>0.0</td>\n      <td>0.0</td>\n      <td>0.0</td>\n      <td>...</td>\n      <td>0.000000</td>\n      <td>0.0</td>\n      <td>0.0</td>\n      <td>0.000000</td>\n      <td>0.0</td>\n      <td>0.0</td>\n      <td>0.0</td>\n      <td>0.0</td>\n      <td>0.0</td>\n      <td>0.0</td>\n    </tr>\n    <tr>\n      <th>2</th>\n      <td>0.0</td>\n      <td>0.0</td>\n      <td>0.000000</td>\n      <td>0.0</td>\n      <td>0.0</td>\n      <td>0.0</td>\n      <td>0.0</td>\n      <td>0.0</td>\n      <td>0.0</td>\n      <td>0.0</td>\n      <td>...</td>\n      <td>0.000000</td>\n      <td>0.0</td>\n      <td>0.0</td>\n      <td>0.000000</td>\n      <td>0.0</td>\n      <td>0.0</td>\n      <td>0.0</td>\n      <td>0.0</td>\n      <td>0.0</td>\n      <td>0.0</td>\n    </tr>\n    <tr>\n      <th>3</th>\n      <td>0.0</td>\n      <td>0.0</td>\n      <td>0.000000</td>\n      <td>0.0</td>\n      <td>0.0</td>\n      <td>0.0</td>\n      <td>0.0</td>\n      <td>0.0</td>\n      <td>0.0</td>\n      <td>0.0</td>\n      <td>...</td>\n      <td>0.000000</td>\n      <td>0.0</td>\n      <td>0.0</td>\n      <td>0.108188</td>\n      <td>0.0</td>\n      <td>0.0</td>\n      <td>0.0</td>\n      <td>0.0</td>\n      <td>0.0</td>\n      <td>0.0</td>\n    </tr>\n    <tr>\n      <th>4</th>\n      <td>0.0</td>\n      <td>0.0</td>\n      <td>0.000000</td>\n      <td>0.0</td>\n      <td>0.0</td>\n      <td>0.0</td>\n      <td>0.0</td>\n      <td>0.0</td>\n      <td>0.0</td>\n      <td>0.0</td>\n      <td>...</td>\n      <td>0.000000</td>\n      <td>0.0</td>\n      <td>0.0</td>\n      <td>0.000000</td>\n      <td>0.0</td>\n      <td>0.0</td>\n      <td>0.0</td>\n      <td>0.0</td>\n      <td>0.0</td>\n      <td>0.0</td>\n    </tr>\n    <tr>\n      <th>...</th>\n      <td>...</td>\n      <td>...</td>\n      <td>...</td>\n      <td>...</td>\n      <td>...</td>\n      <td>...</td>\n      <td>...</td>\n      <td>...</td>\n      <td>...</td>\n      <td>...</td>\n      <td>...</td>\n      <td>...</td>\n      <td>...</td>\n      <td>...</td>\n      <td>...</td>\n      <td>...</td>\n      <td>...</td>\n      <td>...</td>\n      <td>...</td>\n      <td>...</td>\n      <td>...</td>\n    </tr>\n    <tr>\n      <th>421</th>\n      <td>0.0</td>\n      <td>0.0</td>\n      <td>0.000000</td>\n      <td>0.0</td>\n      <td>0.0</td>\n      <td>0.0</td>\n      <td>0.0</td>\n      <td>0.0</td>\n      <td>0.0</td>\n      <td>0.0</td>\n      <td>...</td>\n      <td>0.000000</td>\n      <td>0.0</td>\n      <td>0.0</td>\n      <td>0.000000</td>\n      <td>0.0</td>\n      <td>0.0</td>\n      <td>0.0</td>\n      <td>0.0</td>\n      <td>0.0</td>\n      <td>0.0</td>\n    </tr>\n    <tr>\n      <th>422</th>\n      <td>0.0</td>\n      <td>0.0</td>\n      <td>0.000000</td>\n      <td>0.0</td>\n      <td>0.0</td>\n      <td>0.0</td>\n      <td>0.0</td>\n      <td>0.0</td>\n      <td>0.0</td>\n      <td>0.0</td>\n      <td>...</td>\n      <td>0.000000</td>\n      <td>0.0</td>\n      <td>0.0</td>\n      <td>0.000000</td>\n      <td>0.0</td>\n      <td>0.0</td>\n      <td>0.0</td>\n      <td>0.0</td>\n      <td>0.0</td>\n      <td>0.0</td>\n    </tr>\n    <tr>\n      <th>423</th>\n      <td>0.0</td>\n      <td>0.0</td>\n      <td>0.121650</td>\n      <td>0.0</td>\n      <td>0.0</td>\n      <td>0.0</td>\n      <td>0.0</td>\n      <td>0.0</td>\n      <td>0.0</td>\n      <td>0.0</td>\n      <td>...</td>\n      <td>0.102652</td>\n      <td>0.0</td>\n      <td>0.0</td>\n      <td>0.000000</td>\n      <td>0.0</td>\n      <td>0.0</td>\n      <td>0.0</td>\n      <td>0.0</td>\n      <td>0.0</td>\n      <td>0.0</td>\n    </tr>\n    <tr>\n      <th>424</th>\n      <td>0.0</td>\n      <td>0.0</td>\n      <td>0.000000</td>\n      <td>0.0</td>\n      <td>0.0</td>\n      <td>0.0</td>\n      <td>0.0</td>\n      <td>0.0</td>\n      <td>0.0</td>\n      <td>0.0</td>\n      <td>...</td>\n      <td>0.000000</td>\n      <td>0.0</td>\n      <td>0.0</td>\n      <td>0.000000</td>\n      <td>0.0</td>\n      <td>0.0</td>\n      <td>0.0</td>\n      <td>0.0</td>\n      <td>0.0</td>\n      <td>0.0</td>\n    </tr>\n    <tr>\n      <th>425</th>\n      <td>0.0</td>\n      <td>0.0</td>\n      <td>0.038281</td>\n      <td>0.0</td>\n      <td>0.0</td>\n      <td>0.0</td>\n      <td>0.0</td>\n      <td>0.0</td>\n      <td>0.0</td>\n      <td>0.0</td>\n      <td>...</td>\n      <td>0.000000</td>\n      <td>0.0</td>\n      <td>0.0</td>\n      <td>0.000000</td>\n      <td>0.0</td>\n      <td>0.0</td>\n      <td>0.0</td>\n      <td>0.0</td>\n      <td>0.0</td>\n      <td>0.0</td>\n    </tr>\n  </tbody>\n</table>\n<p>426 rows × 6737 columns</p>\n</div>"
     },
     "metadata": {},
     "execution_count": 10
    }
   ],
   "source": [
    "tfidf_dtm = pd.DataFrame(data=tfidf_dtm.toarray(), columns=tfidf.get_feature_names())\n",
    "tfidf_dtm"
   ]
  },
  {
   "cell_type": "markdown",
   "metadata": {},
   "source": [
    "## 6) Create a NearestNeighbor Model. Write the description of your ideal datascience job and query your job listings. "
   ]
  },
  {
   "cell_type": "code",
   "execution_count": 12,
   "metadata": {},
   "outputs": [
    {
     "output_type": "execute_result",
     "data": {
      "text/plain": [
       "NearestNeighbors(algorithm='kd_tree')"
      ]
     },
     "metadata": {},
     "execution_count": 12
    }
   ],
   "source": [
    "# Fit on TFIDF DTM\n",
    "nn = NearestNeighbors(n_neighbors=5, algorithm='kd_tree')\n",
    "nn.fit(tfidf_dtm)"
   ]
  },
  {
   "cell_type": "code",
   "execution_count": 23,
   "metadata": {},
   "outputs": [],
   "source": [
    "my_description = [\"As a Machine Learning Engineer / Data Scientist within the Ground Truth Systems Team, you will be part of a team building infrastructure and tools for exciting new technologies that will shape our future. We build web services that work at scale to support new products and also enable Machine Learning development workflows. We are looking for a Machine learning (ML) engineer with a broad experience and knowledge in machine/deep learning and computer vision. You will be part of every stage of development from concept to deployment. The Engineer will be working on cutting edge problems in efficient data annotation building ML models that assist humans in reducing labeling efforts without sacrificing quality. The candidate should be proficient in the theoretical fundamentals of the above areas with experience in applying them to solve real-world problems.  Key Qualifications  Key Qualifications • Strong coding skills in Python using scientific libraries like numpy, scipy. • Experience with one or more deep learning frameworks such as PyTorch, Tensorflow, or Keras is a must. • Experience with training deep neural networks on large-scale datasets. • Understanding of data structures, software design principles and algorithms. • Interest in building machine learning models that assist humans in reducing labeling efforts. • Deep knowledge of traditional ML concepts such as GMMs, SVMs, trees, and boosting as well as more recent deep learning fundamentals. • Previous publication experience in conferences such as CVPR, ICCV, NeurIPS, and ICLR will be strongly considered  Description  Description The Video Computer Vision org is a centralized applied research and engineering organization responsible for developing real-time on-device Computer Vision and Machine Perception technologies across Apple products. We balance research and product to deliver Apple quality, state-of-the-art experiences, innovating through the full stack, and partnering with HW, SW and ML teams to influence the sensor and silicon roadmap that brings our vision to life. Examples include FaceID, Animoji/Memoji, Scene Understanding, People Understanding and Positional Tracking (VIO/SLAM).  Education & Experience  Education & Experience MS or PHD in CS/CE/EE (or equivalent) with emphasis in machine learning and computer vision\"]"
   ]
  },
  {
   "cell_type": "code",
   "execution_count": 26,
   "metadata": {},
   "outputs": [],
   "source": [
    "# vectorize my description (using model that created the dtm I'm comparing against) and make it dense array\n",
    "my_description_dense_arr = tfidf.transform(my_description).toarray()\n",
    "\n",
    "# Query Using NN kneighbors \n",
    "neigh_dist, neigh_index = nn.kneighbors(my_description_dense_arr)"
   ]
  },
  {
   "cell_type": "code",
   "execution_count": 27,
   "metadata": {},
   "outputs": [
    {
     "output_type": "execute_result",
     "data": {
      "text/plain": [
       "array([[1.17742676, 1.1922605 , 1.1922605 , 1.21785287, 1.23572137]])"
      ]
     },
     "metadata": {},
     "execution_count": 27
    }
   ],
   "source": [
    "neigh_dist"
   ]
  },
  {
   "cell_type": "code",
   "execution_count": 28,
   "metadata": {},
   "outputs": [
    {
     "output_type": "execute_result",
     "data": {
      "text/plain": [
       "array([[283, 272, 279, 201,  52]])"
      ]
     },
     "metadata": {},
     "execution_count": 28
    }
   ],
   "source": [
    "neigh_index"
   ]
  },
  {
   "cell_type": "code",
   "execution_count": 29,
   "metadata": {},
   "outputs": [
    {
     "output_type": "execute_result",
     "data": {
      "text/plain": [
       "'\"The challenge Adobe is looking for a Senior Data Scientist who will be building the next generation of marketing cloud products by leveraging machine learning  predictive modeling and optimization techniques  These products would help businesses understand  manage  and optimize the experience throughout the customer journey  Example applications include real time online media optimization  media attribution  predictive sales analytics  product recommendation  mobile analytics  predictive customer scoring and segmentation and large scale experimentation  Ideal candidates will have a strong academic background as well as technical skills including applied statistics  machine learning  data mining  and software development  Familiarity working with large scale datasets and big data techniques would be a plus  What you xe2 x80 x99ll do Develop predictive models on large scale datasets to address various business problems through leveraging advanced statistical modeling  machine learning  data mining or deep learning techniques  Develop and implement scalable and efficient modeling algorithms that can work with large scale data in production systems Research and develop state of the art ML solutions to address the challenges in Data Science such as cold start  sparse and noisy data etc  Optimize customer marketing journey to achieve optimal business outcome using approaches such as reinforcement learning  HMM and or deep learning Make sense of text and image content data using NLP and or deep learning approaches Collaborate with product management and engineering groups to develop new products and features  What you need to succeed PhD or MS degree in Computer Science  Electrical Engineering  Statistics  Applied Math  Econometrics  Operations Research  or other related fields  Deep understanding of statistical modeling  machine learning  or data mining concepts  and a track record of solving problems with these methods  Proficient in one or more programming languages such as Python  Java and C Familiar with one or more machine learning or statistical modeling tools such as R  SciKitLearn  SparkML MLlib   Tensorflow Strong analytical and quantitative problem solving ability  Possess natural curiosity  creativity  and technical acumen  being capable of asking critical questions about data and always ready to solve any challenges Excellent communication  relationship skills  and a strong team player  Preferred Qualifications Experience with big data techniques  Hadoop  MapReduce  Spark  and querying tools  such as Hive  Pig  Impala   Knowledge of deep learning  reinforcement learning  experimental design  ANOVA  statistical inference  and multivariate testing  At Adobe  you will be immersed in an exceptional work environment that is recognized throughout the world on Best Companies lists   You will also be surrounded by colleagues who are committed to helping each other grow through our unique Check In approach where ongoing feedback flows freely  If you xe2 x80 x99re looking to make an impact  Adobe s the place for you  Discover what our employees are saying about their career experiences on the Adobe Life blog and explore the meaningful benefits we offer  Adobe is an equal opportunity employer  We welcome and encourage diversity in the workplace regardless of race  gender  religion  age   sexual orientation  gender identity  disability or veteran status \"'"
      ]
     },
     "metadata": {},
     "execution_count": 29
    }
   ],
   "source": [
    "# Take a look at closest neighbor\n",
    "job_listings['description'][52]"
   ]
  },
  {
   "cell_type": "markdown",
   "metadata": {
    "colab_type": "text",
    "id": "FiDfTWceoRkH"
   },
   "source": [
    "## Stretch Goals\n",
    "\n",
    " - Try different visualizations for words and frequencies - what story do you want to tell with the data?\n",
    " - Scrape Job Listings for the job title \"Data Analyst\". How do these differ from Data Scientist Job Listings\n",
    " - Try and identify requirements for experience specific technologies that are asked for in the job listings. How are those distributed among the job listings?\n",
    " - Use a clustering algorithm to cluster documents by their most important terms. Do the clusters reveal any common themes?\n",
    "  - **Hint:** K-means might not be the best algorithm for this. Do a little bit of research to see what might be good for this. Also, remember that algorithms that depend on Euclidean distance break down with high dimensional data.\n",
    " - Create a labeled dataset - which jobs will you apply for? Train a model to select the jobs you are most likely to apply for. :) "
   ]
  }
 ],
 "metadata": {
  "colab": {
   "collapsed_sections": [],
   "name": "LS_DS_422_BOW_Assignment.ipynb",
   "provenance": [],
   "version": "0.3.2"
  },
  "kernel_info": {
   "name": "python3"
  },
  "kernelspec": {
   "name": "python390jvsc74a57bd031573d84b2a5682177834a321af42eea648d9a4417564de6bd7841ec3642bc80",
   "display_name": "Python 3.9.0 64-bit ('DS-Unit-4-Sprint-1-NLP': pipenv)"
  },
  "language_info": {
   "codemirror_mode": {
    "name": "ipython",
    "version": 3
   },
   "file_extension": ".py",
   "mimetype": "text/x-python",
   "name": "python",
   "nbconvert_exporter": "python",
   "pygments_lexer": "ipython3",
   "version": "3.9.0-final"
  },
  "nteract": {
   "version": "0.14.3"
  }
 },
 "nbformat": 4,
 "nbformat_minor": 4
}