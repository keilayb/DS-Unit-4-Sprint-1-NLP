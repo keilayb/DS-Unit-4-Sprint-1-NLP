{
 "cells": [
  {
   "cell_type": "markdown",
   "metadata": {},
   "source": [
    "<img align=\"left\" src=\"https://lever-client-logos.s3.amazonaws.com/864372b1-534c-480e-acd5-9711f850815c-1524247202159.png\" width=200>\n",
    "<br></br>\n",
    "<br></br>\n",
    "\n",
    "# Topic Modeling\n",
    "## *Data Science Unit 4 Sprint 1 Assignment 4*\n",
    "\n",
    "Analyze a corpus of Amazon reviews from Unit 4 Sprint 1 Module 1's lecture using topic modeling: \n",
    "\n",
    "- Fit a Gensim LDA topic model on Amazon Reviews\n",
    "- Select appropriate number of topics\n",
    "- Create some dope visualization of the topics\n",
    "- Write a few bullets on your findings in markdown at the end\n",
    "- **Note**: You don't *have* to use generators for this assignment"
   ]
  },
  {
   "cell_type": "code",
   "execution_count": 1,
   "metadata": {},
   "outputs": [
    {
     "output_type": "stream",
     "name": "stderr",
     "text": [
      "/Users/keila/.local/share/virtualenvs/DS-Unit-4-Sprint-1-NLP-E0pgGHex/lib/python3.8/site-packages/gensim/similarities/__init__.py:15: UserWarning: The gensim.similarities.levenshtein submodule is disabled, because the optional Levenshtein package <https://pypi.org/project/python-Levenshtein/> is unavailable. Install Levenhstein (e.g. `pip install python-Levenshtein`) to suppress this warning.\n",
      "  warnings.warn(msg)\n",
      "/Users/keila/.local/share/virtualenvs/DS-Unit-4-Sprint-1-NLP-E0pgGHex/lib/python3.8/site-packages/ipykernel/pylab/config.py:70: DeprecationWarning: InlineBackend._figure_formats_changed is deprecated in traitlets 4.1: use @observe and @unobserve instead.\n",
      "  def _figure_formats_changed(self, name, old, new):\n"
     ]
    }
   ],
   "source": [
    "# import statements\n",
    "import re\n",
    "import pandas as pd\n",
    "import numpy as np\n",
    "from pprint import pprint\n",
    "\n",
    "import gensim\n",
    "import gensim.corpora as corpora\n",
    "from gensim.utils import simple_preprocess\n",
    "from gensim.models import CoherenceModel\n",
    "\n",
    "import spacy\n",
    "\n",
    "import pyLDAvis\n",
    "import pyLDAvis.gensim_models\n",
    "import matplotlib.pyplot as plt"
   ]
  },
  {
   "cell_type": "code",
   "execution_count": 2,
   "metadata": {},
   "outputs": [
    {
     "output_type": "stream",
     "name": "stderr",
     "text": [
      "/Users/keila/.local/share/virtualenvs/DS-Unit-4-Sprint-1-NLP-E0pgGHex/lib/python3.8/site-packages/ipykernel/ipkernel.py:283: DeprecationWarning: `should_run_async` will not call `transform_cell` automatically in the future. Please pass the result to `transformed_cell` argument and any exception that happen during thetransform in `preprocessing_exc_tuple` in IPython 7.17 and above.\n  and should_run_async(code)\n"
     ]
    },
    {
     "output_type": "execute_result",
     "data": {
      "text/plain": [
       "                     id             dateAdded           dateUpdated  \\\n",
       "0  AVpgNzjwLJeJML43Kpxn  2015-10-30T08:59:32Z  2019-04-25T09:08:16Z   \n",
       "1  AVpgNzjwLJeJML43Kpxn  2015-10-30T08:59:32Z  2019-04-25T09:08:16Z   \n",
       "2  AVpgNzjwLJeJML43Kpxn  2015-10-30T08:59:32Z  2019-04-25T09:08:16Z   \n",
       "3  AVpgNzjwLJeJML43Kpxn  2015-10-30T08:59:32Z  2019-04-25T09:08:16Z   \n",
       "4  AVpgNzjwLJeJML43Kpxn  2015-10-30T08:59:32Z  2019-04-25T09:08:16Z   \n",
       "\n",
       "                                                name                  asins  \\\n",
       "0  AmazonBasics AAA Performance Alkaline Batterie...  B00QWO9P0O,B00LH3DMUO   \n",
       "1  AmazonBasics AAA Performance Alkaline Batterie...  B00QWO9P0O,B00LH3DMUO   \n",
       "2  AmazonBasics AAA Performance Alkaline Batterie...  B00QWO9P0O,B00LH3DMUO   \n",
       "3  AmazonBasics AAA Performance Alkaline Batterie...  B00QWO9P0O,B00LH3DMUO   \n",
       "4  AmazonBasics AAA Performance Alkaline Batterie...  B00QWO9P0O,B00LH3DMUO   \n",
       "\n",
       "          brand                                         categories  \\\n",
       "0  Amazonbasics  AA,AAA,Health,Electronics,Health & Household,C...   \n",
       "1  Amazonbasics  AA,AAA,Health,Electronics,Health & Household,C...   \n",
       "2  Amazonbasics  AA,AAA,Health,Electronics,Health & Household,C...   \n",
       "3  Amazonbasics  AA,AAA,Health,Electronics,Health & Household,C...   \n",
       "4  Amazonbasics  AA,AAA,Health,Electronics,Health & Household,C...   \n",
       "\n",
       "  primaryCategories                                          imageURLs  \\\n",
       "0   Health & Beauty  https://images-na.ssl-images-amazon.com/images...   \n",
       "1   Health & Beauty  https://images-na.ssl-images-amazon.com/images...   \n",
       "2   Health & Beauty  https://images-na.ssl-images-amazon.com/images...   \n",
       "3   Health & Beauty  https://images-na.ssl-images-amazon.com/images...   \n",
       "4   Health & Beauty  https://images-na.ssl-images-amazon.com/images...   \n",
       "\n",
       "                                                keys  ... reviews.didPurchase  \\\n",
       "0  amazonbasics/hl002619,amazonbasicsaaaperforman...  ...                 NaN   \n",
       "1  amazonbasics/hl002619,amazonbasicsaaaperforman...  ...                 NaN   \n",
       "2  amazonbasics/hl002619,amazonbasicsaaaperforman...  ...                 NaN   \n",
       "3  amazonbasics/hl002619,amazonbasicsaaaperforman...  ...                 NaN   \n",
       "4  amazonbasics/hl002619,amazonbasicsaaaperforman...  ...                 NaN   \n",
       "\n",
       "  reviews.doRecommend reviews.id reviews.numHelpful reviews.rating  \\\n",
       "0                 NaN        NaN                NaN              3   \n",
       "1                 NaN        NaN                NaN              4   \n",
       "2                 NaN        NaN                NaN              5   \n",
       "3                 NaN        NaN                NaN              5   \n",
       "4                 NaN        NaN                NaN              5   \n",
       "\n",
       "                                  reviews.sourceURLs  \\\n",
       "0  https://www.amazon.com/product-reviews/B00QWO9...   \n",
       "1  https://www.amazon.com/product-reviews/B00QWO9...   \n",
       "2  https://www.amazon.com/product-reviews/B00QWO9...   \n",
       "3  https://www.amazon.com/product-reviews/B00QWO9...   \n",
       "4  https://www.amazon.com/product-reviews/B00QWO9...   \n",
       "\n",
       "                                        reviews.text  \\\n",
       "0  I order 3 of them and one of the item is bad q...   \n",
       "1  Bulk is always the less expensive way to go fo...   \n",
       "2  Well they are not Duracell but for the price i...   \n",
       "3  Seem to work as well as name brand batteries a...   \n",
       "4  These batteries are very long lasting the pric...   \n",
       "\n",
       "                                       reviews.title  reviews.username  \\\n",
       "0  ... 3 of them and one of the item is bad quali...        Byger yang   \n",
       "1  ... always the less expensive way to go for pr...              ByMG   \n",
       "2  ... are not Duracell but for the price i am ha...  BySharon Lambert   \n",
       "3  ... as well as name brand batteries at a much ...     Bymark sexson   \n",
       "4  ... batteries are very long lasting the price ...           Bylinda   \n",
       "\n",
       "                                          sourceURLs  \n",
       "0  https://www.barcodable.com/upc/841710106442,ht...  \n",
       "1  https://www.barcodable.com/upc/841710106442,ht...  \n",
       "2  https://www.barcodable.com/upc/841710106442,ht...  \n",
       "3  https://www.barcodable.com/upc/841710106442,ht...  \n",
       "4  https://www.barcodable.com/upc/841710106442,ht...  \n",
       "\n",
       "[5 rows x 24 columns]"
      ],
      "text/html": "<div>\n<style scoped>\n    .dataframe tbody tr th:only-of-type {\n        vertical-align: middle;\n    }\n\n    .dataframe tbody tr th {\n        vertical-align: top;\n    }\n\n    .dataframe thead th {\n        text-align: right;\n    }\n</style>\n<table border=\"1\" class=\"dataframe\">\n  <thead>\n    <tr style=\"text-align: right;\">\n      <th></th>\n      <th>id</th>\n      <th>dateAdded</th>\n      <th>dateUpdated</th>\n      <th>name</th>\n      <th>asins</th>\n      <th>brand</th>\n      <th>categories</th>\n      <th>primaryCategories</th>\n      <th>imageURLs</th>\n      <th>keys</th>\n      <th>...</th>\n      <th>reviews.didPurchase</th>\n      <th>reviews.doRecommend</th>\n      <th>reviews.id</th>\n      <th>reviews.numHelpful</th>\n      <th>reviews.rating</th>\n      <th>reviews.sourceURLs</th>\n      <th>reviews.text</th>\n      <th>reviews.title</th>\n      <th>reviews.username</th>\n      <th>sourceURLs</th>\n    </tr>\n  </thead>\n  <tbody>\n    <tr>\n      <th>0</th>\n      <td>AVpgNzjwLJeJML43Kpxn</td>\n      <td>2015-10-30T08:59:32Z</td>\n      <td>2019-04-25T09:08:16Z</td>\n      <td>AmazonBasics AAA Performance Alkaline Batterie...</td>\n      <td>B00QWO9P0O,B00LH3DMUO</td>\n      <td>Amazonbasics</td>\n      <td>AA,AAA,Health,Electronics,Health &amp; Household,C...</td>\n      <td>Health &amp; Beauty</td>\n      <td>https://images-na.ssl-images-amazon.com/images...</td>\n      <td>amazonbasics/hl002619,amazonbasicsaaaperforman...</td>\n      <td>...</td>\n      <td>NaN</td>\n      <td>NaN</td>\n      <td>NaN</td>\n      <td>NaN</td>\n      <td>3</td>\n      <td>https://www.amazon.com/product-reviews/B00QWO9...</td>\n      <td>I order 3 of them and one of the item is bad q...</td>\n      <td>... 3 of them and one of the item is bad quali...</td>\n      <td>Byger yang</td>\n      <td>https://www.barcodable.com/upc/841710106442,ht...</td>\n    </tr>\n    <tr>\n      <th>1</th>\n      <td>AVpgNzjwLJeJML43Kpxn</td>\n      <td>2015-10-30T08:59:32Z</td>\n      <td>2019-04-25T09:08:16Z</td>\n      <td>AmazonBasics AAA Performance Alkaline Batterie...</td>\n      <td>B00QWO9P0O,B00LH3DMUO</td>\n      <td>Amazonbasics</td>\n      <td>AA,AAA,Health,Electronics,Health &amp; Household,C...</td>\n      <td>Health &amp; Beauty</td>\n      <td>https://images-na.ssl-images-amazon.com/images...</td>\n      <td>amazonbasics/hl002619,amazonbasicsaaaperforman...</td>\n      <td>...</td>\n      <td>NaN</td>\n      <td>NaN</td>\n      <td>NaN</td>\n      <td>NaN</td>\n      <td>4</td>\n      <td>https://www.amazon.com/product-reviews/B00QWO9...</td>\n      <td>Bulk is always the less expensive way to go fo...</td>\n      <td>... always the less expensive way to go for pr...</td>\n      <td>ByMG</td>\n      <td>https://www.barcodable.com/upc/841710106442,ht...</td>\n    </tr>\n    <tr>\n      <th>2</th>\n      <td>AVpgNzjwLJeJML43Kpxn</td>\n      <td>2015-10-30T08:59:32Z</td>\n      <td>2019-04-25T09:08:16Z</td>\n      <td>AmazonBasics AAA Performance Alkaline Batterie...</td>\n      <td>B00QWO9P0O,B00LH3DMUO</td>\n      <td>Amazonbasics</td>\n      <td>AA,AAA,Health,Electronics,Health &amp; Household,C...</td>\n      <td>Health &amp; Beauty</td>\n      <td>https://images-na.ssl-images-amazon.com/images...</td>\n      <td>amazonbasics/hl002619,amazonbasicsaaaperforman...</td>\n      <td>...</td>\n      <td>NaN</td>\n      <td>NaN</td>\n      <td>NaN</td>\n      <td>NaN</td>\n      <td>5</td>\n      <td>https://www.amazon.com/product-reviews/B00QWO9...</td>\n      <td>Well they are not Duracell but for the price i...</td>\n      <td>... are not Duracell but for the price i am ha...</td>\n      <td>BySharon Lambert</td>\n      <td>https://www.barcodable.com/upc/841710106442,ht...</td>\n    </tr>\n    <tr>\n      <th>3</th>\n      <td>AVpgNzjwLJeJML43Kpxn</td>\n      <td>2015-10-30T08:59:32Z</td>\n      <td>2019-04-25T09:08:16Z</td>\n      <td>AmazonBasics AAA Performance Alkaline Batterie...</td>\n      <td>B00QWO9P0O,B00LH3DMUO</td>\n      <td>Amazonbasics</td>\n      <td>AA,AAA,Health,Electronics,Health &amp; Household,C...</td>\n      <td>Health &amp; Beauty</td>\n      <td>https://images-na.ssl-images-amazon.com/images...</td>\n      <td>amazonbasics/hl002619,amazonbasicsaaaperforman...</td>\n      <td>...</td>\n      <td>NaN</td>\n      <td>NaN</td>\n      <td>NaN</td>\n      <td>NaN</td>\n      <td>5</td>\n      <td>https://www.amazon.com/product-reviews/B00QWO9...</td>\n      <td>Seem to work as well as name brand batteries a...</td>\n      <td>... as well as name brand batteries at a much ...</td>\n      <td>Bymark sexson</td>\n      <td>https://www.barcodable.com/upc/841710106442,ht...</td>\n    </tr>\n    <tr>\n      <th>4</th>\n      <td>AVpgNzjwLJeJML43Kpxn</td>\n      <td>2015-10-30T08:59:32Z</td>\n      <td>2019-04-25T09:08:16Z</td>\n      <td>AmazonBasics AAA Performance Alkaline Batterie...</td>\n      <td>B00QWO9P0O,B00LH3DMUO</td>\n      <td>Amazonbasics</td>\n      <td>AA,AAA,Health,Electronics,Health &amp; Household,C...</td>\n      <td>Health &amp; Beauty</td>\n      <td>https://images-na.ssl-images-amazon.com/images...</td>\n      <td>amazonbasics/hl002619,amazonbasicsaaaperforman...</td>\n      <td>...</td>\n      <td>NaN</td>\n      <td>NaN</td>\n      <td>NaN</td>\n      <td>NaN</td>\n      <td>5</td>\n      <td>https://www.amazon.com/product-reviews/B00QWO9...</td>\n      <td>These batteries are very long lasting the pric...</td>\n      <td>... batteries are very long lasting the price ...</td>\n      <td>Bylinda</td>\n      <td>https://www.barcodable.com/upc/841710106442,ht...</td>\n    </tr>\n  </tbody>\n</table>\n<p>5 rows × 24 columns</p>\n</div>"
     },
     "metadata": {},
     "execution_count": 2
    }
   ],
   "source": [
    "# read in data\n",
    "amazon_revs = pd.read_csv('../module1-text-data/data/Datafiniti_Amazon_Consumer_Reviews_of_Amazon_Products_May19.csv')\n",
    "amazon_revs.head()"
   ]
  },
  {
   "cell_type": "code",
   "execution_count": 3,
   "metadata": {},
   "outputs": [
    {
     "output_type": "stream",
     "name": "stdout",
     "text": [
      "<class 'pandas.core.frame.DataFrame'>\n",
      "RangeIndex: 28332 entries, 0 to 28331\n",
      "Data columns (total 24 columns):\n",
      " #   Column               Non-Null Count  Dtype  \n",
      "---  ------               --------------  -----  \n",
      " 0   id                   28332 non-null  object \n",
      " 1   dateAdded            28332 non-null  object \n",
      " 2   dateUpdated          28332 non-null  object \n",
      " 3   name                 28332 non-null  object \n",
      " 4   asins                28332 non-null  object \n",
      " 5   brand                28332 non-null  object \n",
      " 6   categories           28332 non-null  object \n",
      " 7   primaryCategories    28332 non-null  object \n",
      " 8   imageURLs            28332 non-null  object \n",
      " 9   keys                 28332 non-null  object \n",
      " 10  manufacturer         28332 non-null  object \n",
      " 11  manufacturerNumber   28332 non-null  object \n",
      " 12  reviews.date         28332 non-null  object \n",
      " 13  reviews.dateSeen     28332 non-null  object \n",
      " 14  reviews.didPurchase  9 non-null      object \n",
      " 15  reviews.doRecommend  16086 non-null  object \n",
      " 16  reviews.id           41 non-null     float64\n",
      " 17  reviews.numHelpful   16115 non-null  float64\n",
      " 18  reviews.rating       28332 non-null  int64  \n",
      " 19  reviews.sourceURLs   28332 non-null  object \n",
      " 20  reviews.text         28332 non-null  object \n",
      " 21  reviews.title        28332 non-null  object \n",
      " 22  reviews.username     28332 non-null  object \n",
      " 23  sourceURLs           28332 non-null  object \n",
      "dtypes: float64(2), int64(1), object(21)\n",
      "memory usage: 5.2+ MB\n",
      "/Users/keila/.local/share/virtualenvs/DS-Unit-4-Sprint-1-NLP-E0pgGHex/lib/python3.8/site-packages/ipykernel/ipkernel.py:283: DeprecationWarning: `should_run_async` will not call `transform_cell` automatically in the future. Please pass the result to `transformed_cell` argument and any exception that happen during thetransform in `preprocessing_exc_tuple` in IPython 7.17 and above.\n",
      "  and should_run_async(code)\n"
     ]
    }
   ],
   "source": [
    "# take a look at the features\n",
    "amazon_revs.info()"
   ]
  },
  {
   "cell_type": "code",
   "execution_count": 4,
   "metadata": {},
   "outputs": [
    {
     "output_type": "stream",
     "name": "stderr",
     "text": [
      "/Users/keila/.local/share/virtualenvs/DS-Unit-4-Sprint-1-NLP-E0pgGHex/lib/python3.8/site-packages/ipykernel/ipkernel.py:283: DeprecationWarning: `should_run_async` will not call `transform_cell` automatically in the future. Please pass the result to `transformed_cell` argument and any exception that happen during thetransform in `preprocessing_exc_tuple` in IPython 7.17 and above.\n  and should_run_async(code)\n"
     ]
    },
    {
     "output_type": "execute_result",
     "data": {
      "text/plain": [
       "                                        reviews.text  \\\n",
       "0  I order 3 of them and one of the item is bad q...   \n",
       "1  Bulk is always the less expensive way to go fo...   \n",
       "2  Well they are not Duracell but for the price i...   \n",
       "3  Seem to work as well as name brand batteries a...   \n",
       "4  These batteries are very long lasting the pric...   \n",
       "\n",
       "                                          categories primaryCategories  \\\n",
       "0  AA,AAA,Health,Electronics,Health & Household,C...   Health & Beauty   \n",
       "1  AA,AAA,Health,Electronics,Health & Household,C...   Health & Beauty   \n",
       "2  AA,AAA,Health,Electronics,Health & Household,C...   Health & Beauty   \n",
       "3  AA,AAA,Health,Electronics,Health & Household,C...   Health & Beauty   \n",
       "4  AA,AAA,Health,Electronics,Health & Household,C...   Health & Beauty   \n",
       "\n",
       "   reviews.rating  \n",
       "0               3  \n",
       "1               4  \n",
       "2               5  \n",
       "3               5  \n",
       "4               5  "
      ],
      "text/html": "<div>\n<style scoped>\n    .dataframe tbody tr th:only-of-type {\n        vertical-align: middle;\n    }\n\n    .dataframe tbody tr th {\n        vertical-align: top;\n    }\n\n    .dataframe thead th {\n        text-align: right;\n    }\n</style>\n<table border=\"1\" class=\"dataframe\">\n  <thead>\n    <tr style=\"text-align: right;\">\n      <th></th>\n      <th>reviews.text</th>\n      <th>categories</th>\n      <th>primaryCategories</th>\n      <th>reviews.rating</th>\n    </tr>\n  </thead>\n  <tbody>\n    <tr>\n      <th>0</th>\n      <td>I order 3 of them and one of the item is bad q...</td>\n      <td>AA,AAA,Health,Electronics,Health &amp; Household,C...</td>\n      <td>Health &amp; Beauty</td>\n      <td>3</td>\n    </tr>\n    <tr>\n      <th>1</th>\n      <td>Bulk is always the less expensive way to go fo...</td>\n      <td>AA,AAA,Health,Electronics,Health &amp; Household,C...</td>\n      <td>Health &amp; Beauty</td>\n      <td>4</td>\n    </tr>\n    <tr>\n      <th>2</th>\n      <td>Well they are not Duracell but for the price i...</td>\n      <td>AA,AAA,Health,Electronics,Health &amp; Household,C...</td>\n      <td>Health &amp; Beauty</td>\n      <td>5</td>\n    </tr>\n    <tr>\n      <th>3</th>\n      <td>Seem to work as well as name brand batteries a...</td>\n      <td>AA,AAA,Health,Electronics,Health &amp; Household,C...</td>\n      <td>Health &amp; Beauty</td>\n      <td>5</td>\n    </tr>\n    <tr>\n      <th>4</th>\n      <td>These batteries are very long lasting the pric...</td>\n      <td>AA,AAA,Health,Electronics,Health &amp; Household,C...</td>\n      <td>Health &amp; Beauty</td>\n      <td>5</td>\n    </tr>\n  </tbody>\n</table>\n</div>"
     },
     "metadata": {},
     "execution_count": 4
    }
   ],
   "source": [
    "# select just the more useful features from the dataframe\n",
    "amazon_revs = amazon_revs[['reviews.text', 'categories', 'primaryCategories', 'reviews.rating']]\n",
    "amazon_revs.head()"
   ]
  },
  {
   "cell_type": "code",
   "execution_count": 5,
   "metadata": {},
   "outputs": [
    {
     "output_type": "stream",
     "name": "stderr",
     "text": [
      "/Users/keila/.local/share/virtualenvs/DS-Unit-4-Sprint-1-NLP-E0pgGHex/lib/python3.8/site-packages/ipykernel/ipkernel.py:283: DeprecationWarning: `should_run_async` will not call `transform_cell` automatically in the future. Please pass the result to `transformed_cell` argument and any exception that happen during thetransform in `preprocessing_exc_tuple` in IPython 7.17 and above.\n  and should_run_async(code)\n"
     ]
    },
    {
     "output_type": "execute_result",
     "data": {
      "text/plain": [
       "60"
      ]
     },
     "metadata": {},
     "execution_count": 5
    }
   ],
   "source": [
    "# a lot of categories\n",
    "n_categories = amazon_revs['categories'].nunique()\n",
    "n_categories"
   ]
  },
  {
   "cell_type": "code",
   "execution_count": 6,
   "metadata": {},
   "outputs": [
    {
     "output_type": "stream",
     "name": "stderr",
     "text": [
      "/Users/keila/.local/share/virtualenvs/DS-Unit-4-Sprint-1-NLP-E0pgGHex/lib/python3.8/site-packages/ipykernel/ipkernel.py:283: DeprecationWarning: `should_run_async` will not call `transform_cell` automatically in the future. Please pass the result to `transformed_cell` argument and any exception that happen during thetransform in `preprocessing_exc_tuple` in IPython 7.17 and above.\n  and should_run_async(code)\n"
     ]
    },
    {
     "output_type": "execute_result",
     "data": {
      "text/plain": [
       "9"
      ]
     },
     "metadata": {},
     "execution_count": 6
    }
   ],
   "source": [
    "# better number of categories\n",
    "n_primaryCategories = amazon_revs['primaryCategories'].nunique()\n",
    "n_primaryCategories"
   ]
  },
  {
   "cell_type": "code",
   "execution_count": 7,
   "metadata": {},
   "outputs": [
    {
     "output_type": "stream",
     "name": "stderr",
     "text": [
      "/Users/keila/.local/share/virtualenvs/DS-Unit-4-Sprint-1-NLP-E0pgGHex/lib/python3.8/site-packages/ipykernel/ipkernel.py:283: DeprecationWarning: `should_run_async` will not call `transform_cell` automatically in the future. Please pass the result to `transformed_cell` argument and any exception that happen during thetransform in `preprocessing_exc_tuple` in IPython 7.17 and above.\n  and should_run_async(code)\n"
     ]
    },
    {
     "output_type": "execute_result",
     "data": {
      "text/plain": [
       "array(['Health & Beauty', 'Electronics', 'Office Supplies',\n",
       "       'Animals & Pet Supplies', 'Home & Garden', 'Electronics,Furniture',\n",
       "       'Toys & Games,Electronics', 'Electronics,Media',\n",
       "       'Office Supplies,Electronics'], dtype=object)"
      ]
     },
     "metadata": {},
     "execution_count": 7
    }
   ],
   "source": [
    "# these categories look more to the point\n",
    "amazon_revs.primaryCategories.unique()"
   ]
  },
  {
   "cell_type": "code",
   "execution_count": 8,
   "metadata": {},
   "outputs": [
    {
     "output_type": "stream",
     "name": "stderr",
     "text": [
      "/Users/keila/.local/share/virtualenvs/DS-Unit-4-Sprint-1-NLP-E0pgGHex/lib/python3.8/site-packages/ipykernel/ipkernel.py:283: DeprecationWarning: `should_run_async` will not call `transform_cell` automatically in the future. Please pass the result to `transformed_cell` argument and any exception that happen during thetransform in `preprocessing_exc_tuple` in IPython 7.17 and above.\n  and should_run_async(code)\n"
     ]
    },
    {
     "output_type": "execute_result",
     "data": {
      "text/plain": [
       "                                        reviews.text primaryCategories\n",
       "0  I order 3 of them and one of the item is bad q...   Health & Beauty\n",
       "1  Bulk is always the less expensive way to go fo...   Health & Beauty\n",
       "2  Well they are not Duracell but for the price i...   Health & Beauty\n",
       "3  Seem to work as well as name brand batteries a...   Health & Beauty\n",
       "4  These batteries are very long lasting the pric...   Health & Beauty"
      ],
      "text/html": "<div>\n<style scoped>\n    .dataframe tbody tr th:only-of-type {\n        vertical-align: middle;\n    }\n\n    .dataframe tbody tr th {\n        vertical-align: top;\n    }\n\n    .dataframe thead th {\n        text-align: right;\n    }\n</style>\n<table border=\"1\" class=\"dataframe\">\n  <thead>\n    <tr style=\"text-align: right;\">\n      <th></th>\n      <th>reviews.text</th>\n      <th>primaryCategories</th>\n    </tr>\n  </thead>\n  <tbody>\n    <tr>\n      <th>0</th>\n      <td>I order 3 of them and one of the item is bad q...</td>\n      <td>Health &amp; Beauty</td>\n    </tr>\n    <tr>\n      <th>1</th>\n      <td>Bulk is always the less expensive way to go fo...</td>\n      <td>Health &amp; Beauty</td>\n    </tr>\n    <tr>\n      <th>2</th>\n      <td>Well they are not Duracell but for the price i...</td>\n      <td>Health &amp; Beauty</td>\n    </tr>\n    <tr>\n      <th>3</th>\n      <td>Seem to work as well as name brand batteries a...</td>\n      <td>Health &amp; Beauty</td>\n    </tr>\n    <tr>\n      <th>4</th>\n      <td>These batteries are very long lasting the pric...</td>\n      <td>Health &amp; Beauty</td>\n    </tr>\n  </tbody>\n</table>\n</div>"
     },
     "metadata": {},
     "execution_count": 8
    }
   ],
   "source": [
    "# this is the only data I will use\n",
    "amazon_revs = amazon_revs[['reviews.text', 'primaryCategories']]\n",
    "amazon_revs.head()"
   ]
  },
  {
   "cell_type": "code",
   "execution_count": 9,
   "metadata": {},
   "outputs": [
    {
     "output_type": "stream",
     "name": "stderr",
     "text": [
      "/Users/keila/.local/share/virtualenvs/DS-Unit-4-Sprint-1-NLP-E0pgGHex/lib/python3.8/site-packages/ipykernel/ipkernel.py:283: DeprecationWarning: `should_run_async` will not call `transform_cell` automatically in the future. Please pass the result to `transformed_cell` argument and any exception that happen during thetransform in `preprocessing_exc_tuple` in IPython 7.17 and above.\n  and should_run_async(code)\n"
     ]
    }
   ],
   "source": [
    "# want to be able to work in parallel\n",
    "import mapply\n",
    "mapply.init(n_workers=3, chunk_size=100, progressbar=True)"
   ]
  },
  {
   "cell_type": "code",
   "execution_count": 12,
   "metadata": {},
   "outputs": [
    {
     "output_type": "stream",
     "name": "stderr",
     "text": [
      "/Users/keila/.local/share/virtualenvs/DS-Unit-4-Sprint-1-NLP-E0pgGHex/lib/python3.8/site-packages/ipykernel/ipkernel.py:283: DeprecationWarning: `should_run_async` will not call `transform_cell` automatically in the future. Please pass the result to `transformed_cell` argument and any exception that happen during thetransform in `preprocessing_exc_tuple` in IPython 7.17 and above.\n",
      "  and should_run_async(code)\n",
      "100%|██████████| 40/40 [01:18<00:00,  1.96s/it]\n"
     ]
    }
   ],
   "source": [
    "# create lemmas\n",
    "nlp = spacy.load(\"en_core_web_lg\")\n",
    "\n",
    "STOP_WORDS = nlp.Defaults.stop_words.union(['$', 'amazon', 'prime'])\n",
    "\n",
    "amazon_revs['lemmas'] = amazon_revs['reviews.text'].mapply(\n",
    "    lambda x: [token.lemma_.lower() for token in nlp(x) if (token.text.lower() not in STOP_WORDS) and (token.is_punct != True)]\n",
    ")"
   ]
  },
  {
   "cell_type": "code",
   "execution_count": 13,
   "metadata": {},
   "outputs": [
    {
     "output_type": "stream",
     "name": "stderr",
     "text": [
      "/Users/keila/.local/share/virtualenvs/DS-Unit-4-Sprint-1-NLP-E0pgGHex/lib/python3.8/site-packages/ipykernel/ipkernel.py:283: DeprecationWarning: `should_run_async` will not call `transform_cell` automatically in the future. Please pass the result to `transformed_cell` argument and any exception that happen during thetransform in `preprocessing_exc_tuple` in IPython 7.17 and above.\n  and should_run_async(code)\n"
     ]
    },
    {
     "output_type": "execute_result",
     "data": {
      "text/plain": [
       "                                        reviews.text primaryCategories  \\\n",
       "0  I order 3 of them and one of the item is bad q...   Health & Beauty   \n",
       "1  Bulk is always the less expensive way to go fo...   Health & Beauty   \n",
       "2  Well they are not Duracell but for the price i...   Health & Beauty   \n",
       "3  Seem to work as well as name brand batteries a...   Health & Beauty   \n",
       "4  These batteries are very long lasting the pric...   Health & Beauty   \n",
       "\n",
       "                                              lemmas  \n",
       "0  [order, 3, item, bad, quality, miss, backup, s...  \n",
       "1              [bulk, expensive, way, product, like]  \n",
       "2                           [duracell, price, happy]  \n",
       "3                [work, brand, battery, well, price]  \n",
       "4                [battery, long, last, price, great]  "
      ],
      "text/html": "<div>\n<style scoped>\n    .dataframe tbody tr th:only-of-type {\n        vertical-align: middle;\n    }\n\n    .dataframe tbody tr th {\n        vertical-align: top;\n    }\n\n    .dataframe thead th {\n        text-align: right;\n    }\n</style>\n<table border=\"1\" class=\"dataframe\">\n  <thead>\n    <tr style=\"text-align: right;\">\n      <th></th>\n      <th>reviews.text</th>\n      <th>primaryCategories</th>\n      <th>lemmas</th>\n    </tr>\n  </thead>\n  <tbody>\n    <tr>\n      <th>0</th>\n      <td>I order 3 of them and one of the item is bad q...</td>\n      <td>Health &amp; Beauty</td>\n      <td>[order, 3, item, bad, quality, miss, backup, s...</td>\n    </tr>\n    <tr>\n      <th>1</th>\n      <td>Bulk is always the less expensive way to go fo...</td>\n      <td>Health &amp; Beauty</td>\n      <td>[bulk, expensive, way, product, like]</td>\n    </tr>\n    <tr>\n      <th>2</th>\n      <td>Well they are not Duracell but for the price i...</td>\n      <td>Health &amp; Beauty</td>\n      <td>[duracell, price, happy]</td>\n    </tr>\n    <tr>\n      <th>3</th>\n      <td>Seem to work as well as name brand batteries a...</td>\n      <td>Health &amp; Beauty</td>\n      <td>[work, brand, battery, well, price]</td>\n    </tr>\n    <tr>\n      <th>4</th>\n      <td>These batteries are very long lasting the pric...</td>\n      <td>Health &amp; Beauty</td>\n      <td>[battery, long, last, price, great]</td>\n    </tr>\n  </tbody>\n</table>\n</div>"
     },
     "metadata": {},
     "execution_count": 13
    }
   ],
   "source": [
    "amazon_revs.head()"
   ]
  },
  {
   "cell_type": "code",
   "execution_count": 14,
   "metadata": {},
   "outputs": [
    {
     "output_type": "stream",
     "name": "stderr",
     "text": [
      "/Users/keila/.local/share/virtualenvs/DS-Unit-4-Sprint-1-NLP-E0pgGHex/lib/python3.8/site-packages/ipykernel/ipkernel.py:283: DeprecationWarning: `should_run_async` will not call `transform_cell` automatically in the future. Please pass the result to `transformed_cell` argument and any exception that happen during thetransform in `preprocessing_exc_tuple` in IPython 7.17 and above.\n  and should_run_async(code)\n"
     ]
    }
   ],
   "source": [
    "# create Dictionary\n",
    "id2words = corpora.Dictionary(amazon_revs['lemmas'])"
   ]
  },
  {
   "cell_type": "code",
   "execution_count": 15,
   "metadata": {},
   "outputs": [
    {
     "output_type": "stream",
     "name": "stderr",
     "text": [
      "/Users/keila/.local/share/virtualenvs/DS-Unit-4-Sprint-1-NLP-E0pgGHex/lib/python3.8/site-packages/ipykernel/ipkernel.py:283: DeprecationWarning: `should_run_async` will not call `transform_cell` automatically in the future. Please pass the result to `transformed_cell` argument and any exception that happen during thetransform in `preprocessing_exc_tuple` in IPython 7.17 and above.\n  and should_run_async(code)\n"
     ]
    }
   ],
   "source": [
    "# create term document frequency\n",
    "corpus = [id2words.doc2bow(tokens) for tokens in amazon_revs['lemmas']]"
   ]
  },
  {
   "cell_type": "code",
   "execution_count": 16,
   "metadata": {},
   "outputs": [
    {
     "output_type": "stream",
     "name": "stderr",
     "text": [
      "/Users/keila/.local/share/virtualenvs/DS-Unit-4-Sprint-1-NLP-E0pgGHex/lib/python3.8/site-packages/ipykernel/ipkernel.py:283: DeprecationWarning: `should_run_async` will not call `transform_cell` automatically in the future. Please pass the result to `transformed_cell` argument and any exception that happen during thetransform in `preprocessing_exc_tuple` in IPython 7.17 and above.\n  and should_run_async(code)\n"
     ]
    },
    {
     "output_type": "execute_result",
     "data": {
      "text/plain": [
       "[('battery', 1),\n",
       " ('price', 1),\n",
       " ('brand', 1),\n",
       " ('great', 1),\n",
       " ('basic', 1),\n",
       " ('buy', 1),\n",
       " ('believe', 1),\n",
       " ('equal', 1),\n",
       " ('find', 1),\n",
       " ('large', 1),\n",
       " ('one', 1),\n",
       " ('package', 1),\n",
       " ('soon', 1),\n",
       " ('start', 1),\n",
       " ('superior', 1)]"
      ]
     },
     "metadata": {},
     "execution_count": 16
    }
   ],
   "source": [
    "# stores (token id, token count) for each doc in the corpus\n",
    "doc_id = 10\n",
    "\n",
    "# Human readable format of corpus (term-frequency)\n",
    "[(id2words[word_id], word_count) for word_id, word_count in corpus[doc_id]]"
   ]
  },
  {
   "source": [
    "### Train LDA Model"
   ],
   "cell_type": "markdown",
   "metadata": {}
  },
  {
   "cell_type": "code",
   "execution_count": 17,
   "metadata": {},
   "outputs": [
    {
     "output_type": "stream",
     "name": "stderr",
     "text": [
      "/Users/keila/.local/share/virtualenvs/DS-Unit-4-Sprint-1-NLP-E0pgGHex/lib/python3.8/site-packages/ipykernel/ipkernel.py:283: DeprecationWarning: `should_run_async` will not call `transform_cell` automatically in the future. Please pass the result to `transformed_cell` argument and any exception that happen during thetransform in `preprocessing_exc_tuple` in IPython 7.17 and above.\n",
      "  and should_run_async(code)\n",
      "CPU times: user 23.7 s, sys: 4.28 s, total: 28 s\n",
      "Wall time: 30.5 s\n"
     ]
    }
   ],
   "source": [
    "%%time\n",
    "### This cell runs the multi-processor version of the model (faster)\n",
    "lda_multicore = gensim.models.ldamulticore.LdaMulticore(corpus=corpus,\n",
    "                                                        id2word=id2words,\n",
    "                                                        num_topics=20, \n",
    "                                                        chunksize=100,\n",
    "                                                        passes=10,\n",
    "                                                        per_word_topics=True,\n",
    "                                                        workers=2)\n",
    "\n",
    "\n",
    "lda_multicore.save('lda_multicore.model')"
   ]
  },
  {
   "cell_type": "code",
   "execution_count": 18,
   "metadata": {},
   "outputs": [
    {
     "output_type": "stream",
     "name": "stderr",
     "text": [
      "/Users/keila/.local/share/virtualenvs/DS-Unit-4-Sprint-1-NLP-E0pgGHex/lib/python3.8/site-packages/ipykernel/ipkernel.py:283: DeprecationWarning: `should_run_async` will not call `transform_cell` automatically in the future. Please pass the result to `transformed_cell` argument and any exception that happen during thetransform in `preprocessing_exc_tuple` in IPython 7.17 and above.\n  and should_run_async(code)\n"
     ]
    }
   ],
   "source": [
    "# load trained lda model\n",
    "from gensim import models\n",
    "lda_multicore =  models.LdaModel.load('lda_multicore.model')"
   ]
  },
  {
   "cell_type": "code",
   "execution_count": 19,
   "metadata": {},
   "outputs": [
    {
     "output_type": "stream",
     "name": "stderr",
     "text": [
      "/Users/keila/.local/share/virtualenvs/DS-Unit-4-Sprint-1-NLP-E0pgGHex/lib/python3.8/site-packages/ipykernel/ipkernel.py:283: DeprecationWarning: `should_run_async` will not call `transform_cell` automatically in the future. Please pass the result to `transformed_cell` argument and any exception that happen during thetransform in `preprocessing_exc_tuple` in IPython 7.17 and above.\n  and should_run_async(code)\n"
     ]
    }
   ],
   "source": [
    "def compute_coherence_values(dictionary, corpus, texts, limit, start=2, step=3):\n",
    "    \"\"\"\n",
    "    Compute c_v coherence for various number of topics\n",
    "\n",
    "    Parameters:\n",
    "    ----------\n",
    "    dictionary : Gensim dictionary\n",
    "    corpus : Gensim corpus\n",
    "    texts : List of input texts\n",
    "    limit : Max num of topics\n",
    "\n",
    "    Returns:\n",
    "    -------\n",
    "    model_list : List of LDA topic models\n",
    "    coherence_values : Coherence values corresponding to the LDA model with respective number of topics\n",
    "    \"\"\"\n",
    "    coherence_values = []\n",
    "    model_list = []\n",
    "    for num_topics in range(start, limit, step):\n",
    "        model = gensim.models.ldamulticore.LdaMulticore(corpus=corpus,\n",
    "                                                        id2word=id2words,\n",
    "                                                        num_topics=num_topics, \n",
    "                                                        chunksize=100,\n",
    "                                                        passes=10,\n",
    "                                                        per_word_topics=True,\n",
    "                                                        workers=2)\n",
    "        model_list.append(model)\n",
    "        coherencemodel = CoherenceModel(model=model, texts=texts, dictionary=dictionary, coherence='c_v')\n",
    "        coherence_values.append(coherencemodel.get_coherence())\n",
    "\n",
    "    return model_list, coherence_values"
   ]
  },
  {
   "cell_type": "code",
   "execution_count": 20,
   "metadata": {},
   "outputs": [
    {
     "output_type": "stream",
     "name": "stderr",
     "text": [
      "/Users/keila/.local/share/virtualenvs/DS-Unit-4-Sprint-1-NLP-E0pgGHex/lib/python3.8/site-packages/ipykernel/ipkernel.py:283: DeprecationWarning: `should_run_async` will not call `transform_cell` automatically in the future. Please pass the result to `transformed_cell` argument and any exception that happen during thetransform in `preprocessing_exc_tuple` in IPython 7.17 and above.\n",
      "  and should_run_async(code)\n",
      "CPU times: user 2min 13s, sys: 24.9 s, total: 2min 38s\n",
      "Wall time: 3min 47s\n"
     ]
    }
   ],
   "source": [
    "%%time\n",
    "model_list, coherence_values = compute_coherence_values(dictionary=id2words, corpus=corpus, texts=amazon_revs['lemmas'], start=2, limit=22, step=3)"
   ]
  },
  {
   "cell_type": "code",
   "execution_count": 29,
   "metadata": {},
   "outputs": [
    {
     "output_type": "stream",
     "name": "stderr",
     "text": [
      "/Users/keila/.local/share/virtualenvs/DS-Unit-4-Sprint-1-NLP-E0pgGHex/lib/python3.8/site-packages/ipykernel/ipkernel.py:283: DeprecationWarning: `should_run_async` will not call `transform_cell` automatically in the future. Please pass the result to `transformed_cell` argument and any exception that happen during thetransform in `preprocessing_exc_tuple` in IPython 7.17 and above.\n  and should_run_async(code)\n"
     ]
    },
    {
     "output_type": "display_data",
     "data": {
      "text/plain": "<Figure size 432x288 with 1 Axes>",
      "image/svg+xml": "<?xml version=\"1.0\" encoding=\"utf-8\" standalone=\"no\"?>\n<!DOCTYPE svg PUBLIC \"-//W3C//DTD SVG 1.1//EN\"\n  \"http://www.w3.org/Graphics/SVG/1.1/DTD/svg11.dtd\">\n<svg height=\"262.19625pt\" version=\"1.1\" viewBox=\"0 0 392.14375 262.19625\" width=\"392.14375pt\" xmlns=\"http://www.w3.org/2000/svg\" xmlns:xlink=\"http://www.w3.org/1999/xlink\">\n <metadata>\n  <rdf:RDF xmlns:cc=\"http://creativecommons.org/ns#\" xmlns:dc=\"http://purl.org/dc/elements/1.1/\" xmlns:rdf=\"http://www.w3.org/1999/02/22-rdf-syntax-ns#\">\n   <cc:Work>\n    <dc:type rdf:resource=\"http://purl.org/dc/dcmitype/StillImage\"/>\n    <dc:date>2021-04-09T01:19:33.525564</dc:date>\n    <dc:format>image/svg+xml</dc:format>\n    <dc:creator>\n     <cc:Agent>\n      <dc:title>Matplotlib v3.4.1, https://matplotlib.org/</dc:title>\n     </cc:Agent>\n    </dc:creator>\n   </cc:Work>\n  </rdf:RDF>\n </metadata>\n <defs>\n  <style type=\"text/css\">*{stroke-linecap:butt;stroke-linejoin:round;}</style>\n </defs>\n <g id=\"figure_1\">\n  <g id=\"patch_1\">\n   <path d=\"M 0 262.19625 \nL 392.14375 262.19625 \nL 392.14375 0 \nL 0 0 \nz\n\" style=\"fill:none;\"/>\n  </g>\n  <g id=\"axes_1\">\n   <g id=\"patch_2\">\n    <path d=\"M 50.14375 224.64 \nL 384.94375 224.64 \nL 384.94375 7.2 \nL 50.14375 7.2 \nz\n\" style=\"fill:#ffffff;\"/>\n   </g>\n   <g id=\"matplotlib.axis_1\">\n    <g id=\"xtick_1\">\n     <g id=\"line2d_1\">\n      <defs>\n       <path d=\"M 0 0 \nL 0 3.5 \n\" id=\"m7bba10350a\" style=\"stroke:#000000;stroke-width:0.8;\"/>\n      </defs>\n      <g>\n       <use style=\"stroke:#000000;stroke-width:0.8;\" x=\"73.816477\" xlink:href=\"#m7bba10350a\" y=\"224.64\"/>\n      </g>\n     </g>\n     <g id=\"text_1\">\n      <!-- 2.5 -->\n      <g transform=\"translate(65.864915 239.238438)scale(0.1 -0.1)\">\n       <defs>\n        <path d=\"M 1228 531 \nL 3431 531 \nL 3431 0 \nL 469 0 \nL 469 531 \nQ 828 903 1448 1529 \nQ 2069 2156 2228 2338 \nQ 2531 2678 2651 2914 \nQ 2772 3150 2772 3378 \nQ 2772 3750 2511 3984 \nQ 2250 4219 1831 4219 \nQ 1534 4219 1204 4116 \nQ 875 4013 500 3803 \nL 500 4441 \nQ 881 4594 1212 4672 \nQ 1544 4750 1819 4750 \nQ 2544 4750 2975 4387 \nQ 3406 4025 3406 3419 \nQ 3406 3131 3298 2873 \nQ 3191 2616 2906 2266 \nQ 2828 2175 2409 1742 \nQ 1991 1309 1228 531 \nz\n\" id=\"DejaVuSans-32\" transform=\"scale(0.015625)\"/>\n        <path d=\"M 684 794 \nL 1344 794 \nL 1344 0 \nL 684 0 \nL 684 794 \nz\n\" id=\"DejaVuSans-2e\" transform=\"scale(0.015625)\"/>\n        <path d=\"M 691 4666 \nL 3169 4666 \nL 3169 4134 \nL 1269 4134 \nL 1269 2991 \nQ 1406 3038 1543 3061 \nQ 1681 3084 1819 3084 \nQ 2600 3084 3056 2656 \nQ 3513 2228 3513 1497 \nQ 3513 744 3044 326 \nQ 2575 -91 1722 -91 \nQ 1428 -91 1123 -41 \nQ 819 9 494 109 \nL 494 744 \nQ 775 591 1075 516 \nQ 1375 441 1709 441 \nQ 2250 441 2565 725 \nQ 2881 1009 2881 1497 \nQ 2881 1984 2565 2268 \nQ 2250 2553 1709 2553 \nQ 1456 2553 1204 2497 \nQ 953 2441 691 2322 \nL 691 4666 \nz\n\" id=\"DejaVuSans-35\" transform=\"scale(0.015625)\"/>\n       </defs>\n       <use xlink:href=\"#DejaVuSans-32\"/>\n       <use x=\"63.623047\" xlink:href=\"#DejaVuSans-2e\"/>\n       <use x=\"95.410156\" xlink:href=\"#DejaVuSans-35\"/>\n      </g>\n     </g>\n    </g>\n    <g id=\"xtick_2\">\n     <g id=\"line2d_2\">\n      <g>\n       <use style=\"stroke:#000000;stroke-width:0.8;\" x=\"116.089205\" xlink:href=\"#m7bba10350a\" y=\"224.64\"/>\n      </g>\n     </g>\n     <g id=\"text_2\">\n      <!-- 5.0 -->\n      <g transform=\"translate(108.137642 239.238438)scale(0.1 -0.1)\">\n       <defs>\n        <path d=\"M 2034 4250 \nQ 1547 4250 1301 3770 \nQ 1056 3291 1056 2328 \nQ 1056 1369 1301 889 \nQ 1547 409 2034 409 \nQ 2525 409 2770 889 \nQ 3016 1369 3016 2328 \nQ 3016 3291 2770 3770 \nQ 2525 4250 2034 4250 \nz\nM 2034 4750 \nQ 2819 4750 3233 4129 \nQ 3647 3509 3647 2328 \nQ 3647 1150 3233 529 \nQ 2819 -91 2034 -91 \nQ 1250 -91 836 529 \nQ 422 1150 422 2328 \nQ 422 3509 836 4129 \nQ 1250 4750 2034 4750 \nz\n\" id=\"DejaVuSans-30\" transform=\"scale(0.015625)\"/>\n       </defs>\n       <use xlink:href=\"#DejaVuSans-35\"/>\n       <use x=\"63.623047\" xlink:href=\"#DejaVuSans-2e\"/>\n       <use x=\"95.410156\" xlink:href=\"#DejaVuSans-30\"/>\n      </g>\n     </g>\n    </g>\n    <g id=\"xtick_3\">\n     <g id=\"line2d_3\">\n      <g>\n       <use style=\"stroke:#000000;stroke-width:0.8;\" x=\"158.361932\" xlink:href=\"#m7bba10350a\" y=\"224.64\"/>\n      </g>\n     </g>\n     <g id=\"text_3\">\n      <!-- 7.5 -->\n      <g transform=\"translate(150.410369 239.238438)scale(0.1 -0.1)\">\n       <defs>\n        <path d=\"M 525 4666 \nL 3525 4666 \nL 3525 4397 \nL 1831 0 \nL 1172 0 \nL 2766 4134 \nL 525 4134 \nL 525 4666 \nz\n\" id=\"DejaVuSans-37\" transform=\"scale(0.015625)\"/>\n       </defs>\n       <use xlink:href=\"#DejaVuSans-37\"/>\n       <use x=\"63.623047\" xlink:href=\"#DejaVuSans-2e\"/>\n       <use x=\"95.410156\" xlink:href=\"#DejaVuSans-35\"/>\n      </g>\n     </g>\n    </g>\n    <g id=\"xtick_4\">\n     <g id=\"line2d_4\">\n      <g>\n       <use style=\"stroke:#000000;stroke-width:0.8;\" x=\"200.634659\" xlink:href=\"#m7bba10350a\" y=\"224.64\"/>\n      </g>\n     </g>\n     <g id=\"text_4\">\n      <!-- 10.0 -->\n      <g transform=\"translate(189.501847 239.238438)scale(0.1 -0.1)\">\n       <defs>\n        <path d=\"M 794 531 \nL 1825 531 \nL 1825 4091 \nL 703 3866 \nL 703 4441 \nL 1819 4666 \nL 2450 4666 \nL 2450 531 \nL 3481 531 \nL 3481 0 \nL 794 0 \nL 794 531 \nz\n\" id=\"DejaVuSans-31\" transform=\"scale(0.015625)\"/>\n       </defs>\n       <use xlink:href=\"#DejaVuSans-31\"/>\n       <use x=\"63.623047\" xlink:href=\"#DejaVuSans-30\"/>\n       <use x=\"127.246094\" xlink:href=\"#DejaVuSans-2e\"/>\n       <use x=\"159.033203\" xlink:href=\"#DejaVuSans-30\"/>\n      </g>\n     </g>\n    </g>\n    <g id=\"xtick_5\">\n     <g id=\"line2d_5\">\n      <g>\n       <use style=\"stroke:#000000;stroke-width:0.8;\" x=\"242.907386\" xlink:href=\"#m7bba10350a\" y=\"224.64\"/>\n      </g>\n     </g>\n     <g id=\"text_5\">\n      <!-- 12.5 -->\n      <g transform=\"translate(231.774574 239.238438)scale(0.1 -0.1)\">\n       <use xlink:href=\"#DejaVuSans-31\"/>\n       <use x=\"63.623047\" xlink:href=\"#DejaVuSans-32\"/>\n       <use x=\"127.246094\" xlink:href=\"#DejaVuSans-2e\"/>\n       <use x=\"159.033203\" xlink:href=\"#DejaVuSans-35\"/>\n      </g>\n     </g>\n    </g>\n    <g id=\"xtick_6\">\n     <g id=\"line2d_6\">\n      <g>\n       <use style=\"stroke:#000000;stroke-width:0.8;\" x=\"285.180114\" xlink:href=\"#m7bba10350a\" y=\"224.64\"/>\n      </g>\n     </g>\n     <g id=\"text_6\">\n      <!-- 15.0 -->\n      <g transform=\"translate(274.047301 239.238438)scale(0.1 -0.1)\">\n       <use xlink:href=\"#DejaVuSans-31\"/>\n       <use x=\"63.623047\" xlink:href=\"#DejaVuSans-35\"/>\n       <use x=\"127.246094\" xlink:href=\"#DejaVuSans-2e\"/>\n       <use x=\"159.033203\" xlink:href=\"#DejaVuSans-30\"/>\n      </g>\n     </g>\n    </g>\n    <g id=\"xtick_7\">\n     <g id=\"line2d_7\">\n      <g>\n       <use style=\"stroke:#000000;stroke-width:0.8;\" x=\"327.452841\" xlink:href=\"#m7bba10350a\" y=\"224.64\"/>\n      </g>\n     </g>\n     <g id=\"text_7\">\n      <!-- 17.5 -->\n      <g transform=\"translate(316.320028 239.238438)scale(0.1 -0.1)\">\n       <use xlink:href=\"#DejaVuSans-31\"/>\n       <use x=\"63.623047\" xlink:href=\"#DejaVuSans-37\"/>\n       <use x=\"127.246094\" xlink:href=\"#DejaVuSans-2e\"/>\n       <use x=\"159.033203\" xlink:href=\"#DejaVuSans-35\"/>\n      </g>\n     </g>\n    </g>\n    <g id=\"xtick_8\">\n     <g id=\"line2d_8\">\n      <g>\n       <use style=\"stroke:#000000;stroke-width:0.8;\" x=\"369.725568\" xlink:href=\"#m7bba10350a\" y=\"224.64\"/>\n      </g>\n     </g>\n     <g id=\"text_8\">\n      <!-- 20.0 -->\n      <g transform=\"translate(358.592756 239.238438)scale(0.1 -0.1)\">\n       <use xlink:href=\"#DejaVuSans-32\"/>\n       <use x=\"63.623047\" xlink:href=\"#DejaVuSans-30\"/>\n       <use x=\"127.246094\" xlink:href=\"#DejaVuSans-2e\"/>\n       <use x=\"159.033203\" xlink:href=\"#DejaVuSans-30\"/>\n      </g>\n     </g>\n    </g>\n    <g id=\"text_9\">\n     <!-- Num Topics -->\n     <g transform=\"translate(188.994531 252.916563)scale(0.1 -0.1)\">\n      <defs>\n       <path d=\"M 628 4666 \nL 1478 4666 \nL 3547 763 \nL 3547 4666 \nL 4159 4666 \nL 4159 0 \nL 3309 0 \nL 1241 3903 \nL 1241 0 \nL 628 0 \nL 628 4666 \nz\n\" id=\"DejaVuSans-4e\" transform=\"scale(0.015625)\"/>\n       <path d=\"M 544 1381 \nL 544 3500 \nL 1119 3500 \nL 1119 1403 \nQ 1119 906 1312 657 \nQ 1506 409 1894 409 \nQ 2359 409 2629 706 \nQ 2900 1003 2900 1516 \nL 2900 3500 \nL 3475 3500 \nL 3475 0 \nL 2900 0 \nL 2900 538 \nQ 2691 219 2414 64 \nQ 2138 -91 1772 -91 \nQ 1169 -91 856 284 \nQ 544 659 544 1381 \nz\nM 1991 3584 \nL 1991 3584 \nz\n\" id=\"DejaVuSans-75\" transform=\"scale(0.015625)\"/>\n       <path d=\"M 3328 2828 \nQ 3544 3216 3844 3400 \nQ 4144 3584 4550 3584 \nQ 5097 3584 5394 3201 \nQ 5691 2819 5691 2113 \nL 5691 0 \nL 5113 0 \nL 5113 2094 \nQ 5113 2597 4934 2840 \nQ 4756 3084 4391 3084 \nQ 3944 3084 3684 2787 \nQ 3425 2491 3425 1978 \nL 3425 0 \nL 2847 0 \nL 2847 2094 \nQ 2847 2600 2669 2842 \nQ 2491 3084 2119 3084 \nQ 1678 3084 1418 2786 \nQ 1159 2488 1159 1978 \nL 1159 0 \nL 581 0 \nL 581 3500 \nL 1159 3500 \nL 1159 2956 \nQ 1356 3278 1631 3431 \nQ 1906 3584 2284 3584 \nQ 2666 3584 2933 3390 \nQ 3200 3197 3328 2828 \nz\n\" id=\"DejaVuSans-6d\" transform=\"scale(0.015625)\"/>\n       <path id=\"DejaVuSans-20\" transform=\"scale(0.015625)\"/>\n       <path d=\"M -19 4666 \nL 3928 4666 \nL 3928 4134 \nL 2272 4134 \nL 2272 0 \nL 1638 0 \nL 1638 4134 \nL -19 4134 \nL -19 4666 \nz\n\" id=\"DejaVuSans-54\" transform=\"scale(0.015625)\"/>\n       <path d=\"M 1959 3097 \nQ 1497 3097 1228 2736 \nQ 959 2375 959 1747 \nQ 959 1119 1226 758 \nQ 1494 397 1959 397 \nQ 2419 397 2687 759 \nQ 2956 1122 2956 1747 \nQ 2956 2369 2687 2733 \nQ 2419 3097 1959 3097 \nz\nM 1959 3584 \nQ 2709 3584 3137 3096 \nQ 3566 2609 3566 1747 \nQ 3566 888 3137 398 \nQ 2709 -91 1959 -91 \nQ 1206 -91 779 398 \nQ 353 888 353 1747 \nQ 353 2609 779 3096 \nQ 1206 3584 1959 3584 \nz\n\" id=\"DejaVuSans-6f\" transform=\"scale(0.015625)\"/>\n       <path d=\"M 1159 525 \nL 1159 -1331 \nL 581 -1331 \nL 581 3500 \nL 1159 3500 \nL 1159 2969 \nQ 1341 3281 1617 3432 \nQ 1894 3584 2278 3584 \nQ 2916 3584 3314 3078 \nQ 3713 2572 3713 1747 \nQ 3713 922 3314 415 \nQ 2916 -91 2278 -91 \nQ 1894 -91 1617 61 \nQ 1341 213 1159 525 \nz\nM 3116 1747 \nQ 3116 2381 2855 2742 \nQ 2594 3103 2138 3103 \nQ 1681 3103 1420 2742 \nQ 1159 2381 1159 1747 \nQ 1159 1113 1420 752 \nQ 1681 391 2138 391 \nQ 2594 391 2855 752 \nQ 3116 1113 3116 1747 \nz\n\" id=\"DejaVuSans-70\" transform=\"scale(0.015625)\"/>\n       <path d=\"M 603 3500 \nL 1178 3500 \nL 1178 0 \nL 603 0 \nL 603 3500 \nz\nM 603 4863 \nL 1178 4863 \nL 1178 4134 \nL 603 4134 \nL 603 4863 \nz\n\" id=\"DejaVuSans-69\" transform=\"scale(0.015625)\"/>\n       <path d=\"M 3122 3366 \nL 3122 2828 \nQ 2878 2963 2633 3030 \nQ 2388 3097 2138 3097 \nQ 1578 3097 1268 2742 \nQ 959 2388 959 1747 \nQ 959 1106 1268 751 \nQ 1578 397 2138 397 \nQ 2388 397 2633 464 \nQ 2878 531 3122 666 \nL 3122 134 \nQ 2881 22 2623 -34 \nQ 2366 -91 2075 -91 \nQ 1284 -91 818 406 \nQ 353 903 353 1747 \nQ 353 2603 823 3093 \nQ 1294 3584 2113 3584 \nQ 2378 3584 2631 3529 \nQ 2884 3475 3122 3366 \nz\n\" id=\"DejaVuSans-63\" transform=\"scale(0.015625)\"/>\n       <path d=\"M 2834 3397 \nL 2834 2853 \nQ 2591 2978 2328 3040 \nQ 2066 3103 1784 3103 \nQ 1356 3103 1142 2972 \nQ 928 2841 928 2578 \nQ 928 2378 1081 2264 \nQ 1234 2150 1697 2047 \nL 1894 2003 \nQ 2506 1872 2764 1633 \nQ 3022 1394 3022 966 \nQ 3022 478 2636 193 \nQ 2250 -91 1575 -91 \nQ 1294 -91 989 -36 \nQ 684 19 347 128 \nL 347 722 \nQ 666 556 975 473 \nQ 1284 391 1588 391 \nQ 1994 391 2212 530 \nQ 2431 669 2431 922 \nQ 2431 1156 2273 1281 \nQ 2116 1406 1581 1522 \nL 1381 1569 \nQ 847 1681 609 1914 \nQ 372 2147 372 2553 \nQ 372 3047 722 3315 \nQ 1072 3584 1716 3584 \nQ 2034 3584 2315 3537 \nQ 2597 3491 2834 3397 \nz\n\" id=\"DejaVuSans-73\" transform=\"scale(0.015625)\"/>\n      </defs>\n      <use xlink:href=\"#DejaVuSans-4e\"/>\n      <use x=\"74.804688\" xlink:href=\"#DejaVuSans-75\"/>\n      <use x=\"138.183594\" xlink:href=\"#DejaVuSans-6d\"/>\n      <use x=\"235.595703\" xlink:href=\"#DejaVuSans-20\"/>\n      <use x=\"267.382812\" xlink:href=\"#DejaVuSans-54\"/>\n      <use x=\"311.466797\" xlink:href=\"#DejaVuSans-6f\"/>\n      <use x=\"372.648438\" xlink:href=\"#DejaVuSans-70\"/>\n      <use x=\"436.125\" xlink:href=\"#DejaVuSans-69\"/>\n      <use x=\"463.908203\" xlink:href=\"#DejaVuSans-63\"/>\n      <use x=\"518.888672\" xlink:href=\"#DejaVuSans-73\"/>\n     </g>\n    </g>\n   </g>\n   <g id=\"matplotlib.axis_2\">\n    <g id=\"ytick_1\">\n     <g id=\"line2d_9\">\n      <defs>\n       <path d=\"M 0 0 \nL -3.5 0 \n\" id=\"maa811f6671\" style=\"stroke:#000000;stroke-width:0.8;\"/>\n      </defs>\n      <g>\n       <use style=\"stroke:#000000;stroke-width:0.8;\" x=\"50.14375\" xlink:href=\"#maa811f6671\" y=\"199.287614\"/>\n      </g>\n     </g>\n     <g id=\"text_10\">\n      <!-- 0.38 -->\n      <g transform=\"translate(20.878125 203.086833)scale(0.1 -0.1)\">\n       <defs>\n        <path d=\"M 2597 2516 \nQ 3050 2419 3304 2112 \nQ 3559 1806 3559 1356 \nQ 3559 666 3084 287 \nQ 2609 -91 1734 -91 \nQ 1441 -91 1130 -33 \nQ 819 25 488 141 \nL 488 750 \nQ 750 597 1062 519 \nQ 1375 441 1716 441 \nQ 2309 441 2620 675 \nQ 2931 909 2931 1356 \nQ 2931 1769 2642 2001 \nQ 2353 2234 1838 2234 \nL 1294 2234 \nL 1294 2753 \nL 1863 2753 \nQ 2328 2753 2575 2939 \nQ 2822 3125 2822 3475 \nQ 2822 3834 2567 4026 \nQ 2313 4219 1838 4219 \nQ 1578 4219 1281 4162 \nQ 984 4106 628 3988 \nL 628 4550 \nQ 988 4650 1302 4700 \nQ 1616 4750 1894 4750 \nQ 2613 4750 3031 4423 \nQ 3450 4097 3450 3541 \nQ 3450 3153 3228 2886 \nQ 3006 2619 2597 2516 \nz\n\" id=\"DejaVuSans-33\" transform=\"scale(0.015625)\"/>\n        <path d=\"M 2034 2216 \nQ 1584 2216 1326 1975 \nQ 1069 1734 1069 1313 \nQ 1069 891 1326 650 \nQ 1584 409 2034 409 \nQ 2484 409 2743 651 \nQ 3003 894 3003 1313 \nQ 3003 1734 2745 1975 \nQ 2488 2216 2034 2216 \nz\nM 1403 2484 \nQ 997 2584 770 2862 \nQ 544 3141 544 3541 \nQ 544 4100 942 4425 \nQ 1341 4750 2034 4750 \nQ 2731 4750 3128 4425 \nQ 3525 4100 3525 3541 \nQ 3525 3141 3298 2862 \nQ 3072 2584 2669 2484 \nQ 3125 2378 3379 2068 \nQ 3634 1759 3634 1313 \nQ 3634 634 3220 271 \nQ 2806 -91 2034 -91 \nQ 1263 -91 848 271 \nQ 434 634 434 1313 \nQ 434 1759 690 2068 \nQ 947 2378 1403 2484 \nz\nM 1172 3481 \nQ 1172 3119 1398 2916 \nQ 1625 2713 2034 2713 \nQ 2441 2713 2670 2916 \nQ 2900 3119 2900 3481 \nQ 2900 3844 2670 4047 \nQ 2441 4250 2034 4250 \nQ 1625 4250 1398 4047 \nQ 1172 3844 1172 3481 \nz\n\" id=\"DejaVuSans-38\" transform=\"scale(0.015625)\"/>\n       </defs>\n       <use xlink:href=\"#DejaVuSans-30\"/>\n       <use x=\"63.623047\" xlink:href=\"#DejaVuSans-2e\"/>\n       <use x=\"95.410156\" xlink:href=\"#DejaVuSans-33\"/>\n       <use x=\"159.033203\" xlink:href=\"#DejaVuSans-38\"/>\n      </g>\n     </g>\n    </g>\n    <g id=\"ytick_2\">\n     <g id=\"line2d_10\">\n      <g>\n       <use style=\"stroke:#000000;stroke-width:0.8;\" x=\"50.14375\" xlink:href=\"#maa811f6671\" y=\"160.169447\"/>\n      </g>\n     </g>\n     <g id=\"text_11\">\n      <!-- 0.40 -->\n      <g transform=\"translate(20.878125 163.968666)scale(0.1 -0.1)\">\n       <defs>\n        <path d=\"M 2419 4116 \nL 825 1625 \nL 2419 1625 \nL 2419 4116 \nz\nM 2253 4666 \nL 3047 4666 \nL 3047 1625 \nL 3713 1625 \nL 3713 1100 \nL 3047 1100 \nL 3047 0 \nL 2419 0 \nL 2419 1100 \nL 313 1100 \nL 313 1709 \nL 2253 4666 \nz\n\" id=\"DejaVuSans-34\" transform=\"scale(0.015625)\"/>\n       </defs>\n       <use xlink:href=\"#DejaVuSans-30\"/>\n       <use x=\"63.623047\" xlink:href=\"#DejaVuSans-2e\"/>\n       <use x=\"95.410156\" xlink:href=\"#DejaVuSans-34\"/>\n       <use x=\"159.033203\" xlink:href=\"#DejaVuSans-30\"/>\n      </g>\n     </g>\n    </g>\n    <g id=\"ytick_3\">\n     <g id=\"line2d_11\">\n      <g>\n       <use style=\"stroke:#000000;stroke-width:0.8;\" x=\"50.14375\" xlink:href=\"#maa811f6671\" y=\"121.05128\"/>\n      </g>\n     </g>\n     <g id=\"text_12\">\n      <!-- 0.42 -->\n      <g transform=\"translate(20.878125 124.850499)scale(0.1 -0.1)\">\n       <use xlink:href=\"#DejaVuSans-30\"/>\n       <use x=\"63.623047\" xlink:href=\"#DejaVuSans-2e\"/>\n       <use x=\"95.410156\" xlink:href=\"#DejaVuSans-34\"/>\n       <use x=\"159.033203\" xlink:href=\"#DejaVuSans-32\"/>\n      </g>\n     </g>\n    </g>\n    <g id=\"ytick_4\">\n     <g id=\"line2d_12\">\n      <g>\n       <use style=\"stroke:#000000;stroke-width:0.8;\" x=\"50.14375\" xlink:href=\"#maa811f6671\" y=\"81.933113\"/>\n      </g>\n     </g>\n     <g id=\"text_13\">\n      <!-- 0.44 -->\n      <g transform=\"translate(20.878125 85.732332)scale(0.1 -0.1)\">\n       <use xlink:href=\"#DejaVuSans-30\"/>\n       <use x=\"63.623047\" xlink:href=\"#DejaVuSans-2e\"/>\n       <use x=\"95.410156\" xlink:href=\"#DejaVuSans-34\"/>\n       <use x=\"159.033203\" xlink:href=\"#DejaVuSans-34\"/>\n      </g>\n     </g>\n    </g>\n    <g id=\"ytick_5\">\n     <g id=\"line2d_13\">\n      <g>\n       <use style=\"stroke:#000000;stroke-width:0.8;\" x=\"50.14375\" xlink:href=\"#maa811f6671\" y=\"42.814946\"/>\n      </g>\n     </g>\n     <g id=\"text_14\">\n      <!-- 0.46 -->\n      <g transform=\"translate(20.878125 46.614165)scale(0.1 -0.1)\">\n       <defs>\n        <path d=\"M 2113 2584 \nQ 1688 2584 1439 2293 \nQ 1191 2003 1191 1497 \nQ 1191 994 1439 701 \nQ 1688 409 2113 409 \nQ 2538 409 2786 701 \nQ 3034 994 3034 1497 \nQ 3034 2003 2786 2293 \nQ 2538 2584 2113 2584 \nz\nM 3366 4563 \nL 3366 3988 \nQ 3128 4100 2886 4159 \nQ 2644 4219 2406 4219 \nQ 1781 4219 1451 3797 \nQ 1122 3375 1075 2522 \nQ 1259 2794 1537 2939 \nQ 1816 3084 2150 3084 \nQ 2853 3084 3261 2657 \nQ 3669 2231 3669 1497 \nQ 3669 778 3244 343 \nQ 2819 -91 2113 -91 \nQ 1303 -91 875 529 \nQ 447 1150 447 2328 \nQ 447 3434 972 4092 \nQ 1497 4750 2381 4750 \nQ 2619 4750 2861 4703 \nQ 3103 4656 3366 4563 \nz\n\" id=\"DejaVuSans-36\" transform=\"scale(0.015625)\"/>\n       </defs>\n       <use xlink:href=\"#DejaVuSans-30\"/>\n       <use x=\"63.623047\" xlink:href=\"#DejaVuSans-2e\"/>\n       <use x=\"95.410156\" xlink:href=\"#DejaVuSans-34\"/>\n       <use x=\"159.033203\" xlink:href=\"#DejaVuSans-36\"/>\n      </g>\n     </g>\n    </g>\n    <g id=\"text_15\">\n     <!-- Coherence score -->\n     <g transform=\"translate(14.798438 157.752031)rotate(-90)scale(0.1 -0.1)\">\n      <defs>\n       <path d=\"M 4122 4306 \nL 4122 3641 \nQ 3803 3938 3442 4084 \nQ 3081 4231 2675 4231 \nQ 1875 4231 1450 3742 \nQ 1025 3253 1025 2328 \nQ 1025 1406 1450 917 \nQ 1875 428 2675 428 \nQ 3081 428 3442 575 \nQ 3803 722 4122 1019 \nL 4122 359 \nQ 3791 134 3420 21 \nQ 3050 -91 2638 -91 \nQ 1578 -91 968 557 \nQ 359 1206 359 2328 \nQ 359 3453 968 4101 \nQ 1578 4750 2638 4750 \nQ 3056 4750 3426 4639 \nQ 3797 4528 4122 4306 \nz\n\" id=\"DejaVuSans-43\" transform=\"scale(0.015625)\"/>\n       <path d=\"M 3513 2113 \nL 3513 0 \nL 2938 0 \nL 2938 2094 \nQ 2938 2591 2744 2837 \nQ 2550 3084 2163 3084 \nQ 1697 3084 1428 2787 \nQ 1159 2491 1159 1978 \nL 1159 0 \nL 581 0 \nL 581 4863 \nL 1159 4863 \nL 1159 2956 \nQ 1366 3272 1645 3428 \nQ 1925 3584 2291 3584 \nQ 2894 3584 3203 3211 \nQ 3513 2838 3513 2113 \nz\n\" id=\"DejaVuSans-68\" transform=\"scale(0.015625)\"/>\n       <path d=\"M 3597 1894 \nL 3597 1613 \nL 953 1613 \nQ 991 1019 1311 708 \nQ 1631 397 2203 397 \nQ 2534 397 2845 478 \nQ 3156 559 3463 722 \nL 3463 178 \nQ 3153 47 2828 -22 \nQ 2503 -91 2169 -91 \nQ 1331 -91 842 396 \nQ 353 884 353 1716 \nQ 353 2575 817 3079 \nQ 1281 3584 2069 3584 \nQ 2775 3584 3186 3129 \nQ 3597 2675 3597 1894 \nz\nM 3022 2063 \nQ 3016 2534 2758 2815 \nQ 2500 3097 2075 3097 \nQ 1594 3097 1305 2825 \nQ 1016 2553 972 2059 \nL 3022 2063 \nz\n\" id=\"DejaVuSans-65\" transform=\"scale(0.015625)\"/>\n       <path d=\"M 2631 2963 \nQ 2534 3019 2420 3045 \nQ 2306 3072 2169 3072 \nQ 1681 3072 1420 2755 \nQ 1159 2438 1159 1844 \nL 1159 0 \nL 581 0 \nL 581 3500 \nL 1159 3500 \nL 1159 2956 \nQ 1341 3275 1631 3429 \nQ 1922 3584 2338 3584 \nQ 2397 3584 2469 3576 \nQ 2541 3569 2628 3553 \nL 2631 2963 \nz\n\" id=\"DejaVuSans-72\" transform=\"scale(0.015625)\"/>\n       <path d=\"M 3513 2113 \nL 3513 0 \nL 2938 0 \nL 2938 2094 \nQ 2938 2591 2744 2837 \nQ 2550 3084 2163 3084 \nQ 1697 3084 1428 2787 \nQ 1159 2491 1159 1978 \nL 1159 0 \nL 581 0 \nL 581 3500 \nL 1159 3500 \nL 1159 2956 \nQ 1366 3272 1645 3428 \nQ 1925 3584 2291 3584 \nQ 2894 3584 3203 3211 \nQ 3513 2838 3513 2113 \nz\n\" id=\"DejaVuSans-6e\" transform=\"scale(0.015625)\"/>\n      </defs>\n      <use xlink:href=\"#DejaVuSans-43\"/>\n      <use x=\"69.824219\" xlink:href=\"#DejaVuSans-6f\"/>\n      <use x=\"131.005859\" xlink:href=\"#DejaVuSans-68\"/>\n      <use x=\"194.384766\" xlink:href=\"#DejaVuSans-65\"/>\n      <use x=\"255.908203\" xlink:href=\"#DejaVuSans-72\"/>\n      <use x=\"294.771484\" xlink:href=\"#DejaVuSans-65\"/>\n      <use x=\"356.294922\" xlink:href=\"#DejaVuSans-6e\"/>\n      <use x=\"419.673828\" xlink:href=\"#DejaVuSans-63\"/>\n      <use x=\"474.654297\" xlink:href=\"#DejaVuSans-65\"/>\n      <use x=\"536.177734\" xlink:href=\"#DejaVuSans-20\"/>\n      <use x=\"567.964844\" xlink:href=\"#DejaVuSans-73\"/>\n      <use x=\"620.064453\" xlink:href=\"#DejaVuSans-63\"/>\n      <use x=\"675.044922\" xlink:href=\"#DejaVuSans-6f\"/>\n      <use x=\"736.226562\" xlink:href=\"#DejaVuSans-72\"/>\n      <use x=\"775.089844\" xlink:href=\"#DejaVuSans-65\"/>\n     </g>\n    </g>\n   </g>\n   <g id=\"line2d_14\">\n    <path clip-path=\"url(#p69eb0ed583)\" d=\"M 65.361932 17.083636 \nL 116.089205 184.541112 \nL 166.816477 160.611859 \nL 217.54375 113.53885 \nL 268.271023 88.178131 \nL 318.998295 214.756364 \nL 369.725568 176.285942 \n\" style=\"fill:none;stroke:#1f77b4;stroke-linecap:square;stroke-width:1.5;\"/>\n   </g>\n   <g id=\"patch_3\">\n    <path d=\"M 50.14375 224.64 \nL 50.14375 7.2 \n\" style=\"fill:none;stroke:#000000;stroke-linecap:square;stroke-linejoin:miter;stroke-width:0.8;\"/>\n   </g>\n   <g id=\"patch_4\">\n    <path d=\"M 384.94375 224.64 \nL 384.94375 7.2 \n\" style=\"fill:none;stroke:#000000;stroke-linecap:square;stroke-linejoin:miter;stroke-width:0.8;\"/>\n   </g>\n   <g id=\"patch_5\">\n    <path d=\"M 50.14375 224.64 \nL 384.94375 224.64 \n\" style=\"fill:none;stroke:#000000;stroke-linecap:square;stroke-linejoin:miter;stroke-width:0.8;\"/>\n   </g>\n   <g id=\"patch_6\">\n    <path d=\"M 50.14375 7.2 \nL 384.94375 7.2 \n\" style=\"fill:none;stroke:#000000;stroke-linecap:square;stroke-linejoin:miter;stroke-width:0.8;\"/>\n   </g>\n   <g id=\"legend_1\">\n    <g id=\"patch_7\">\n     <path d=\"M 340.445312 29.878125 \nL 377.94375 29.878125 \nQ 379.94375 29.878125 379.94375 27.878125 \nL 379.94375 14.2 \nQ 379.94375 12.2 377.94375 12.2 \nL 340.445312 12.2 \nQ 338.445312 12.2 338.445312 14.2 \nL 338.445312 27.878125 \nQ 338.445312 29.878125 340.445312 29.878125 \nz\n\" style=\"fill:#ffffff;opacity:0.8;stroke:#cccccc;stroke-linejoin:miter;\"/>\n    </g>\n    <g id=\"line2d_15\">\n     <path d=\"M 342.445312 20.298438 \nL 362.445312 20.298438 \n\" style=\"fill:none;stroke:#1f77b4;stroke-linecap:square;stroke-width:1.5;\"/>\n    </g>\n    <g id=\"line2d_16\"/>\n    <g id=\"text_16\">\n     <!-- c -->\n     <g transform=\"translate(370.445312 23.798438)scale(0.1 -0.1)\">\n      <use xlink:href=\"#DejaVuSans-63\"/>\n     </g>\n    </g>\n   </g>\n  </g>\n </g>\n <defs>\n  <clipPath id=\"p69eb0ed583\">\n   <rect height=\"217.44\" width=\"334.8\" x=\"50.14375\" y=\"7.2\"/>\n  </clipPath>\n </defs>\n</svg>\n",
      "image/png": "[encoded data removed]"
     },
     "metadata": {
      "needs_background": "light"
     }
    }
   ],
   "source": [
    "# visualize coherence scores to select number of topics\n",
    "limit=21; start=2; step=3;\n",
    "x = range(start, limit, step)\n",
    "plt.plot(x, coherence_values)\n",
    "plt.xlabel(\"Num Topics\")\n",
    "plt.ylabel(\"Coherence score\")\n",
    "plt.legend((\"coherence_values\"), loc='best')\n",
    "plt.show()"
   ]
  },
  {
   "cell_type": "code",
   "execution_count": 22,
   "metadata": {},
   "outputs": [
    {
     "output_type": "stream",
     "name": "stdout",
     "text": [
      "Num Topics = 2  has Coherence Value of 0.4732\n",
      "Num Topics = 5  has Coherence Value of 0.3875\n",
      "Num Topics = 8  has Coherence Value of 0.3998\n",
      "Num Topics = 11  has Coherence Value of 0.4238\n",
      "Num Topics = 14  has Coherence Value of 0.4368\n",
      "Num Topics = 17  has Coherence Value of 0.3721\n",
      "Num Topics = 20  has Coherence Value of 0.3918\n",
      "/Users/keila/.local/share/virtualenvs/DS-Unit-4-Sprint-1-NLP-E0pgGHex/lib/python3.8/site-packages/ipykernel/ipkernel.py:283: DeprecationWarning: `should_run_async` will not call `transform_cell` automatically in the future. Please pass the result to `transformed_cell` argument and any exception that happen during thetransform in `preprocessing_exc_tuple` in IPython 7.17 and above.\n",
      "  and should_run_async(code)\n"
     ]
    }
   ],
   "source": [
    "# Print the coherence scores\n",
    "for m, cv in zip(x, coherence_values):\n",
    "    print(\"Num Topics =\", m, \" has Coherence Value of\", round(cv, 4))"
   ]
  },
  {
   "cell_type": "code",
   "execution_count": 32,
   "metadata": {},
   "outputs": [
    {
     "output_type": "stream",
     "name": "stderr",
     "text": [
      "/Users/keila/.local/share/virtualenvs/DS-Unit-4-Sprint-1-NLP-E0pgGHex/lib/python3.8/site-packages/ipykernel/ipkernel.py:283: DeprecationWarning: `should_run_async` will not call `transform_cell` automatically in the future. Please pass the result to `transformed_cell` argument and any exception that happen during thetransform in `preprocessing_exc_tuple` in IPython 7.17 and above.\n  and should_run_async(code)\n"
     ]
    }
   ],
   "source": [
    "# select optimal model based on coherence scores\n",
    "optimal_model = model_list[4]"
   ]
  },
  {
   "cell_type": "code",
   "execution_count": 33,
   "metadata": {},
   "outputs": [
    {
     "output_type": "stream",
     "name": "stderr",
     "text": [
      "/Users/keila/.local/share/virtualenvs/DS-Unit-4-Sprint-1-NLP-E0pgGHex/lib/python3.8/site-packages/ipykernel/ipkernel.py:283: DeprecationWarning: `should_run_async` will not call `transform_cell` automatically in the future. Please pass the result to `transformed_cell` argument and any exception that happen during thetransform in `preprocessing_exc_tuple` in IPython 7.17 and above.\n  and should_run_async(code)\n"
     ]
    },
    {
     "output_type": "execute_result",
     "data": {
      "text/plain": [
       "PreparedData(topic_coordinates=              x         y  topics  cluster       Freq\n",
       "topic                                                \n",
       "2     -0.195057  0.026326       1        1  18.036593\n",
       "7     -0.164415 -0.026181       2        1  10.345766\n",
       "0     -0.179531  0.143199       3        1   8.947258\n",
       "13     0.058220 -0.043374       4        1   8.204963\n",
       "4     -0.224843 -0.133992       5        1   7.657578\n",
       "11    -0.169200 -0.183204       6        1   7.100673\n",
       "8     -0.083854  0.190582       7        1   7.014248\n",
       "10     0.062577 -0.098944       8        1   6.071353\n",
       "1      0.256227  0.011397       9        1   5.289403\n",
       "3      0.038672  0.342743      10        1   5.132170\n",
       "12     0.065568 -0.126496      11        1   4.530146\n",
       "6      0.209226  0.046643      12        1   4.158636\n",
       "9      0.127000 -0.029339      13        1   3.945692\n",
       "5      0.199411 -0.119361      14        1   3.565520, topic_info=             Term          Freq         Total Category  logprob  loglift\n",
       "22          great  10834.000000  10834.000000  Default  30.0000  30.0000\n",
       "33           good   7695.000000   7695.000000  Default  29.0000  29.0000\n",
       "82           love   6504.000000   6504.000000  Default  28.0000  28.0000\n",
       "3716       tablet  10791.000000  10791.000000  Default  27.0000  27.0000\n",
       "4         battery   4680.000000   4680.000000  Default  26.0000  26.0000\n",
       "...           ...           ...           ...      ...      ...      ...\n",
       "148        pretty    462.439302    717.962271  Topic14  -3.2214   2.8940\n",
       "196           try    221.645409    497.240441  Topic14  -3.9568   2.5259\n",
       "494    experience    108.362436    231.691094  Topic14  -4.6724   2.5739\n",
       "130   replacement     68.321029    370.527944  Topic14  -5.1337   1.6431\n",
       "156          time     68.807918   2289.068966  Topic14  -5.1266  -0.1707\n",
       "\n",
       "[586 rows x 6 columns], token_table=      Topic      Freq     Term\n",
       "term                          \n",
       "453       2  0.996280        1\n",
       "203       2  0.996802       10\n",
       "204       5  0.986867       12\n",
       "750       5  0.996051       16\n",
       "206       2  0.999342        2\n",
       "...     ...       ...      ...\n",
       "1087     14  0.877704      yay\n",
       "95        2  0.999722     year\n",
       "1070      5  0.998043    young\n",
       "3123      8  0.995460  youtube\n",
       "1397      2  0.998291       yr\n",
       "\n",
       "[608 rows x 3 columns], R=30, lambda_step=0.01, plot_opts={'xlab': 'PC1', 'ylab': 'PC2'}, topic_order=[3, 8, 1, 14, 5, 12, 9, 11, 2, 4, 13, 7, 10, 6])"
      ],
      "text/html": "\n<link rel=\"stylesheet\" type=\"text/css\" href=\"https://cdn.jsdelivr.net/gh/bmabey/pyLDAvis@3.3.1/pyLDAvis/js/ldavis.v1.0.0.css\">\n\n\n<div id=\"ldavis_el92451403607005724968611285158\"></div>\n<script type=\"text/javascript\">\n\nvar ldavis_el92451403607005724968611285158_data = {\"mdsDat\": {\"x\": [-0.19505704125460016, -0.16441454343860268, -0.1795307615700821, 0.0582202283693712, -0.22484317965195103, -0.16920010952634149, -0.08385375195952868, 0.06257712471344817, 0.256226620164225, 0.03867176949569294, 0.06556774490719516, 0.20922566042666502, 0.12699968875761952, 0.1994105505668886], \"y\": [0.026326255855768373, -0.026180565527696816, 0.14319891953854805, -0.043373968642159574, -0.13399228136881844, -0.18320409051079106, 0.19058244976979472, -0.0989437973003749, 0.011397398501563462, 0.34274288522209545, -0.12649645512831273, 0.04664319540506051, -0.02933896280520225, -0.11936098300947444], \"topics\": [1, 2, 3, 4, 5, 6, 7, 8, 9, 10, 11, 12, 13, 14], \"cluster\": [1, 1, 1, 1, 1, 1, 1, 1, 1, 1, 1, 1, 1, 1], \"Freq\": [18.036592789243997, 10.345765973374732, 8.947258322563268, 8.204963068097367, 7.657578090893767, 7.1006726263878495, 7.014248209187883, 6.071352854842347, 5.2894032678419824, 5.13217000663755, 4.5301464226765, 4.158635884937802, 3.9456924260774446, 3.565520057237495]}, \"tinfo\": {\"Term\": [\"great\", \"good\", \"love\", \"tablet\", \"battery\", \"child\", \"work\", \"app\", \"easy\", \"old\", \"long\", \"price\", \"purchase\", \"year\", \"kid\", \"use\", \"product\", \"fire\", \"game\", \"screen\", \"gift\", \"kindle\", \"happy\", \"play\", \"far\", \"quality\", \"new\", \"read\", \"perfect\", \"thing\", \"fire\", \"read\", \"ipad\", \"video\", \"hd\", \"internet\", \"user\", \"reading\", \"card\", \"camera\", \"give\", \"netflix\", \"best\", \"sale\", \"add\", \"low\", \"help\", \"option\", \"large\", \"account\", \"absolutely\", \"hd8\", \"highly\", \"sd\", \"different\", \"review\", \"computer\", \"decide\", \"member\", \"cost\", \"kindle\", \"recommend\", \"book\", \"think\", \"memory\", \"tablet\", \"well\", \"buy\", \"purchase\", \"like\", \"need\", \"device\", \"look\", \"get\", \"use\", \"lot\", \"old\", \"year\", \"8\", \"2\", \"7\", \"life\", \"3\", \"friendly\", \"5\", \"age\", \"have\", \"drop\", \"show\", \"hour\", \"yr\", \"turn\", \"10\", \"6\", \"adult\", \"inch\", \"include\", \"star\", \"1\", \"grand\", \"profile\", \"9\", \"charger\", \"wait\", \"stop\", \"edition\", \"4\", \"charge\", \"month\", \"kid\", \"buy\", \"tablet\", \"case\", \"time\", \"purchase\", \"come\", \"use\", \"play\", \"perfect\", \"size\", \"overall\", \"travel\", \"hand\", \"carry\", \"fit\", \"thank\", \"offer\", \"space\", \"glad\", \"button\", \"lightweight\", \"graphic\", \"setup\", \"open\", \"page\", \"tab\", \"protective\", \"extremely\", \"everyday\", \"handle\", \"sturdy\", \"convenient\", \"live\", \"cool\", \"oasis\", \"purse\", \"close\", \"remove\", \"small\", \"easy\", \"want\", \"cover\", \"use\", \"storage\", \"hold\", \"case\", \"right\", \"screen\", \"come\", \"need\", \"nice\", \"tablet\", \"like\", \"little\", \"pretty\", \"battery\", \"child\", \"long\", \"fun\", \"expensive\", \"complaint\", \"super\", \"last\", \"let\", \"brand\", \"one\", \"pop\", \"lol\", \"nearly\", \"subscribe\", \"cute\", \"name\", \"buying\", \"blow\", \"prove\", \"magic\", \"hesitate\", \"toy\", \"cheap\", \"national\", \"sure\", \"matter\", \"hope\", \"well\", \"damn\", \"lot\", \"compare\", \"way\", \"go\", \"big\", \"buy\", \"find\", \"store\", \"daughter\", \"son\", \"christmas\", \"light\", \"wife\", \"issue\", \"mom\", \"clear\", \"young\", \"fact\", \"present\", \"weight\", \"school\", \"ok\", \"quickly\", \"pick\", \"16\", \"tech\", \"table\", \"night\", \"playing\", \"handy\", \"heavy\", \"got\", \"buck\", \"consider\", \"white\", \"require\", \"previously\", \"12\", \"play\", \"game\", \"enjoy\", \"set\", \"use\", \"nt\", \"easy\", \"get\", \"buy\", \"kid\", \"like\", \"book\", \"time\", \"gift\", \"thing\", \"control\", \"parental\", \"ad\", \"plus\", \"husband\", \"friend\", \"tv\", \"birthday\", \"ask\", \"plenty\", \"receive\", \"car\", \"mainly\", \"boy\", \"perfectly\", \"leave\", \"impressed\", \"alternative\", \"application\", \"die\", \"disappointed\", \"stay\", \"number\", \"gaming\", \"alot\", \"win\", \"hundred\", \"surprise\", \"replacement\", \"kid\", \"little\", \"especially\", \"like\", \"set\", \"slow\", \"run\", \"time\", \"pay\", \"get\", \"use\", \"need\", \"device\", \"able\", \"buy\", \"love\", \"fast\", \"free\", \"grandson\", \"granddaughter\", \"color\", \"durable\", \"navigate\", \"educational\", \"mother\", \"speed\", \"niece\", \"learning\", \"parent\", \"favorite\", \"trip\", \"nephew\", \"grandkid\", \"toddler\", \"choose\", \"tool\", \"program\", \"daily\", \"wonderful\", \"sister\", \"protect\", \"law\", \"dad\", \"blue\", \"busy\", \"watch\", \"tablet\", \"movie\", \"buy\", \"lot\", \"money\", \"kindle\", \"get\", \"download\", \"app\", \"feature\", \"google\", \"access\", \"android\", \"music\", \"phone\", \"deal\", \"break\", \"wifi\", \"content\", \"limit\", \"amazing\", \"youtube\", \"samsung\", \"listen\", \"affordable\", \"speaker\", \"view\", \"alexa\", \"lock\", \"setting\", \"connect\", \"regular\", \"install\", \"limited\", \"os\", \"portable\", \"freetime\", \"stream\", \"able\", \"store\", \"load\", \"download\", \"movie\", \"watch\", \"great\", \"excellent\", \"online\", \"ability\", \"beginner\", \"begin\", \"example\", \"initial\", \"determine\", \"quantity\", \"value\", \"price\", \"work\", \"ship\", \"need\", \"pad\", \"starter\", \"shopping\", \"person\", \"college\", \"clarity\", \"grip\", \"intermediate\", \"tough\", \"expandable\", \"block\", \"bestbuy\", \"student\", \"volume\", \"wow\", \"sharp\", \"buy\", \"time\", \"bulk\", \"personal\", \"bumper\", \"browser\", \"product\", \"reader\", \"upgrade\", \"version\", \"e\", \"beat\", \"resolution\", \"pleased\", \"easily\", \"service\", \"surf\", \"build\", \"point\", \"choice\", \"quick\", \"bright\", \"function\", \"medium\", \"exactly\", \"improvement\", \"research\", \"fan\", \"note\", \"okay\", \"deliver\", \"general\", \"durability\", \"u\", \"major\", \"manufacturer\", \"display\", \"nice\", \"screen\", \"basic\", \"web\", \"price\", \"tablet\", \"want\", \"big\", \"hard\", \"right\", \"new\", \"learn\", \"picture\", \"black\", \"email\", \"friday\", \"simple\", \"check\", \"home\", \"decent\", \"extra\", \"worry\", \"facebook\", \"purpose\", \"people\", \"see\", \"bring\", \"photo\", \"entertainment\", \"instal\", \"customer\", \"finally\", \"fantastic\", \"capability\", \"s\", \"hit\", \"line\", \"magazine\", \"multiple\", \"surprised\", \"start\", \"say\", \"device\", \"look\", \"find\", \"good\", \"expect\", \"warranty\", \"inexpensive\", \"stuff\", \"kind\", \"special\", \"appear\", \"remember\", \"bother\", \"advertising\", \"bargain\", \"party\", \"currently\", \"group\", \"truly\", \"single\", \"form\", \"comparison\", \"generic\", \"convert\", \"environment\", \"delivery\", \"brown\", \"lucky\", \"job\", \"triple\", \"disposable\", \"value\", \"price\", \"buy\", \"time\", \"happy\", \"quality\", \"awesome\", \"item\", \"keep\", \"allow\", \"wish\", \"bad\", \"order\", \"entertain\", \"provide\", \"safe\", \"powerful\", \"solid\", \"miss\", \"continue\", \"half\", \"backup\", \"flash\", \"par\", \"duracell\", \"pricing\", \"performer\", \"energizer\", \"prepare\", \"maintain\", \"wrong\", \"batch\", \"high\", \"locally\", \"second\", \"purchase\", \"definitely\", \"price\", \"time\", \"probably\", \"buy\", \"far\", \"problem\", \"available\", \"return\", \"sound\", \"fine\", \"update\", \"design\", \"perform\", \"primarily\", \"variety\", \"advertise\", \"send\", \"usb\", \"30\", \"cause\", \"internal\", \"thoroughly\", \"today\", \"describe\", \"refund\", \"sorry\", \"consumption\", \"fair\", \"significant\", \"yay\", \"shift\", \"water\", \"dozen\", \"volt\", \"work\", \"market\", \"pretty\", \"try\", \"experience\", \"replacement\", \"time\"], \"Freq\": [10834.0, 7695.0, 6504.0, 10791.0, 4680.0, 4532.0, 4119.0, 3506.0, 4917.0, 3833.0, 3260.0, 4583.0, 3409.0, 3201.0, 4422.0, 6155.0, 2143.0, 3441.0, 2720.0, 2625.0, 2163.0, 4058.0, 1553.0, 2274.0, 1427.0, 1471.0, 1527.0, 2728.0, 1650.0, 1460.0, 3440.263009275578, 2727.7629711294685, 1321.915147022221, 927.0065731068988, 836.7323300510718, 682.4093518436684, 587.6732210186531, 527.1220720722262, 485.04898327163284, 482.65340919363115, 475.8210650542247, 441.80087718018154, 433.61848354926445, 431.2270047497057, 423.0905874447751, 421.07767618448486, 411.44448921236005, 380.41994291563935, 355.99144319216555, 345.3024934374422, 343.89150620270016, 326.9488478507062, 316.51334122789035, 299.5109191124853, 294.2662871235633, 277.6099160365895, 271.2929763401594, 270.75739582538733, 253.66184707818906, 252.44230045972787, 3664.119010317963, 1154.5947379036465, 2066.968062078113, 532.7213005705971, 383.6542573206183, 3598.477048040932, 924.5044125819546, 1531.3842710833026, 1118.6156964447603, 1002.683168850891, 755.7722790785183, 641.6063453975225, 556.4341094333769, 676.1208606814888, 849.332082123574, 519.552523209372, 3832.1873514964836, 3200.7895021648333, 1182.339044753144, 1080.6109305328391, 825.6548990792816, 807.9916992374386, 771.009378483657, 615.8241105533256, 593.8431756057688, 504.14534205398616, 499.99307377281013, 430.802759339182, 389.13205528707243, 378.69449068165784, 376.544862711091, 365.9221932536949, 328.9548437552851, 327.9416217651661, 307.39548432510077, 292.18086775199106, 259.8825610703359, 254.1292454416822, 244.81418046235336, 240.21388640196074, 216.03602935075887, 210.45031034866244, 192.1497829128183, 184.6415887217111, 182.99454704679943, 179.40080368490615, 644.2488241518599, 876.285742868308, 279.34856002006927, 1520.625647377116, 1129.2900613360146, 1141.105200679958, 435.5853550562512, 566.1290641868889, 640.7649691779831, 363.6477526206667, 409.3756981991449, 323.6876867581809, 1649.2696526414134, 1537.2147168264971, 574.1792527637668, 501.2479443438534, 368.3857710066842, 341.81516740670617, 330.3529289141619, 318.9869568970339, 305.1329271704611, 274.16697615930343, 233.10203804593024, 219.55288375943857, 216.4111810158043, 213.7173178251514, 213.0518358608109, 211.63976051945852, 200.8346883446726, 192.9261156865355, 185.39024380737732, 181.97304125466607, 163.04417827868724, 161.7211643248331, 151.27278463218562, 149.3284943661799, 137.40347795228277, 133.90410760182942, 131.61211767018455, 129.490286995311, 124.26795259456013, 123.95645443268963, 695.1541957684137, 3602.766937534502, 1312.5031932687111, 272.61530901123797, 2668.375381750363, 399.56513888891817, 374.9785077120885, 686.9864972697953, 401.6107066877268, 1053.6814833406431, 507.0930583739718, 684.5170481896727, 527.2650292535859, 736.9679754629236, 449.85922580258097, 313.1643519949602, 254.5290485631189, 4679.090289771358, 4531.567807151222, 3259.636686514597, 1121.9784325664166, 1034.900293334612, 880.8601028313308, 813.6896474578251, 761.9789014799096, 726.600578809466, 575.0027651519656, 692.7693150523202, 224.29477819098503, 215.58497710115827, 118.11877518840828, 111.37120180345417, 57.985119095327505, 45.527186376238525, 44.467082649612436, 41.7000679777344, 39.508356679642745, 18.425645658657, 17.96472701247337, 175.89210578851234, 706.6677076139255, 2.320160857434902, 441.0568037759032, 59.280466093498944, 189.09623200307232, 869.3923628322933, 0.7353096828384925, 700.3062407083443, 136.42349865169103, 285.8025041309089, 246.56887945001063, 239.10580187447906, 372.3456981015339, 130.25078773792367, 129.43709267543673, 1365.3071494555068, 1338.363778237529, 1240.602973773673, 874.4101239087781, 661.670871954257, 526.8816866579793, 394.5074159224578, 385.026540640867, 337.557276589104, 284.40692429447927, 281.27411917787276, 255.13021751487477, 230.95988315903136, 215.28440545165373, 211.75251466581977, 198.91762744474886, 190.6519523778098, 189.05587629893662, 163.56669304838823, 141.38200404986887, 132.88285865038324, 115.12324499807117, 110.09672448181246, 106.59115735426535, 99.86162017289203, 98.3761127317987, 94.90553949432994, 94.35646345159682, 84.10597759509973, 76.91938126280745, 1949.3331283646314, 2259.0964932699844, 749.3994763973084, 639.5339155954669, 1687.56445746707, 212.76213302077315, 1313.9152082614667, 680.3431202323785, 715.161890174487, 558.4995646632362, 467.2353138794038, 429.7748124036828, 378.49583922975006, 2162.835061783792, 1459.5642673697275, 969.670965853992, 795.5627095879449, 418.64815080664675, 404.57815187082707, 352.0650686619922, 349.00577694775916, 335.25476413962366, 332.06997602985047, 251.65649461102245, 246.4860990055917, 232.6308498113695, 185.7245405617621, 165.1853722579654, 161.87422789382683, 160.35316987672712, 156.345292654752, 150.84416310043756, 140.27791690560466, 126.624358347072, 124.26067092596737, 122.01101153332161, 118.21654052352956, 111.67905537188922, 107.98903571289019, 103.96087657087529, 88.37260341090254, 82.08320365268975, 78.84485171222327, 301.2224976823148, 2341.992495057385, 696.0963903341166, 267.3579896818054, 1174.1269075254183, 462.6750723047267, 265.76280108573684, 247.34817196728181, 573.7087283906448, 244.66859391026375, 369.85924514864263, 539.8044949124104, 330.0427513670525, 274.0224329889888, 234.90347818288384, 324.7919374649935, 6503.615022139496, 897.1738877325369, 640.4623253134514, 582.8964831850398, 470.4985710242948, 365.84126426630564, 349.97147729498596, 326.8105838158133, 273.8043482260547, 240.0549612682103, 220.10110055550018, 218.0635760863151, 215.05619319749218, 207.93575102346065, 207.72733116076833, 203.66474706798152, 198.20898820682825, 187.78434268134387, 186.08918738650294, 167.6466945094792, 152.18757854524438, 147.3923927955157, 135.00444915133434, 131.17816625386487, 123.03443882631535, 119.95107771347683, 116.2546033356852, 111.28819052912316, 87.9418692001293, 85.9292213350343, 748.1733281258806, 3693.1828091644034, 578.6682037088003, 1314.1831520049348, 408.7833580502871, 220.20884608614722, 393.213215774072, 284.9249865604645, 203.2472490628472, 3505.506135832672, 1129.1270060556888, 744.4455143542377, 688.7662216263487, 527.6465134515079, 498.1987358437369, 489.1245540469479, 476.2363081283656, 467.55730328195216, 377.6077507684334, 366.0873317472026, 360.2789290289646, 359.77159534597536, 277.1623903545532, 247.61872260026556, 232.5511952724627, 229.61409313468454, 224.85608913086838, 218.67465775179906, 211.19596153642442, 199.5712341806177, 198.7939854503602, 197.93124983655866, 192.8285963910451, 161.97827145525946, 159.03446049948653, 154.3382327621919, 153.584161619582, 145.97938557671426, 140.5981231910242, 603.4513411474824, 733.8566836377902, 276.47136372077074, 485.4454014979805, 418.6852367996181, 427.4229483985664, 10833.000070881397, 730.4778475816569, 375.60443421116787, 275.12715393602065, 215.25372737845882, 43.71171258023227, 32.38389327198045, 20.87407351872189, 13.80988775751968, 1.88910806304093, 326.1864314099517, 1973.15035244594, 1222.953573514065, 8.84114310075855, 157.99198298698914, 0.08422689328595691, 0.08150799598449347, 0.07966802650034727, 0.08028051043556471, 0.07857922437826957, 0.07918961285436787, 0.07807117718728451, 0.07759942522477341, 0.07845707005805226, 0.0793200630034113, 0.07769958504311711, 0.07780457692763851, 0.07756599952427229, 0.07859906868888286, 0.07745016285692163, 0.07906516760309869, 247.978066328117, 42.780388964834934, 0.7468998813836217, 0.07830066123633897, 0.07874984791893282, 0.07860148472197172, 2142.2856998473676, 688.7626242817338, 495.91672749913374, 477.86919504023933, 417.71406808234514, 409.8296030290079, 332.32943602134867, 324.94386580715735, 309.19615931774456, 287.77543897508775, 261.63353584850347, 245.52596008894753, 238.13176680917766, 236.29102974368493, 189.61871060557868, 180.83379552412867, 176.22566035308276, 165.27996040820895, 145.63758031777766, 115.68103496097658, 89.84431067059613, 80.49707849109664, 75.82656204383863, 66.69060273954021, 61.87175402727672, 61.38046846086429, 57.809878407838156, 43.61416058347877, 36.474976989006386, 31.85678740118122, 280.6938046326925, 957.0141687485554, 1570.7506534538527, 274.9633036755917, 298.4323672139396, 1043.9937727375295, 1620.992393481589, 516.798498474606, 341.2716327115397, 159.24583432041402, 184.8713634208689, 1526.8802495384723, 855.2826608721488, 707.3261596225775, 614.5266258591196, 541.7503138266267, 508.0862136619633, 415.34343049064256, 333.05317929094554, 328.90756087836854, 318.84416406897344, 298.66059242905027, 256.91654099323625, 236.1552598455342, 225.9138351394418, 212.51481187547287, 210.20254753658014, 208.42487432420012, 205.75448330273622, 198.40015239876513, 179.20097998610794, 169.41637148917434, 148.82897645981643, 146.6343825125471, 143.4149315693301, 142.76531694928067, 136.1834962806664, 130.96142693119913, 128.2038939903442, 122.13635327691458, 118.74975003380183, 288.45884376526163, 264.8396806958762, 598.0311569832238, 485.683361978626, 151.83208119932033, 7694.904472618997, 639.1878385001429, 591.1660898127673, 357.87985558788347, 279.2166169603642, 170.50741075211607, 140.36562226154183, 105.20735545624555, 85.94269435414213, 68.9617523468945, 65.07143096104761, 64.20852029605523, 52.527792754519695, 50.13698173818551, 49.056346351127885, 48.80918984191366, 46.84732564194287, 43.27640099401772, 35.709828757149324, 31.13715636125355, 21.01514740909526, 18.86015422020819, 14.352755176658636, 5.333562465154995, 4.2272919002146, 175.6975652527949, 1.6563888216947322, 1.4999931093644712, 371.57996694335066, 1154.2214897507067, 312.2793002333161, 22.79167884908443, 1552.487304517669, 1470.130885389508, 925.7942496537474, 825.6543980017939, 766.1075878596503, 573.3324366997675, 553.1241904594591, 345.0954659701561, 347.5028397961019, 242.07437716423948, 221.7129465700492, 211.04546720396746, 162.84721193517956, 151.5717851509119, 149.0126603867475, 99.31786541241466, 59.3635718398551, 48.83657616762203, 40.241284292325346, 26.184851944349077, 19.255154727525998, 17.101901608417524, 12.22756791260252, 11.029419807340977, 10.342471028700944, 8.673654917838267, 184.4920512434818, 2.0503038250164516, 165.97654945019417, 1.1985586258020857, 203.30110461947731, 1649.6521497410204, 151.625908537331, 411.6964729451846, 120.1154425849822, 33.299347796135756, 140.15520275920335, 1426.3304420146487, 1007.8766077922529, 727.9928713691884, 547.5561644281046, 493.7135604796871, 488.86359583074005, 364.93496999103746, 273.3002660525648, 183.96971413739334, 148.90001992352694, 140.11805118238573, 119.3823021030278, 114.43169231131407, 91.62777406056018, 86.883797684546, 85.96316556271002, 76.88686051172735, 72.18789056243621, 65.73994679961629, 62.875710601571775, 31.43113860836991, 28.358541922248907, 23.91223186750299, 21.684492002679352, 16.35353904602741, 11.469668458205094, 11.237262535105476, 10.624672661552397, 7.522863490668016, 7.403040423503087, 2895.7052270017007, 113.10096145647046, 462.43930210980767, 221.64540944924215, 108.36243615264603, 68.32102948146007, 68.80791817002778], \"Total\": [10834.0, 7695.0, 6504.0, 10791.0, 4680.0, 4532.0, 4119.0, 3506.0, 4917.0, 3833.0, 3260.0, 4583.0, 3409.0, 3201.0, 4422.0, 6155.0, 2143.0, 3441.0, 2720.0, 2625.0, 2163.0, 4058.0, 1553.0, 2274.0, 1427.0, 1471.0, 1527.0, 2728.0, 1650.0, 1460.0, 3441.370404313462, 2728.870365349629, 1323.022542746714, 928.1139702541855, 837.8397255157562, 683.5167475636621, 588.7806173391083, 528.2294663168, 486.1563779598346, 483.7608048425488, 476.92846098996296, 442.90827323486343, 434.72587889336114, 432.3344011899392, 424.1979848397535, 422.1850713485994, 412.5518849157973, 381.52733691003556, 357.0988376767318, 346.40988940236196, 344.9989027897261, 328.0562473045404, 317.62073483332176, 300.6183140907207, 295.37368347458414, 278.7173115054048, 272.4003712776332, 271.8647896087586, 254.76924379275565, 253.54969615347, 4058.3908011148524, 1322.4443400609125, 2497.7905062548643, 638.9868719870286, 437.7079142713514, 10791.588253714237, 1922.783224461886, 6087.94284603828, 3409.9757208587193, 3094.8045279975277, 1929.207416890404, 1514.6129754135413, 1102.2607449533662, 2012.1684136546353, 6155.287449411294, 1629.4850615954645, 3833.287883885883, 3201.890033707903, 1183.4395805482538, 1081.7114625299148, 826.7554338931419, 809.0922418226503, 772.1099100851541, 616.9246441509821, 594.9437071687655, 505.24587426440735, 501.09360897949193, 431.903291695329, 390.2325916052916, 379.7950248134625, 377.6453941409421, 367.0227269058762, 330.055379220865, 329.042153249402, 308.4960176010666, 293.2814026577406, 260.9830967838266, 255.22978017418004, 245.91471300953575, 241.31441926328154, 217.1365636436809, 211.5508418986018, 193.25031567511598, 185.7421239942079, 184.09508139841762, 180.50133614398547, 661.1042290581656, 1019.5104189471045, 326.76475695998107, 4422.079866376102, 6087.94284603828, 10791.588253714237, 1123.6032771494622, 2289.0689663766557, 3409.9757208587193, 964.7923279809248, 6155.287449411294, 2274.06158777911, 1650.365653537615, 1538.3107172915654, 575.2752580459, 502.3439458997617, 369.4821041383671, 342.9111677435465, 331.44892884054246, 320.0829597778675, 306.2289323849508, 275.26297837356856, 234.19804094249918, 220.64888531416756, 217.50718123333633, 214.81332178376576, 214.14783638568625, 212.73576193222667, 201.93068866676822, 194.02211930285534, 186.4862440701994, 183.069043604288, 164.14017988442905, 162.81716572624734, 152.3687859416403, 150.42449369269463, 138.49947810333373, 135.00011140203907, 132.70812393318056, 130.58628599994518, 125.36395491222315, 125.05245915373841, 776.345971583507, 4917.718385074475, 1830.3356300004764, 320.5682465813357, 6155.287449411294, 541.170406663922, 504.70776828703015, 1123.6032771494622, 587.516006466343, 2625.4660744616535, 964.7923279809248, 1929.207416890404, 1485.3131337776433, 10791.588253714237, 3094.8045279975277, 1244.3538731282854, 717.9622710034405, 4680.039762588218, 4532.517280961399, 3260.586159530926, 1122.9279099802395, 1035.8497676151317, 881.8095766651238, 814.6391220753583, 762.9283735269055, 727.5500548609667, 575.9522373681364, 695.585312646936, 225.2442518552899, 216.53445194480116, 119.06824869647556, 112.3206783182231, 58.93459216845203, 46.47665992702922, 45.41655603749084, 42.64954047040321, 40.45782893960363, 19.375121693771415, 18.914223021117373, 213.44366859268655, 991.9796129229958, 3.269631692813788, 627.4766119349412, 87.59711918493349, 282.19051173816365, 1922.783224461886, 1.6847805398930589, 1629.4850615954645, 339.5802815666953, 808.4724040695636, 852.1814882277579, 924.24047694161, 6087.94284603828, 848.5095696046031, 1089.8370479193647, 1366.4124964482937, 1339.4691254405232, 1241.7083215729954, 875.5154724662824, 662.7762203162994, 527.9870376379899, 395.61276326957545, 386.1318923608972, 338.662626176944, 285.5122739311355, 282.37946611250976, 256.2355659715494, 232.06523042565993, 216.38975619906762, 212.85786289867644, 200.02297806246088, 191.75730439942478, 190.16122626141268, 164.6720435973869, 142.48735031930735, 133.9882056239151, 116.22859602131217, 111.20207735538506, 107.69650611072285, 100.96697399518942, 99.48146288660824, 96.01088916540364, 95.4618126024557, 85.21133065764334, 78.02473768459407, 2274.06158777911, 2720.0091009899816, 1143.4577125582737, 1181.7145897474682, 6155.287449411294, 310.2665962075385, 4917.718385074475, 2012.1684136546353, 6087.94284603828, 4422.079866376102, 3094.8045279975277, 2497.7905062548643, 2289.0689663766557, 2163.9215590657977, 1460.6507659797012, 970.7574619208984, 796.6492055300463, 419.7346501742498, 405.66464970611406, 353.1515671482673, 350.0922738494228, 336.3412632675346, 333.1564719836738, 252.742992952839, 247.57259761125135, 233.71734849452366, 186.8110376806414, 166.27187299464305, 162.96072461912507, 161.439669681385, 157.4317922208741, 151.93066389061332, 141.36441903700992, 127.71086142724351, 125.34716918726753, 123.09751180210512, 119.30303892838504, 112.76555275729973, 109.07553401118585, 105.04737310574093, 89.45909942218387, 83.16970595990259, 79.93135338532971, 370.5279444084695, 4422.079866376102, 1244.3538731282854, 368.48476814449197, 3094.8045279975277, 1181.7145897474682, 503.16575881574545, 445.4289164006593, 2289.0689663766557, 483.6729157085448, 2012.1684136546353, 6155.287449411294, 1929.207416890404, 1514.6129754135413, 839.3770517241528, 6087.94284603828, 6504.731312078072, 898.2901847304711, 641.5786186348598, 584.0127720268459, 471.61485967564835, 366.9575560994515, 351.0877671813571, 327.926875730621, 274.9206381744695, 241.17125234425222, 221.21739461251238, 219.17986427674603, 216.17248277589042, 209.0520417658094, 208.84362226953147, 204.7810404736093, 199.32527760187665, 188.90063094237104, 187.20547842119564, 168.7629903703155, 153.30386804465013, 148.5086838852204, 136.12074346955802, 132.29445638351453, 124.15072849114154, 121.0673669881427, 117.3708927266029, 112.40448258358954, 89.058160435467, 87.04551041039738, 1176.6483023179462, 10791.588253714237, 998.4054660752101, 6087.94284603828, 1629.4850615954645, 555.1190530789838, 4058.3908011148524, 2012.1684136546353, 1182.5731127261708, 3506.606979723395, 1130.227851675544, 745.5463567807498, 689.8670650010985, 528.7473576805834, 499.29957875520336, 490.2253985261404, 477.3371523477133, 468.6581479653537, 378.70859410046234, 367.1881759997428, 361.3797735891353, 360.8724394031023, 278.26323563654444, 248.719568748155, 233.6520375876916, 230.7149384950901, 225.95693501497686, 219.77550310675844, 212.29680420337726, 200.67207900009814, 199.89482963814626, 199.03209353715957, 193.92944072634384, 163.07911452283778, 160.13530464049478, 155.43907719809638, 154.68500628816352, 147.0802315498849, 141.6989665585872, 839.3770517241528, 1089.8370479193647, 421.30897334137404, 1182.5731127261708, 998.4054660752101, 1176.6483023179462, 10834.08886129049, 731.5666388889285, 376.6932289994084, 276.21594895747916, 216.34251694126098, 44.80050744439975, 33.472699443810555, 21.96287341652067, 14.89869345720214, 2.9778950564257034, 698.7647002204699, 4583.898412646431, 4119.645508555443, 31.134009068521596, 1929.207416890404, 1.2177523820660137, 1.1880646089264575, 1.185961836144466, 1.2020096417471013, 1.177684686124892, 1.1871910921272977, 1.1731723325687402, 1.1694604379222333, 1.1825565517917214, 1.1961675111226764, 1.1723184650057357, 1.17390643017024, 1.1705111463644773, 1.187088063673886, 1.1698941186171057, 1.1950302287748238, 6087.94284603828, 2289.0689663766557, 18.396971342899565, 1.1837726999686484, 1.2038984920070641, 1.2015970297774046, 2143.388743876964, 689.8656676937314, 497.01977212270253, 478.9722399708015, 418.81711215802227, 410.93264709469275, 333.43248130123163, 326.0469089915427, 310.2992032242786, 288.87848321155116, 262.73657977963603, 246.62900646989334, 239.23481195283185, 237.3940742150389, 190.72175543970383, 181.9368409195352, 177.32870406744067, 166.3830055445795, 146.74062415862176, 116.78407947741476, 90.9473595334645, 81.60012206511945, 76.9296121084516, 67.79365013566228, 62.974801648461806, 62.48351358538516, 58.91292424408712, 44.71720390133768, 37.57802540438697, 32.959834536351586, 355.666015972709, 1485.3131337776433, 2625.4660744616535, 384.51438005943976, 468.4135023159788, 4583.898412646431, 10791.588253714237, 1830.3356300004764, 924.24047694161, 315.7570987833508, 587.516006466343, 1527.9696168499313, 856.3720271388315, 708.4155274476178, 615.6159933295762, 542.8396808446298, 509.1755807820411, 416.4327969888291, 334.14254508331607, 329.9969273836121, 319.93353307781894, 299.74996054903283, 258.00590932288304, 237.2446267351842, 227.00320294832247, 213.60418004039073, 211.29191434808567, 209.5142404999868, 206.8438495572113, 199.48951928177854, 180.29034716252107, 170.5057400420785, 149.91834442094805, 147.72374884760117, 144.5042989165027, 143.8546833437226, 137.27286588186453, 132.05079369375974, 129.2932600325267, 123.22572167286985, 119.83911681829368, 393.47585424074305, 386.02584375225996, 1514.6129754135413, 1102.2607449533662, 848.5095696046031, 7695.979092625707, 640.2624590686677, 592.2407110261146, 358.9544778523549, 280.29123693216496, 171.5820317922013, 141.4402442545509, 106.28197871065535, 87.01731693175041, 70.03637436279746, 66.14605240073242, 65.28314041069079, 53.60241362247288, 51.211605711008104, 50.13096648549254, 49.8838123895876, 47.92194748612311, 44.35102223992216, 36.784450157179194, 32.21177845164488, 22.08976913397999, 19.934775648016846, 15.42737638713063, 6.408186205256039, 5.301909661879356, 248.51509305813732, 2.7310062726144713, 2.574611260348767, 698.7647002204699, 4583.898412646431, 6087.94284603828, 2289.0689663766557, 1553.5525007756776, 1471.196082544378, 926.8594459436691, 826.719593799931, 767.172784106666, 574.397634821197, 554.1893875172294, 346.16066247879814, 348.66429873517586, 243.13957370573053, 222.77814308633103, 212.11066356396043, 163.9124118497693, 152.63698119975928, 150.0778578557935, 100.38306233352388, 60.42876866867917, 49.90177439819885, 41.30648271734405, 27.250094967682184, 20.320348450736518, 18.16709757990727, 13.292793146550022, 12.09461351806831, 11.407681579728532, 9.738855854488643, 237.71756926809633, 3.11549761492963, 310.8090228742814, 2.2637579188420887, 384.8235728511383, 3409.9757208587193, 433.26693217027514, 4583.898412646431, 2289.0689663766557, 162.68028679038306, 6087.94284603828, 1427.3934685506904, 1008.9396342642768, 729.0558990585998, 548.6191907525806, 494.7765888568781, 489.92662162193017, 365.99799677065204, 274.3632928589231, 185.0327422174465, 149.96304827740587, 141.18107798365529, 120.44532971062378, 115.49471798327322, 92.69080258732836, 87.94682575286994, 87.02619393100913, 77.94989242124142, 73.25091627732711, 66.80297232701133, 63.938735885969045, 32.49416525492674, 29.42156997698021, 24.975260577695447, 22.747518452349905, 17.416570463816115, 12.532695696936111, 12.30029583444938, 11.68769828811731, 8.585888311018289, 8.466073164818818, 4119.645508555443, 157.12407242536943, 717.9622710034405, 497.2404414724318, 231.69109439465086, 370.5279444084695, 2289.0689663766557], \"Category\": [\"Default\", \"Default\", \"Default\", \"Default\", \"Default\", \"Default\", \"Default\", \"Default\", \"Default\", \"Default\", \"Default\", \"Default\", \"Default\", \"Default\", \"Default\", \"Default\", \"Default\", \"Default\", \"Default\", \"Default\", \"Default\", \"Default\", \"Default\", \"Default\", \"Default\", \"Default\", \"Default\", \"Default\", \"Default\", \"Default\", \"Topic1\", \"Topic1\", \"Topic1\", \"Topic1\", \"Topic1\", \"Topic1\", \"Topic1\", \"Topic1\", \"Topic1\", \"Topic1\", \"Topic1\", \"Topic1\", \"Topic1\", \"Topic1\", \"Topic1\", \"Topic1\", \"Topic1\", \"Topic1\", \"Topic1\", \"Topic1\", \"Topic1\", \"Topic1\", \"Topic1\", \"Topic1\", \"Topic1\", \"Topic1\", \"Topic1\", \"Topic1\", \"Topic1\", \"Topic1\", \"Topic1\", \"Topic1\", \"Topic1\", \"Topic1\", \"Topic1\", \"Topic1\", \"Topic1\", \"Topic1\", \"Topic1\", \"Topic1\", \"Topic1\", \"Topic1\", \"Topic1\", \"Topic1\", \"Topic1\", \"Topic1\", \"Topic2\", \"Topic2\", \"Topic2\", \"Topic2\", \"Topic2\", \"Topic2\", \"Topic2\", \"Topic2\", \"Topic2\", \"Topic2\", \"Topic2\", \"Topic2\", \"Topic2\", \"Topic2\", \"Topic2\", \"Topic2\", \"Topic2\", \"Topic2\", \"Topic2\", \"Topic2\", \"Topic2\", \"Topic2\", \"Topic2\", \"Topic2\", \"Topic2\", \"Topic2\", \"Topic2\", \"Topic2\", \"Topic2\", \"Topic2\", \"Topic2\", \"Topic2\", \"Topic2\", \"Topic2\", \"Topic2\", \"Topic2\", \"Topic2\", \"Topic2\", \"Topic2\", \"Topic2\", \"Topic2\", \"Topic2\", \"Topic3\", \"Topic3\", \"Topic3\", \"Topic3\", \"Topic3\", \"Topic3\", \"Topic3\", \"Topic3\", \"Topic3\", \"Topic3\", \"Topic3\", \"Topic3\", \"Topic3\", \"Topic3\", \"Topic3\", \"Topic3\", \"Topic3\", \"Topic3\", \"Topic3\", \"Topic3\", \"Topic3\", \"Topic3\", \"Topic3\", \"Topic3\", \"Topic3\", \"Topic3\", \"Topic3\", \"Topic3\", \"Topic3\", \"Topic3\", \"Topic3\", \"Topic3\", \"Topic3\", \"Topic3\", \"Topic3\", \"Topic3\", \"Topic3\", \"Topic3\", \"Topic3\", \"Topic3\", \"Topic3\", \"Topic3\", \"Topic3\", \"Topic3\", \"Topic3\", \"Topic3\", \"Topic3\", \"Topic4\", \"Topic4\", \"Topic4\", \"Topic4\", \"Topic4\", \"Topic4\", \"Topic4\", \"Topic4\", \"Topic4\", \"Topic4\", \"Topic4\", \"Topic4\", \"Topic4\", \"Topic4\", \"Topic4\", \"Topic4\", \"Topic4\", \"Topic4\", \"Topic4\", \"Topic4\", \"Topic4\", \"Topic4\", \"Topic4\", \"Topic4\", \"Topic4\", \"Topic4\", \"Topic4\", \"Topic4\", \"Topic4\", \"Topic4\", \"Topic4\", \"Topic4\", \"Topic4\", \"Topic4\", \"Topic4\", \"Topic4\", \"Topic4\", \"Topic4\", \"Topic5\", \"Topic5\", \"Topic5\", \"Topic5\", \"Topic5\", \"Topic5\", \"Topic5\", \"Topic5\", \"Topic5\", \"Topic5\", \"Topic5\", \"Topic5\", \"Topic5\", \"Topic5\", \"Topic5\", \"Topic5\", \"Topic5\", \"Topic5\", \"Topic5\", \"Topic5\", \"Topic5\", \"Topic5\", \"Topic5\", \"Topic5\", \"Topic5\", \"Topic5\", \"Topic5\", \"Topic5\", \"Topic5\", \"Topic5\", \"Topic5\", \"Topic5\", \"Topic5\", \"Topic5\", \"Topic5\", \"Topic5\", \"Topic5\", \"Topic5\", \"Topic5\", \"Topic5\", \"Topic5\", \"Topic5\", \"Topic5\", \"Topic6\", \"Topic6\", \"Topic6\", \"Topic6\", \"Topic6\", \"Topic6\", \"Topic6\", \"Topic6\", \"Topic6\", \"Topic6\", \"Topic6\", \"Topic6\", \"Topic6\", \"Topic6\", \"Topic6\", \"Topic6\", \"Topic6\", \"Topic6\", \"Topic6\", \"Topic6\", \"Topic6\", \"Topic6\", \"Topic6\", \"Topic6\", \"Topic6\", \"Topic6\", \"Topic6\", \"Topic6\", \"Topic6\", \"Topic6\", \"Topic6\", \"Topic6\", \"Topic6\", \"Topic6\", \"Topic6\", \"Topic6\", \"Topic6\", \"Topic6\", \"Topic6\", \"Topic6\", \"Topic6\", \"Topic6\", \"Topic6\", \"Topic6\", \"Topic6\", \"Topic6\", \"Topic7\", \"Topic7\", \"Topic7\", \"Topic7\", \"Topic7\", \"Topic7\", \"Topic7\", \"Topic7\", \"Topic7\", \"Topic7\", \"Topic7\", \"Topic7\", \"Topic7\", \"Topic7\", \"Topic7\", \"Topic7\", \"Topic7\", \"Topic7\", \"Topic7\", \"Topic7\", \"Topic7\", \"Topic7\", \"Topic7\", \"Topic7\", \"Topic7\", \"Topic7\", \"Topic7\", \"Topic7\", \"Topic7\", \"Topic7\", \"Topic7\", \"Topic7\", \"Topic7\", \"Topic7\", \"Topic7\", \"Topic7\", \"Topic7\", \"Topic7\", \"Topic7\", \"Topic8\", \"Topic8\", \"Topic8\", \"Topic8\", \"Topic8\", \"Topic8\", \"Topic8\", \"Topic8\", \"Topic8\", \"Topic8\", \"Topic8\", \"Topic8\", \"Topic8\", \"Topic8\", \"Topic8\", \"Topic8\", \"Topic8\", \"Topic8\", \"Topic8\", \"Topic8\", \"Topic8\", \"Topic8\", \"Topic8\", \"Topic8\", \"Topic8\", \"Topic8\", \"Topic8\", \"Topic8\", \"Topic8\", \"Topic8\", \"Topic8\", \"Topic8\", \"Topic8\", \"Topic8\", \"Topic8\", \"Topic8\", \"Topic9\", \"Topic9\", \"Topic9\", \"Topic9\", \"Topic9\", \"Topic9\", \"Topic9\", \"Topic9\", \"Topic9\", \"Topic9\", \"Topic9\", \"Topic9\", \"Topic9\", \"Topic9\", \"Topic9\", \"Topic9\", \"Topic9\", \"Topic9\", \"Topic9\", \"Topic9\", \"Topic9\", \"Topic9\", \"Topic9\", \"Topic9\", \"Topic9\", \"Topic9\", \"Topic9\", \"Topic9\", \"Topic9\", \"Topic9\", \"Topic9\", \"Topic9\", \"Topic9\", \"Topic9\", \"Topic9\", \"Topic9\", \"Topic9\", \"Topic10\", \"Topic10\", \"Topic10\", \"Topic10\", \"Topic10\", \"Topic10\", \"Topic10\", \"Topic10\", \"Topic10\", \"Topic10\", \"Topic10\", \"Topic10\", \"Topic10\", \"Topic10\", \"Topic10\", \"Topic10\", \"Topic10\", \"Topic10\", \"Topic10\", \"Topic10\", \"Topic10\", \"Topic10\", \"Topic10\", \"Topic10\", \"Topic10\", \"Topic10\", \"Topic10\", \"Topic10\", \"Topic10\", \"Topic10\", \"Topic10\", \"Topic10\", \"Topic10\", \"Topic10\", \"Topic10\", \"Topic10\", \"Topic10\", \"Topic10\", \"Topic10\", \"Topic10\", \"Topic10\", \"Topic11\", \"Topic11\", \"Topic11\", \"Topic11\", \"Topic11\", \"Topic11\", \"Topic11\", \"Topic11\", \"Topic11\", \"Topic11\", \"Topic11\", \"Topic11\", \"Topic11\", \"Topic11\", \"Topic11\", \"Topic11\", \"Topic11\", \"Topic11\", \"Topic11\", \"Topic11\", \"Topic11\", \"Topic11\", \"Topic11\", \"Topic11\", \"Topic11\", \"Topic11\", \"Topic11\", \"Topic11\", \"Topic11\", \"Topic11\", \"Topic11\", \"Topic11\", \"Topic11\", \"Topic11\", \"Topic11\", \"Topic12\", \"Topic12\", \"Topic12\", \"Topic12\", \"Topic12\", \"Topic12\", \"Topic12\", \"Topic12\", \"Topic12\", \"Topic12\", \"Topic12\", \"Topic12\", \"Topic12\", \"Topic12\", \"Topic12\", \"Topic12\", \"Topic12\", \"Topic12\", \"Topic12\", \"Topic12\", \"Topic12\", \"Topic12\", \"Topic12\", \"Topic12\", \"Topic12\", \"Topic12\", \"Topic12\", \"Topic12\", \"Topic12\", \"Topic12\", \"Topic12\", \"Topic12\", \"Topic13\", \"Topic13\", \"Topic13\", \"Topic13\", \"Topic13\", \"Topic13\", \"Topic13\", \"Topic13\", \"Topic13\", \"Topic13\", \"Topic13\", \"Topic13\", \"Topic13\", \"Topic13\", \"Topic13\", \"Topic13\", \"Topic13\", \"Topic13\", \"Topic13\", \"Topic13\", \"Topic13\", \"Topic13\", \"Topic13\", \"Topic13\", \"Topic13\", \"Topic13\", \"Topic13\", \"Topic13\", \"Topic13\", \"Topic13\", \"Topic13\", \"Topic13\", \"Topic13\", \"Topic13\", \"Topic13\", \"Topic13\", \"Topic13\", \"Topic14\", \"Topic14\", \"Topic14\", \"Topic14\", \"Topic14\", \"Topic14\", \"Topic14\", \"Topic14\", \"Topic14\", \"Topic14\", \"Topic14\", \"Topic14\", \"Topic14\", \"Topic14\", \"Topic14\", \"Topic14\", \"Topic14\", \"Topic14\", \"Topic14\", \"Topic14\", \"Topic14\", \"Topic14\", \"Topic14\", \"Topic14\", \"Topic14\", \"Topic14\", \"Topic14\", \"Topic14\", \"Topic14\", \"Topic14\", \"Topic14\", \"Topic14\", \"Topic14\", \"Topic14\", \"Topic14\", \"Topic14\", \"Topic14\"], \"logprob\": [30.0, 29.0, 28.0, 27.0, 26.0, 25.0, 24.0, 23.0, 22.0, 21.0, 20.0, 19.0, 18.0, 17.0, 16.0, 15.0, 14.0, 13.0, 12.0, 11.0, 10.0, 9.0, 8.0, 7.0, 6.0, 5.0, 4.0, 3.0, 2.0, 1.0, -2.8357, -3.0678, -3.7922, -4.147, -4.2495, -4.4534, -4.6028, -4.7116, -4.7948, -4.7997, -4.814, -4.8881, -4.9068, -4.9124, -4.9314, -4.9362, -4.9593, -5.0377, -5.1041, -5.1346, -5.1387, -5.1892, -5.2216, -5.2769, -5.2945, -5.3528, -5.3758, -5.3778, -5.443, -5.4478, -2.7727, -3.9275, -3.3452, -4.701, -5.0293, -2.7907, -4.1497, -3.6451, -3.9592, -4.0686, -4.3513, -4.515, -4.6575, -4.4626, -4.2346, -4.726, -2.172, -2.352, -3.3479, -3.4379, -3.707, -3.7286, -3.7755, -4.0002, -4.0366, -4.2003, -4.2086, -4.3575, -4.4593, -4.4865, -4.4921, -4.5208, -4.6273, -4.6303, -4.695, -4.7458, -4.863, -4.8853, -4.9227, -4.9417, -5.0477, -5.0739, -5.1649, -5.2048, -5.2137, -5.2336, -3.9551, -3.6475, -4.7907, -3.0963, -3.3938, -3.3834, -4.3465, -4.0844, -3.9605, -4.527, -4.4085, -4.6434, -2.8699, -2.9402, -3.925, -4.0609, -4.3688, -4.4437, -4.4778, -4.5128, -4.5572, -4.6642, -4.8265, -4.8864, -4.9008, -4.9133, -4.9164, -4.9231, -4.9755, -5.0156, -5.0555, -5.0741, -5.1839, -5.1921, -5.2589, -5.2718, -5.355, -5.3808, -5.3981, -5.4143, -5.4555, -5.458, -3.7338, -2.0885, -3.0983, -4.6699, -2.3887, -4.2876, -4.3511, -3.7456, -4.2825, -3.3179, -4.0493, -3.7492, -4.0102, -3.6754, -4.169, -4.5312, -4.7385, -1.7405, -1.7725, -2.102, -3.1685, -3.2493, -3.4104, -3.4898, -3.5554, -3.603, -3.837, -3.6506, -4.7784, -4.818, -5.4197, -5.4785, -6.1312, -6.373, -6.3966, -6.4608, -6.5148, -7.2776, -7.3029, -5.0215, -3.6308, -9.3497, -4.1022, -6.1091, -4.9491, -3.4235, -10.4988, -3.6398, -5.2756, -4.536, -4.6837, -4.7144, -4.2715, -5.3219, -5.3281, -2.9032, -2.9231, -2.9989, -3.3488, -3.6275, -3.8553, -4.1447, -4.169, -4.3006, -4.4719, -4.483, -4.5805, -4.6801, -4.7503, -4.7669, -4.8294, -4.8719, -4.8803, -5.0251, -5.1708, -5.2328, -5.3763, -5.4209, -5.4533, -5.5185, -5.5335, -5.5694, -5.5752, -5.6902, -5.7795, -2.5471, -2.3996, -3.503, -3.6616, -2.6913, -4.7621, -2.9415, -3.5997, -3.5498, -3.797, -3.9755, -4.059, -4.1861, -2.3676, -2.7609, -3.1698, -3.3677, -4.0098, -4.0439, -4.183, -4.1917, -4.2319, -4.2414, -4.5187, -4.5395, -4.5973, -4.8225, -4.9397, -4.96, -4.9694, -4.9947, -5.0305, -5.1032, -5.2056, -5.2244, -5.2427, -5.2743, -5.3312, -5.3648, -5.4028, -5.5652, -5.6391, -5.6793, -4.3389, -2.288, -3.5013, -4.4582, -2.9785, -3.9098, -4.4642, -4.536, -3.6947, -4.5469, -4.1337, -3.7556, -4.2476, -4.4336, -4.5876, -4.2636, -1.2544, -3.2353, -3.5724, -3.6665, -3.8808, -4.1323, -4.1767, -4.2452, -4.4221, -4.5537, -4.6405, -4.6498, -4.6636, -4.6973, -4.6983, -4.7181, -4.7452, -4.7993, -4.8083, -4.9127, -5.0094, -5.0414, -5.1292, -5.158, -5.2221, -5.2475, -5.2788, -5.3224, -5.5579, -5.581, -3.4169, -1.8203, -3.6738, -2.8536, -4.0214, -4.64, -4.0602, -4.3823, -4.7201, -1.7281, -2.861, -3.2775, -3.3553, -3.6218, -3.6792, -3.6976, -3.7243, -3.7427, -3.9563, -3.9873, -4.0033, -4.0047, -4.2656, -4.3783, -4.4411, -4.4538, -4.4747, -4.5026, -4.5374, -4.594, -4.5979, -4.6023, -4.6284, -4.8027, -4.8211, -4.851, -4.8559, -4.9067, -4.9443, -3.4875, -3.2919, -4.2681, -3.7051, -3.8531, -3.8324, -0.462, -3.1586, -3.8238, -4.1351, -4.3805, -5.9747, -6.2746, -6.7138, -7.1269, -9.1162, -3.9648, -2.1649, -2.6433, -7.5729, -4.6898, -12.2266, -12.2594, -12.2822, -12.2745, -12.296, -12.2882, -12.3024, -12.3085, -12.2975, -12.2866, -12.3072, -12.3059, -12.3089, -12.2957, -12.3104, -12.2898, -4.239, -5.9962, -10.0441, -12.2995, -12.2938, -12.2957, -2.0525, -3.1872, -3.5157, -3.5528, -3.6873, -3.7064, -3.916, -3.9385, -3.9882, -4.06, -4.1552, -4.2187, -4.2493, -4.2571, -4.4771, -4.5246, -4.5504, -4.6145, -4.741, -4.9713, -5.2241, -5.3339, -5.3937, -5.5221, -5.5971, -5.605, -5.665, -5.9468, -6.1255, -6.2609, -4.0849, -2.8583, -2.3628, -4.1055, -4.0236, -2.7713, -2.3313, -3.4745, -3.8895, -4.6517, -4.5025, -2.2664, -2.8459, -3.0359, -3.1765, -3.3026, -3.3667, -3.5683, -3.7891, -3.8016, -3.8327, -3.8981, -4.0486, -4.1329, -4.1772, -4.2383, -4.2493, -4.2578, -4.2707, -4.3071, -4.4089, -4.465, -4.5946, -4.6094, -4.6316, -4.6362, -4.6834, -4.7225, -4.7437, -4.7922, -4.8203, -3.9328, -4.0182, -3.2037, -3.4118, -4.5746, -0.5635, -3.0516, -3.1297, -3.6316, -3.8798, -4.373, -4.5675, -4.8559, -5.0581, -5.2782, -5.3363, -5.3497, -5.5504, -5.597, -5.6188, -5.6239, -5.6649, -5.7442, -5.9364, -6.0734, -6.4665, -6.5747, -6.8478, -7.8378, -8.0702, -4.343, -9.0072, -9.1063, -3.594, -2.4606, -3.7679, -6.3854, -2.1116, -2.1661, -2.6286, -2.7431, -2.8179, -3.1078, -3.1436, -3.6154, -3.6085, -3.97, -4.0578, -4.1072, -4.3664, -4.4382, -4.4552, -4.8609, -5.3755, -5.5707, -5.7643, -6.194, -6.5014, -6.62, -6.9555, -7.0587, -7.123, -7.2989, -4.2416, -8.7412, -4.3474, -9.2781, -4.1445, -2.0509, -4.4378, -3.4389, -4.6708, -5.9537, -4.5165, -2.0951, -2.4423, -2.7676, -3.0524, -3.156, -3.1658, -3.4582, -3.7473, -4.1431, -4.3546, -4.4154, -4.5756, -4.6179, -4.8402, -4.8933, -4.904, -5.0156, -5.0786, -5.1722, -5.2168, -5.9101, -6.013, -6.1835, -6.2813, -6.5635, -6.9182, -6.9387, -6.9947, -7.34, -7.356, -1.3869, -4.6296, -3.2214, -3.9568, -4.6724, -5.1337, -5.1266], \"loglift\": [30.0, 29.0, 28.0, 27.0, 26.0, 25.0, 24.0, 23.0, 22.0, 21.0, 20.0, 19.0, 18.0, 17.0, 16.0, 15.0, 14.0, 13.0, 12.0, 11.0, 10.0, 9.0, 8.0, 7.0, 6.0, 5.0, 4.0, 3.0, 2.0, 1.0, 1.7124, 1.7124, 1.7119, 1.7116, 1.7114, 1.7111, 1.7109, 1.7107, 1.7105, 1.7105, 1.7104, 1.7103, 1.7102, 1.7102, 1.7102, 1.7101, 1.7101, 1.7099, 1.7097, 1.7096, 1.7096, 1.7094, 1.7093, 1.7091, 1.709, 1.7088, 1.7087, 1.7087, 1.7084, 1.7084, 1.6106, 1.577, 1.5234, 1.5309, 1.581, 0.6145, 0.9805, 0.3326, 0.5982, 0.5857, 0.7756, 0.8538, 1.0292, 0.6222, -0.2678, 0.5697, 2.2683, 2.2682, 2.2677, 2.2676, 2.2673, 2.2672, 2.2672, 2.2668, 2.2667, 2.2664, 2.2664, 2.266, 2.2658, 2.2657, 2.2657, 2.2656, 2.2653, 2.2652, 2.265, 2.2648, 2.2644, 2.2643, 2.2641, 2.264, 2.2635, 2.2634, 2.2629, 2.2627, 2.2626, 2.2625, 2.2428, 2.1172, 2.1118, 1.2011, 0.5839, 0.0218, 1.321, 0.8715, 0.5968, 1.2929, -0.4418, 0.319, 2.4132, 2.4131, 2.4119, 2.4116, 2.4109, 2.4106, 2.4105, 2.4104, 2.4102, 2.4098, 2.4091, 2.4088, 2.4088, 2.4087, 2.4087, 2.4087, 2.4084, 2.4082, 2.4079, 2.4078, 2.4071, 2.4071, 2.4066, 2.4065, 2.4059, 2.4057, 2.4055, 2.4054, 2.405, 2.405, 2.3034, 2.1027, 2.0813, 2.2518, 1.578, 2.1105, 2.1167, 1.9218, 2.0334, 1.5009, 1.7706, 1.3777, 1.3781, -0.2702, 0.4853, 1.0342, 1.3768, 2.5002, 2.5002, 2.5001, 2.4996, 2.4995, 2.4994, 2.4993, 2.4992, 2.4991, 2.4988, 2.4964, 2.4962, 2.496, 2.4924, 2.4919, 2.4842, 2.4798, 2.4793, 2.4779, 2.4767, 2.4502, 2.4489, 2.3069, 2.1613, 2.1574, 2.1479, 2.11, 2.1001, 1.7067, 1.6713, 1.6559, 1.5885, 1.4606, 1.2603, 1.1484, -0.2938, 0.6264, 0.3698, 2.5687, 2.5686, 2.5686, 2.5682, 2.5678, 2.5674, 2.5667, 2.5666, 2.5662, 2.5656, 2.5656, 2.5652, 2.5647, 2.5644, 2.5643, 2.5639, 2.5637, 2.5636, 2.5627, 2.5617, 2.5612, 2.5599, 2.5595, 2.5592, 2.5585, 2.5583, 2.5579, 2.5578, 2.5564, 2.5552, 2.4154, 2.3838, 2.1469, 1.9555, 1.2754, 2.1922, 1.2496, 1.4851, 0.4279, 0.5004, 0.6788, 0.8096, 0.7698, 2.6445, 2.6442, 2.6439, 2.6436, 2.6424, 2.6423, 2.6419, 2.6419, 2.6417, 2.6417, 2.6407, 2.6406, 2.6403, 2.6391, 2.6384, 2.6383, 2.6382, 2.6381, 2.6378, 2.6373, 2.6364, 2.6363, 2.6361, 2.6358, 2.6353, 2.635, 2.6346, 2.6328, 2.6318, 2.6313, 2.4379, 2.0094, 2.0641, 2.3242, 1.6758, 1.7073, 2.0067, 2.0567, 1.2612, 1.9635, 0.9511, 0.2111, 0.8793, 0.9353, 1.3715, -0.2859, 2.6571, 2.656, 2.6555, 2.6553, 2.6549, 2.6542, 2.654, 2.6538, 2.6532, 2.6526, 2.6522, 2.6521, 2.652, 2.6519, 2.6519, 2.6518, 2.6516, 2.6513, 2.6512, 2.6506, 2.6499, 2.6497, 2.649, 2.6488, 2.6482, 2.648, 2.6477, 2.6472, 2.6446, 2.6443, 2.2044, 1.5849, 2.1118, 1.1241, 1.2744, 1.7326, 0.323, 0.7025, 0.8962, 2.8013, 2.8006, 2.8001, 2.8, 2.7995, 2.7994, 2.7993, 2.7993, 2.7992, 2.7987, 2.7986, 2.7985, 2.7985, 2.7976, 2.7972, 2.7969, 2.7968, 2.7967, 2.7966, 2.7964, 2.7961, 2.7961, 2.796, 2.7959, 2.7948, 2.7947, 2.7945, 2.7944, 2.7941, 2.7938, 2.4716, 2.4061, 2.3803, 1.9112, 1.9325, 1.7889, 2.9394, 2.938, 2.9366, 2.9355, 2.9344, 2.9149, 2.9064, 2.8886, 2.8636, 2.4844, 2.1776, 2.0965, 1.725, 1.6806, 0.4371, 0.2682, 0.2601, 0.239, 0.2332, 0.2323, 0.232, 0.2296, 0.2267, 0.2266, 0.2261, 0.2256, 0.2256, 0.2254, 0.2246, 0.2244, 0.2238, -0.2613, -1.0404, -0.2645, 0.2236, 0.2124, 0.2124, 2.9691, 2.968, 2.9674, 2.9673, 2.967, 2.967, 2.9663, 2.9663, 2.9661, 2.9658, 2.9654, 2.9652, 2.965, 2.965, 2.9638, 2.9636, 2.9634, 2.963, 2.9621, 2.9602, 2.9574, 2.956, 2.9552, 2.9532, 2.952, 2.9518, 2.9507, 2.9447, 2.9398, 2.9356, 2.7329, 2.5301, 2.4559, 2.6343, 2.5188, 1.4901, 1.0739, 1.705, 1.9733, 2.2851, 1.8134, 3.0937, 3.0931, 3.0929, 3.0926, 3.0924, 3.0923, 3.0918, 3.0912, 3.0911, 3.091, 3.0908, 3.0902, 3.0898, 3.0896, 3.0893, 3.0892, 3.0892, 3.0891, 3.0889, 3.0884, 3.088, 3.0871, 3.087, 3.0868, 3.0868, 3.0864, 3.0861, 3.086, 3.0855, 3.0853, 2.7839, 2.7176, 2.1651, 2.2749, 1.3737, 3.1798, 3.1783, 3.1782, 3.177, 3.1761, 3.1737, 3.1724, 3.1698, 3.1676, 3.1645, 3.1636, 3.1634, 3.1597, 3.1588, 3.1583, 3.1582, 3.1573, 3.1555, 3.1503, 3.1461, 3.1301, 3.1246, 3.1078, 2.9964, 2.9535, 2.8332, 2.68, 2.6397, 2.5484, 1.8009, 0.2098, -1.4295, 3.2319, 3.2318, 3.2314, 3.2313, 3.2312, 3.2307, 3.2306, 3.2295, 3.2292, 3.2282, 3.2278, 3.2275, 3.226, 3.2255, 3.2254, 3.2219, 3.2148, 3.211, 3.2064, 3.1927, 3.1787, 3.1721, 3.149, 3.1404, 3.1345, 3.1167, 2.9791, 2.8141, 2.6052, 2.5966, 2.5944, 2.5064, 2.1826, 0.8225, 0.2851, 1.6463, -0.5388, 3.3331, 3.3328, 3.3324, 3.3319, 3.3317, 3.3317, 3.331, 3.33, 3.3281, 3.3267, 3.3263, 3.325, 3.3246, 3.3223, 3.3217, 3.3216, 3.3201, 3.3192, 3.3178, 3.3171, 3.3006, 3.2971, 3.2904, 3.286, 3.2709, 3.2452, 3.2435, 3.2385, 3.2017, 3.1997, 2.9813, 3.0051, 2.894, 2.5259, 2.5739, 1.6431, -0.1707]}, \"token.table\": {\"Topic\": [2, 2, 5, 5, 2, 2, 14, 2, 3, 2, 2, 2, 2, 2, 9, 6, 8, 1, 8, 1, 6, 1, 2, 14, 12, 8, 2, 8, 13, 6, 6, 8, 8, 8, 12, 6, 6, 14, 13, 13, 13, 12, 6, 10, 11, 13, 4, 10, 9, 9, 1, 1, 3, 4, 10, 6, 11, 4, 7, 1, 5, 12, 6, 4, 8, 10, 11, 12, 5, 10, 1, 3, 9, 7, 3, 1, 2, 4, 5, 6, 7, 9, 12, 13, 4, 1, 11, 6, 1, 3, 2, 3, 14, 2, 6, 2, 1, 4, 11, 4, 10, 7, 5, 5, 3, 7, 2, 3, 5, 1, 4, 12, 4, 1, 8, 5, 14, 8, 13, 6, 3, 12, 3, 1, 3, 7, 12, 11, 4, 7, 7, 4, 5, 8, 11, 1, 1, 13, 10, 12, 14, 14, 9, 1, 6, 11, 6, 1, 6, 7, 10, 12, 1, 5, 7, 8, 14, 2, 10, 7, 13, 10, 10, 3, 5, 2, 7, 11, 13, 1, 5, 13, 11, 12, 5, 6, 3, 10, 9, 9, 12, 4, 1, 14, 11, 3, 11, 5, 14, 10, 11, 14, 7, 7, 8, 11, 1, 3, 4, 11, 14, 1, 3, 13, 12, 7, 8, 11, 6, 2, 4, 10, 1, 2, 5, 6, 10, 12, 1, 5, 6, 7, 6, 1, 3, 1, 4, 5, 7, 11, 12, 8, 5, 2, 7, 7, 7, 3, 9, 12, 13, 3, 3, 5, 13, 6, 10, 2, 1, 1, 5, 1, 4, 1, 13, 1, 11, 1, 3, 6, 11, 1, 4, 2, 6, 6, 6, 10, 2, 2, 12, 9, 11, 8, 14, 1, 1, 5, 13, 3, 12, 13, 2, 5, 6, 12, 1, 7, 1, 4, 7, 11, 7, 6, 4, 2, 5, 3, 1, 3, 5, 6, 8, 8, 11, 8, 1, 3, 6, 3, 1, 8, 13, 8, 4, 4, 1, 3, 11, 1, 4, 7, 7, 1, 12, 11, 4, 6, 13, 10, 10, 1, 14, 1, 4, 10, 1, 1, 7, 13, 5, 1, 7, 1, 2, 7, 7, 8, 11, 8, 4, 4, 7, 4, 1, 3, 6, 9, 7, 1, 11, 3, 10, 7, 5, 10, 2, 5, 6, 3, 3, 5, 10, 2, 1, 4, 9, 3, 1, 13, 8, 3, 3, 13, 7, 6, 12, 1, 6, 11, 3, 6, 14, 13, 8, 11, 5, 11, 2, 5, 5, 10, 6, 6, 10, 4, 8, 13, 13, 5, 3, 14, 5, 9, 10, 12, 13, 13, 14, 2, 3, 13, 14, 10, 2, 7, 7, 3, 4, 13, 1, 2, 13, 11, 3, 13, 9, 10, 5, 1, 10, 1, 6, 1, 3, 14, 8, 12, 3, 6, 14, 5, 10, 10, 14, 1, 3, 10, 1, 5, 6, 11, 13, 1, 8, 6, 11, 5, 3, 10, 1, 1, 13, 11, 14, 10, 1, 5, 6, 8, 3, 14, 3, 9, 2, 14, 11, 12, 7, 3, 1, 6, 3, 6, 13, 5, 14, 14, 3, 8, 12, 7, 2, 2, 11, 6, 2, 2, 3, 1, 3, 4, 8, 8, 12, 3, 4, 4, 1, 4, 10, 6, 11, 3, 5, 1, 2, 3, 7, 10, 5, 3, 6, 1, 5, 11, 14, 1, 2, 5, 6, 8, 9, 12, 13, 14, 14, 7, 7, 4, 6, 3, 7, 12, 12, 1, 14, 2, 6, 10, 14, 10, 14, 1, 2, 3, 5, 6, 1, 9, 12, 14, 10, 1, 8, 14, 2, 3, 10, 12, 7, 8, 14, 1, 3, 4, 1, 10, 5, 1, 4, 8, 5, 5, 8, 6, 13, 7, 9, 14, 11, 1, 13, 14, 2, 5, 8, 2], \"Freq\": [0.996280364853565, 0.9968024177537832, 0.9868665026630855, 0.9960507141994063, 0.9993422806778336, 0.9985624972939, 0.9892341111260738, 0.9741277875615272, 0.02420193261022428, 0.9984137874602348, 0.9968327667470249, 0.9990862667940571, 0.9987835622773518, 0.9926691764273615, 0.9955978321959014, 0.27996953159166044, 0.7183899044671117, 0.9971046203867642, 0.9987431419108301, 0.9959299966730328, 0.9982497271217785, 0.9971758827656713, 0.9951506096814474, 0.9880001182769289, 0.9826739108512585, 0.9969012041450219, 0.9975341228343106, 0.9938915509904005, 0.997566781726683, 0.9900295164479112, 0.990348214591023, 0.9975824160898922, 0.9985865505146697, 0.9998269039767202, 0.9879379484066114, 0.9944338216867444, 0.9970602826841667, 0.998551689849896, 0.9990727332526734, 0.9819290113613395, 0.9966470410863937, 0.9803449956203292, 0.08842322098524416, 0.7151878167924159, 0.19245053979141374, 0.6419520241055213, 0.9997778303944062, 0.9977304137276836, 0.9821317326507244, 0.993794484042055, 0.998330260680112, 0.16013148492451285, 0.21098405108297302, 0.2585907087632336, 0.36895159702201946, 0.9965287422549892, 0.9989993870590583, 0.9847702820888783, 0.988118321439687, 0.827531370154504, 0.17215214763736658, 0.9852023413229687, 0.9941045634071001, 0.9983466730288475, 0.9985956758285096, 0.9948507354816085, 0.9927726129910157, 0.7802519839231521, 0.9904228684199697, 0.9974495843822404, 0.48921095936117825, 0.4348541860988251, 0.054356773262353136, 0.9879889220538995, 0.9970591951405344, 0.2514806788957121, 0.18544852153707309, 0.0611043844214271, 0.1174452550035494, 0.05338420681979518, 0.21583645464987958, 0.0407362562809514, 0.05124883854700337, 0.02299627370698869, 0.9688096993457299, 0.9984273119381872, 0.9895899365777906, 0.9956585130583778, 0.9976213868371174, 0.9973428461092643, 0.388037316076645, 0.6114257709739795, 0.988208217725543, 0.8592359467053663, 0.13928253930612103, 0.9935300717582374, 0.2862962063939574, 0.712716260283549, 0.9965806656466594, 0.9998858733614604, 0.994127594719251, 0.9954789236156502, 0.9994295588096743, 0.9970686379879772, 0.9891200392235698, 0.9973905535298693, 0.3772832654689152, 0.5255016911888463, 0.09639380134233273, 0.5948519715810594, 0.40049439670804005, 0.9786744085115516, 0.9990819144103815, 0.9948591432857999, 0.9948144366126216, 0.9851081513719108, 0.9609509348396381, 0.9967641223835497, 0.9862221544016196, 0.9992197207329216, 0.990530174589753, 0.9506663411749455, 0.9925917735055738, 0.9938879983806725, 0.8516127311777696, 0.14661464602694202, 0.9763411887952643, 0.9911689774097524, 0.9841418743378982, 0.9875051016533518, 0.9917665490138271, 0.593549115936177, 0.9989662737628899, 0.9971987255944007, 0.9970821030579753, 0.9968190451952122, 0.6485609196908806, 0.35082298858723787, 0.9845207666726233, 0.9074776973535608, 0.9853181976002274, 0.9950310668576787, 0.9396797135410753, 0.4238706589877932, 0.18090429994183074, 0.394820333449689, 0.989252496119359, 0.9953493369537021, 0.991084208071813, 0.20806036190333738, 0.7900670499302406, 0.3884081513201088, 0.2570665582774774, 0.159820985244879, 0.1716595767444997, 0.4101226340940017, 0.9317614800245634, 0.9979085788122073, 0.9845038375568541, 0.9969017229221911, 0.9350233361432018, 0.9980490000663728, 0.9958130629702598, 0.7326568375560683, 0.26719708147340376, 0.9916824098033942, 0.9966512584119449, 0.9984531697400542, 0.9094957836864277, 0.3436943891180162, 0.6550307823139799, 0.9953130883288059, 0.9925333456757967, 0.9531082935407984, 0.2713816381164161, 0.7245889737708309, 0.9930536210863675, 0.9949528348889864, 0.9560029675442603, 0.9978585151295201, 0.9980282163185016, 0.9991796420275422, 0.5265631824078287, 0.4661378991807008, 0.9974980462127195, 0.9941604348652261, 0.9947538253982314, 0.9947032962530352, 0.9671384615462227, 0.9803906903001628, 0.9951006601629923, 0.9990237670401384, 0.9985637327977059, 0.9959605073865139, 0.9989136246521234, 0.9938743692475054, 0.48437874447488183, 0.18149471204168321, 0.15320982185336893, 0.17913763785932368, 0.9981086522327313, 0.9996017852911897, 0.9956285004582425, 0.9683710005936798, 0.9695379684235091, 0.9975394774872349, 0.9926554946337671, 0.9976912074608222, 0.9968800401179588, 0.9985012040615519, 0.9991736691447487, 0.9925071122894162, 0.13529366496092302, 0.033823416240230754, 0.8305119270291443, 0.9901395485162093, 0.9762575197798711, 0.9623808895412602, 0.3359559743670777, 0.33794387954084737, 0.18388122857369635, 0.14163824363109043, 0.9995741254751417, 0.9980532489337379, 0.9948844963105676, 0.46821012367891457, 0.28984436227742333, 0.0985705523534557, 0.0704075373953255, 0.07275445530850301, 0.9998727786791097, 0.9979258744051451, 0.9935326953874737, 0.9945530844476912, 0.9965758931413676, 0.9952322502160101, 0.9982658392498317, 0.9962138205535295, 0.9998994967362341, 0.9774397629892128, 0.976356151214782, 0.9959886984463744, 0.99498108370452, 0.9894294858290563, 0.9990006769807249, 0.4908836589810117, 0.5035516243740701, 0.9978175555227712, 0.9989977492231712, 0.9967802859624866, 0.9891901537815395, 0.9962383278987708, 0.9516647858018455, 0.4633070129957144, 0.5340900288700596, 0.9980456728253352, 0.9907274764485506, 0.22785462643126755, 0.7430042166236985, 0.02575747950962155, 0.9969789797998537, 0.32602088366941306, 0.6697602936252073, 0.9979067002948421, 0.9859359132462664, 0.9967391702164419, 0.9938744170085153, 0.9932860756284302, 0.9956308083426756, 0.9962331016991459, 0.9973409501448051, 0.9561590417492282, 0.9928429492602957, 0.9933828772249884, 0.9878140637307337, 0.9977809650325784, 0.9992271161573777, 0.9981305646396064, 0.9991295793575867, 0.2897208339099002, 0.7082064828908672, 0.9984712907822563, 0.34395579590616054, 0.12618496654545533, 0.529615038798309, 0.9966078511478045, 0.9028208912245435, 0.09683641109477227, 0.9969228752356608, 0.9987831445793348, 0.9883199940397813, 0.9983978608649613, 0.9945761700988283, 0.9909053171492496, 0.9992439628623603, 0.9986500404203731, 0.9982690511887661, 0.9930706598982612, 0.3240915511549236, 0.14540498307050412, 0.15089806020872315, 0.37934544472171516, 0.9961819291228401, 0.9929103413950874, 0.9920425037641452, 0.9972093648554342, 0.1880494006192369, 0.25153616407615875, 0.5593264223546532, 0.9891734025003691, 0.34179191308921186, 0.6551011667543227, 0.441743347058726, 0.9966508594347209, 0.9975317925623337, 0.9998202287864062, 0.5044178544374479, 0.053526355057211206, 0.440912009454316, 0.3191192188597646, 0.4295835638496831, 0.25099953944931486, 0.9998875722850052, 0.9971930050846802, 0.7544451443146862, 0.9899974675230454, 0.9290264228784958, 0.9923506425245837, 0.924133197417836, 0.9580066970681556, 0.9708786603496756, 0.2736690777947095, 0.7191768788558646, 0.308229314516589, 0.6735381317214353, 0.9916878196781405, 0.9969806253639415, 0.8772973653886097, 0.12108531345207373, 0.9928180087909492, 0.9984511033857674, 0.6016727369515771, 0.39631138362079926, 0.14077405540290144, 0.8538252490741196, 0.9951434827622806, 0.5799247096233183, 0.41966917673949977, 0.9900530371725166, 0.9973971963716787, 0.9897441010654036, 0.6116896910424902, 0.9971735292249043, 0.9910282656529307, 0.39187077210109417, 0.3550680937688485, 0.17105470210762047, 0.0818989179788001, 0.9933511814566555, 0.997949297202715, 0.9993654213806095, 0.3548073386112627, 0.6443085826394277, 0.9946169130059489, 0.9895615272796198, 0.9879160692095903, 0.3094113293968173, 0.6865063870991884, 0.9932111115621683, 0.994664049854724, 0.9959868834881809, 0.9935775323958075, 0.9882931493720415, 0.9996640263072083, 0.002875276351637339, 0.996283255842338, 0.9981596988051795, 0.9965414280817484, 0.995996782504747, 0.9980947325619924, 0.9907418570411198, 0.9977832211136077, 0.9953910489142932, 0.9541251151907999, 0.9949675604365158, 0.9991850797998169, 0.9887614459543606, 0.49206807383735296, 0.5065406642443339, 0.997171497110794, 0.9991725145668855, 0.9910823053328447, 0.994418597459725, 0.9027448082357657, 0.9975003365190287, 0.9959203546104091, 0.9948856972715333, 0.9980018401732131, 0.1424763523297644, 0.857056823119478, 0.9926246820060503, 0.9967890847523113, 0.9936479334691123, 0.9983615784451626, 0.9948384938514914, 0.9944759884212749, 0.9955716051309627, 0.9944335402092335, 0.8766023078493018, 0.9951148497746641, 0.35517186668264084, 0.643487852577961, 0.9857843945365652, 0.4304196608189936, 0.22775373841613245, 0.25175077982013105, 0.08987982780406759, 0.9357576203477833, 0.9935780961478964, 0.4118507615266925, 0.3749686037780335, 0.20285186761762466, 0.9990686912949336, 0.9993520802603209, 0.9947656736175213, 0.9898411066225162, 0.9911836937178353, 0.9920302750607174, 0.9886837986218419, 0.9965070941181627, 0.3281548291253543, 0.18797787798869717, 0.4838744129194233, 0.9955806661082626, 0.9878525835404658, 0.9991869999121331, 0.6716153397294505, 0.9962156627698825, 0.9959697852501469, 0.9996810528778939, 0.9987451648425621, 0.99767247683971, 0.9969307006983246, 0.8733826937070184, 0.12628130722863382, 0.9540174291844534, 0.9952073252887096, 0.9883090289654838, 0.9915838587992538, 0.8123543839062729, 0.18352192061669953, 0.9846869385505667, 0.9895834300377251, 0.9957038339647015, 0.9988713651235364, 0.9974263833791649, 0.6842366770870767, 0.3148850379629582, 0.31654882475831847, 0.12572151905294918, 0.5545217001085437, 0.9940587033813808, 0.9947637542342348, 0.9969134975466527, 0.9971069073825726, 0.3108600160900431, 0.6864825355321785, 0.9954097801566134, 0.40145253075346654, 0.5983699485898443, 0.9979431922083959, 0.47034540701075095, 0.5275144620065328, 0.9938856422780223, 0.987058126905079, 0.9969589870391703, 0.0668520137479916, 0.5415859341609447, 0.3918035742445584, 0.9955234978325047, 0.9946399814022918, 0.8942874340625494, 0.6745035614842257, 0.28907295492181106, 0.9968413924623233, 0.9186653614292711, 0.9965593560373018, 0.980761477058292, 0.9907311982367978, 0.9991479502308395, 0.4690303262198352, 0.528652825315577, 0.8952194323652041, 0.10304684113556306, 0.9958268226038509, 0.9989032032074349, 0.9516827287567433, 0.9984304252174253, 0.9954117390539365, 0.9957649672716908, 0.9898172951966989, 0.994496840473848, 0.9951816744372824, 0.2643110088690956, 0.7319381784067263, 0.9890779066477324, 0.9940515445057022, 0.2605463977034574, 0.7391387168892409, 0.1569041907012249, 0.05046626016706064, 0.11836631930092406, 0.6734951811385912, 0.9950672430747884, 0.9953932311751956, 0.9910166250050415, 0.988241895098947, 0.9992154537413694, 0.2964253909423561, 0.7028150398149411, 0.9971965084562879, 0.9883480843763537, 0.9929979722767317, 0.9947319444477365, 0.9959188968406197, 0.3334078279683849, 0.10573049797441002, 0.06829393252159525, 0.34221098073575473, 0.1502095856411206, 0.9938934645919019, 0.9966166278310503, 0.9995544684637435, 0.8341329428921661, 0.1236332129239796, 0.040689411848398346, 0.9829228582944799, 0.1494057212882268, 0.24726210014367359, 0.16513263931856645, 0.25075697081708237, 0.0755765783124656, 0.018784929869572375, 0.01004775318605034, 0.05242306010113221, 0.03014325955815102, 0.9879799910237429, 0.9935606669667892, 0.9914948783662108, 0.8245735334312487, 0.17334784509634207, 0.9973246499520273, 0.996185972725781, 0.7323307969136746, 0.98228258131746, 0.5530523607164134, 0.44646408756015915, 0.9972134507459576, 0.9960121953087043, 0.9839613428666046, 0.9972732179425632, 0.9979482262479272, 0.9925472369636942, 0.1379301952959484, 0.06644693742761237, 0.4334484818016377, 0.2742357710948892, 0.08772945283841242, 0.9986741796246008, 0.4665375911192173, 0.5323680487618062, 0.9916343039696012, 0.9979701538217313, 0.998799748425422, 0.9964713851371245, 0.8268296131775524, 0.9960045466356837, 0.7173547727963194, 0.28246185646283106, 0.9979050561654822, 0.635703972483938, 0.36289518215326405, 0.9411605030208144, 0.4601270224283276, 0.18553508968884178, 0.35375357100672494, 0.3607923323397225, 0.6361900298061379, 0.9951780075226302, 0.48107347111834325, 0.45194902313712465, 0.06657016681421399, 0.9894710988077392, 0.9988288349936137, 0.9981289199360647, 0.9836897595481265, 0.9978538248042643, 0.9902153391842666, 0.29687020338525344, 0.7029731062990138, 0.9961012159546152, 0.21874697844211397, 0.7740277698720955, 0.8777042278852417, 0.9997220286460393, 0.9980434032995487, 0.9954602855326731, 0.998291004866059], \"Term\": [\"1\", \"10\", \"12\", \"16\", \"2\", \"3\", \"30\", \"4\", \"4\", \"5\", \"6\", \"7\", \"8\", \"9\", \"ability\", \"able\", \"able\", \"absolutely\", \"access\", \"account\", \"ad\", \"add\", \"adult\", \"advertise\", \"advertising\", \"affordable\", \"age\", \"alexa\", \"allow\", \"alot\", \"alternative\", \"amazing\", \"android\", \"app\", \"appear\", \"application\", \"ask\", \"available\", \"awesome\", \"backup\", \"bad\", \"bargain\", \"basic\", \"basic\", \"basic\", \"batch\", \"battery\", \"beat\", \"begin\", \"beginner\", \"best\", \"big\", \"big\", \"big\", \"big\", \"birthday\", \"black\", \"blow\", \"blue\", \"book\", \"book\", \"bother\", \"boy\", \"brand\", \"break\", \"bright\", \"bring\", \"brown\", \"buck\", \"build\", \"bulk\", \"bulk\", \"bulk\", \"busy\", \"button\", \"buy\", \"buy\", \"buy\", \"buy\", \"buy\", \"buy\", \"buy\", \"buy\", \"buy\", \"buying\", \"camera\", \"capability\", \"car\", \"card\", \"carry\", \"case\", \"case\", \"cause\", \"charge\", \"charge\", \"charger\", \"cheap\", \"cheap\", \"check\", \"child\", \"choice\", \"choose\", \"christmas\", \"clear\", \"close\", \"color\", \"come\", \"come\", \"come\", \"compare\", \"compare\", \"comparison\", \"complaint\", \"computer\", \"connect\", \"consider\", \"consumption\", \"content\", \"continue\", \"control\", \"convenient\", \"convert\", \"cool\", \"cost\", \"cover\", \"cover\", \"currently\", \"customer\", \"cute\", \"dad\", \"daily\", \"damn\", \"daughter\", \"deal\", \"decent\", \"decide\", \"definitely\", \"definitely\", \"deliver\", \"delivery\", \"describe\", \"design\", \"determine\", \"device\", \"device\", \"device\", \"die\", \"different\", \"disappointed\", \"display\", \"display\", \"disposable\", \"download\", \"download\", \"download\", \"download\", \"dozen\", \"drop\", \"durability\", \"durable\", \"duracell\", \"e\", \"easily\", \"easy\", \"easy\", \"edition\", \"educational\", \"email\", \"energizer\", \"enjoy\", \"enjoy\", \"entertain\", \"entertainment\", \"environment\", \"especially\", \"especially\", \"everyday\", \"exactly\", \"example\", \"excellent\", \"expect\", \"expensive\", \"experience\", \"experience\", \"extra\", \"extremely\", \"facebook\", \"fact\", \"fair\", \"fan\", \"fantastic\", \"far\", \"fast\", \"favorite\", \"feature\", \"finally\", \"find\", \"find\", \"find\", \"find\", \"fine\", \"fire\", \"fit\", \"flash\", \"form\", \"free\", \"freetime\", \"friday\", \"friend\", \"friendly\", \"fun\", \"function\", \"game\", \"game\", \"game\", \"gaming\", \"general\", \"generic\", \"get\", \"get\", \"get\", \"get\", \"gift\", \"give\", \"glad\", \"go\", \"go\", \"go\", \"go\", \"go\", \"good\", \"google\", \"got\", \"grand\", \"granddaughter\", \"grandkid\", \"grandson\", \"graphic\", \"great\", \"group\", \"half\", \"hand\", \"handle\", \"handy\", \"happy\", \"hard\", \"hard\", \"have\", \"hd\", \"hd8\", \"heavy\", \"help\", \"hesitate\", \"high\", \"high\", \"highly\", \"hit\", \"hold\", \"hold\", \"hold\", \"home\", \"hope\", \"hope\", \"hour\", \"hundred\", \"husband\", \"impressed\", \"improvement\", \"inch\", \"include\", \"inexpensive\", \"initial\", \"instal\", \"install\", \"internal\", \"internet\", \"ipad\", \"issue\", \"item\", \"job\", \"job\", \"keep\", \"kid\", \"kid\", \"kid\", \"kind\", \"kindle\", \"kindle\", \"large\", \"last\", \"law\", \"learn\", \"learning\", \"leave\", \"let\", \"life\", \"light\", \"lightweight\", \"like\", \"like\", \"like\", \"like\", \"limit\", \"limited\", \"line\", \"listen\", \"little\", \"little\", \"little\", \"live\", \"load\", \"load\", \"locally\", \"lock\", \"lol\", \"long\", \"look\", \"look\", \"look\", \"lot\", \"lot\", \"lot\", \"love\", \"low\", \"lucky\", \"magazine\", \"magic\", \"mainly\", \"maintain\", \"major\", \"manufacturer\", \"market\", \"market\", \"matter\", \"matter\", \"medium\", \"member\", \"memory\", \"memory\", \"miss\", \"mom\", \"money\", \"money\", \"month\", \"month\", \"mother\", \"movie\", \"movie\", \"multiple\", \"music\", \"name\", \"national\", \"navigate\", \"nearly\", \"need\", \"need\", \"need\", \"need\", \"nephew\", \"netflix\", \"new\", \"nice\", \"nice\", \"niece\", \"night\", \"note\", \"nt\", \"nt\", \"number\", \"oasis\", \"offer\", \"ok\", \"okay\", \"old\", \"one\", \"one\", \"online\", \"open\", \"option\", \"order\", \"os\", \"overall\", \"page\", \"par\", \"parent\", \"parental\", \"party\", \"pay\", \"pay\", \"people\", \"perfect\", \"perfectly\", \"perform\", \"performer\", \"phone\", \"photo\", \"pick\", \"picture\", \"play\", \"play\", \"playing\", \"pleased\", \"plenty\", \"plus\", \"point\", \"pop\", \"portable\", \"powerful\", \"prepare\", \"present\", \"pretty\", \"pretty\", \"previously\", \"price\", \"price\", \"price\", \"price\", \"pricing\", \"primarily\", \"probably\", \"probably\", \"probably\", \"problem\", \"product\", \"profile\", \"program\", \"protect\", \"protective\", \"prove\", \"provide\", \"purchase\", \"purchase\", \"purchase\", \"purpose\", \"purse\", \"quality\", \"quantity\", \"quick\", \"quickly\", \"read\", \"reader\", \"reading\", \"receive\", \"recommend\", \"recommend\", \"refund\", \"regular\", \"remember\", \"remove\", \"replacement\", \"replacement\", \"require\", \"research\", \"resolution\", \"return\", \"review\", \"right\", \"right\", \"run\", \"run\", \"run\", \"s\", \"safe\", \"sale\", \"samsung\", \"say\", \"say\", \"school\", \"screen\", \"screen\", \"sd\", \"second\", \"second\", \"see\", \"send\", \"service\", \"set\", \"set\", \"set\", \"setting\", \"setup\", \"shift\", \"ship\", \"ship\", \"show\", \"significant\", \"simple\", \"single\", \"sister\", \"size\", \"slow\", \"slow\", \"small\", \"small\", \"solid\", \"son\", \"sorry\", \"sound\", \"space\", \"speaker\", \"special\", \"speed\", \"star\", \"start\", \"start\", \"stay\", \"stop\", \"storage\", \"storage\", \"store\", \"store\", \"store\", \"store\", \"stream\", \"stuff\", \"sturdy\", \"subscribe\", \"super\", \"sure\", \"sure\", \"surf\", \"surprise\", \"surprised\", \"tab\", \"table\", \"tablet\", \"tablet\", \"tablet\", \"tablet\", \"tablet\", \"tech\", \"thank\", \"thing\", \"think\", \"think\", \"think\", \"thoroughly\", \"time\", \"time\", \"time\", \"time\", \"time\", \"time\", \"time\", \"time\", \"time\", \"today\", \"toddler\", \"tool\", \"toy\", \"toy\", \"travel\", \"trip\", \"triple\", \"truly\", \"try\", \"try\", \"turn\", \"tv\", \"u\", \"update\", \"upgrade\", \"usb\", \"use\", \"use\", \"use\", \"use\", \"use\", \"user\", \"value\", \"value\", \"variety\", \"version\", \"video\", \"view\", \"volt\", \"wait\", \"want\", \"want\", \"warranty\", \"watch\", \"watch\", \"water\", \"way\", \"way\", \"way\", \"web\", \"web\", \"weight\", \"well\", \"well\", \"well\", \"white\", \"wife\", \"wifi\", \"win\", \"wish\", \"wonderful\", \"work\", \"work\", \"worry\", \"wrong\", \"wrong\", \"yay\", \"year\", \"young\", \"youtube\", \"yr\"]}, \"R\": 30, \"lambda.step\": 0.01, \"plot.opts\": {\"xlab\": \"PC1\", \"ylab\": \"PC2\"}, \"topic.order\": [3, 8, 1, 14, 5, 12, 9, 11, 2, 4, 13, 7, 10, 6]};\n\nfunction LDAvis_load_lib(url, callback){\n  var s = document.createElement('script');\n  s.src = url;\n  s.async = true;\n  s.onreadystatechange = s.onload = callback;\n  s.onerror = function(){console.warn(\"failed to load library \" + url);};\n  document.getElementsByTagName(\"head\")[0].appendChild(s);\n}\n\nif(typeof(LDAvis) !== \"undefined\"){\n   // already loaded: just create the visualization\n   !function(LDAvis){\n       new LDAvis(\"#\" + \"ldavis_el92451403607005724968611285158\", ldavis_el92451403607005724968611285158_data);\n   }(LDAvis);\n}else if(typeof define === \"function\" && define.amd){\n   // require.js is available: use it to load d3/LDAvis\n   require.config({paths: {d3: \"https://d3js.org/d3.v5\"}});\n   require([\"d3\"], function(d3){\n      window.d3 = d3;\n      LDAvis_load_lib(\"https://cdn.jsdelivr.net/gh/bmabey/pyLDAvis@3.3.1/pyLDAvis/js/ldavis.v3.0.0.js\", function(){\n        new LDAvis(\"#\" + \"ldavis_el92451403607005724968611285158\", ldavis_el92451403607005724968611285158_data);\n      });\n    });\n}else{\n    // require.js not available: dynamically load d3 & LDAvis\n    LDAvis_load_lib(\"https://d3js.org/d3.v5.js\", function(){\n         LDAvis_load_lib(\"https://cdn.jsdelivr.net/gh/bmabey/pyLDAvis@3.3.1/pyLDAvis/js/ldavis.v3.0.0.js\", function(){\n                 new LDAvis(\"#\" + \"ldavis_el92451403607005724968611285158\", ldavis_el92451403607005724968611285158_data);\n            })\n         });\n}\n</script>"
     },
     "metadata": {},
     "execution_count": 33
    }
   ],
   "source": [
    "# interactive visualizations\n",
    "pyLDAvis.enable_notebook()\n",
    "optimal_vis = pyLDAvis.gensim_models.prepare(optimal_model, corpus, id2words)\n",
    "optimal_vis"
   ]
  },
  {
   "source": [
    "- I found that 14 is the best number of topics. Even though having 14 topics did not yield the largest coherence score, the words seem to go together more in each topic when there are 14 instead of 2 topics.\n",
    "- The overlaps make a lot of sense.\n",
    "- Custom stop words really helped. Because this dataset is about purchases on Amazon, I took out \"amazon\" and \"prime\". I was on the fence about removing \"kindle\", but because it is a product you buy, I kept it in."
   ],
   "cell_type": "markdown",
   "metadata": {}
  },
  {
   "cell_type": "markdown",
   "metadata": {},
   "source": [
    "## Stretch Goals\n",
    "\n",
    "* Incorporate Named Entity Recognition in your analysis\n",
    "* Incorporate some custom pre-processing from our previous lessons (like spacy lemmatization)\n",
    "* Analyze a dataset of interest to you with topic modeling"
   ]
  }
 ],
 "metadata": {
  "kernelspec": {
   "name": "python386jvsc74a57bd031573d84b2a5682177834a321af42eea648d9a4417564de6bd7841ec3642bc80",
   "display_name": "Python 3.9.0 64-bit ('DS-Unit-4-Sprint-1-NLP': pipenv)"
  },
  "language_info": {
   "codemirror_mode": {
    "name": "ipython",
    "version": 3
   },
   "file_extension": ".py",
   "mimetype": "text/x-python",
   "name": "python",
   "nbconvert_exporter": "python",
   "pygments_lexer": "ipython3",
   "version": "3.9.0-final"
  }
 },
 "nbformat": 4,
 "nbformat_minor": 2
}