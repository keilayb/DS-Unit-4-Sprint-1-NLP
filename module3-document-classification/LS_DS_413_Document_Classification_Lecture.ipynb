{
 "cells": [
  {
   "cell_type": "markdown",
   "metadata": {},
   "source": [
    "Lambda School Data Science\n",
    "\n",
    "*Unit 4, Sprint 1, Module 3*\n",
    "\n",
    "---"
   ]
  },
  {
   "cell_type": "markdown",
   "metadata": {},
   "source": [
    "# Document Classification (Prepare)\n",
    "\n",
    "Today's guided module project will be different. You already know how to do classification. You ready know how to extract features from documents. So? That means you're ready to combine and practice those skills in a kaggle competition. We we will open with a five minute sprint explaining the competition, and then give you 25 minutes to work. After those twenty five minutes are up, I will give a 5-minute demo an NLP technique that will help you with document classification (*and **maybe** the competition*).\n",
    "\n",
    "Today's all about having fun and practicing your skills. The competition will begin\n",
    "\n",
    "## Learning Objectives\n",
    "* <a href=\"#p1\">Part 1</a>: Text Feature Extraction & Classification Pipelines\n",
    "* <a href=\"#p2\">Part 2</a>: Latent Semantic Indexing\n",
    "* <a href=\"#p3\">Part 3</a>: Word Embeddings with Spacy"
   ]
  },
  {
   "cell_type": "markdown",
   "metadata": {},
   "source": [
    "# Text Feature Extraction & Classification Pipelines (Learn)\n",
    "<a id=\"p1\"></a>"
   ]
  },
  {
   "cell_type": "markdown",
   "metadata": {},
   "source": [
    "## Overview\n",
    "\n",
    "Sklearn pipelines allow you to stitch together multiple components of a machine learning process. The idea is that you can pass you raw data and get predictions out of the pipeline. This ability to pass raw input and receive a prediction from a singular class makes pipelines well suited for production, because you can pickle a a pipeline without worry about other data preprocessing steps. \n",
    "\n",
    "*Note:* Each time we call the pipeline during grid search, each component is fit again. The vectorizer (tf-idf) is transforming our entire vocabulary during each cross-validation fold. That transformation adds significant run time to our grid search. There *might* be interactions between the vectorizer and our classifier, so we estimate their performance together in the code below. However, if your goal is to reduce run time. Train your vectorizer separately (ie out of the grid-searched pipeline). "
   ]
  },
  {
   "cell_type": "code",
   "execution_count": 1,
   "metadata": {},
   "outputs": [],
   "source": [
    "# Import Statements\n",
    "import os\n",
    "import re\n",
    "\n",
    "import numpy as np\n",
    "import pandas as pd\n",
    "import seaborn as sns\n",
    "\n",
    "from sklearn.datasets import fetch_20newsgroups\n",
    "from sklearn.ensemble import RandomForestClassifier\n",
    "from sklearn.model_selection import GridSearchCV\n",
    "from sklearn.pipeline import FeatureUnion, Pipeline\n",
    "from sklearn.feature_extraction.text import CountVectorizer, TfidfVectorizer\n",
    "from sklearn.decomposition import PCA, TruncatedSVD\n",
    "from sklearn.preprocessing import MinMaxScaler, StandardScaler"
   ]
  },
  {
   "cell_type": "code",
   "execution_count": 2,
   "metadata": {
    "deletable": false,
    "nbgrader": {
     "cell_type": "code",
     "checksum": "75e17f01bde04e926a348a78398b3d55",
     "grade": false,
     "grade_id": "cell-2d860ec20fad5c0c",
     "locked": false,
     "schema_version": 3,
     "solution": true,
     "task": false
    }
   },
   "outputs": [],
   "source": [
    "# Dataset\n",
    "from sklearn.datasets import fetch_20newsgroups\n",
    "import ssl\n",
    "ssl._create_default_https_context = ssl._create_unverified_context\n",
    "\n",
    "# 2 categories to class today\n",
    "categories = ['alt.atheism',\n",
    "              'talk.religion.misc']\n",
    "\n",
    "data = fetch_20newsgroups(subset='all', \n",
    "                          categories=categories)"
   ]
  },
  {
   "cell_type": "code",
   "execution_count": 3,
   "metadata": {},
   "outputs": [
    {
     "output_type": "execute_result",
     "data": {
      "text/plain": [
       "1427"
      ]
     },
     "metadata": {},
     "execution_count": 3
    }
   ],
   "source": [
    "len(data.data)"
   ]
  },
  {
   "cell_type": "code",
   "execution_count": 4,
   "metadata": {},
   "outputs": [],
   "source": [
    "X = data.data\n",
    "Y = data.target"
   ]
  },
  {
   "cell_type": "code",
   "execution_count": 5,
   "metadata": {},
   "outputs": [],
   "source": [
    "def clean_data(text):\n",
    "    \"\"\"\n",
    "    Accepts a single text document and performs several regex substitutions in order to clean the document. \n",
    "    Parameters\n",
    "    ----------\n",
    "    text: string or object \n",
    "    Returns\n",
    "    -------\n",
    "    text: string or object\n",
    "    \"\"\"\n",
    "    # remove emails from text\n",
    "    email_regex = \"\\S+@\\S+\"\n",
    "    newline_regex = \"\\\\n\"\n",
    "    special_chars_regex = \"[:?.,\\>|!;\\\\']\"\n",
    "\n",
    "    text = re.sub(email_regex, \"\", text)\n",
    "    text = re.sub(newline_regex, \"\", text)\n",
    "    text = re.sub(special_chars_regex, \"\", text)\n",
    "    \n",
    "    return text "
   ]
  },
  {
   "cell_type": "code",
   "execution_count": 6,
   "metadata": {},
   "outputs": [],
   "source": [
    "# data set has been cleaned\n",
    "X_clean = [clean_data(txt) for txt in X]"
   ]
  },
  {
   "cell_type": "code",
   "execution_count": 7,
   "metadata": {},
   "outputs": [],
   "source": [
    "# prep data, instantiate a model, create pipeline object, and run a gridsearch \n",
    "\n",
    "# create pipeline components \n",
    "tfidf = TfidfVectorizer(stop_words='english')\n",
    "rfc = RandomForestClassifier()\n",
    "\n",
    "# define a pipeline object\n",
    "pipe = Pipeline([('vect', tfidf), # data transformer\n",
    "                 ('clf', rfc)])   # classifier"
   ]
  },
  {
   "cell_type": "code",
   "execution_count": 8,
   "metadata": {},
   "outputs": [
    {
     "output_type": "stream",
     "name": "stdout",
     "text": [
      "Fitting 3 folds for each of 32 candidates, totalling 96 fits\n"
     ]
    },
    {
     "output_type": "execute_result",
     "data": {
      "text/plain": [
       "GridSearchCV(cv=3,\n",
       "             estimator=Pipeline(steps=[('vect',\n",
       "                                        TfidfVectorizer(stop_words='english')),\n",
       "                                       ('clf', RandomForestClassifier())]),\n",
       "             n_jobs=-2,\n",
       "             param_grid={'clf__max_depth': (None, 10),\n",
       "                         'clf__n_estimators': (10, 100),\n",
       "                         'vect__max_df': (0.8, 0.9),\n",
       "                         'vect__max_features': (500, 1000),\n",
       "                         'vect__min_df': (0.05, 0.1)},\n",
       "             verbose=1)"
      ]
     },
     "metadata": {},
     "execution_count": 8
    }
   ],
   "source": [
    "# create hyper-parameter dictionary\n",
    "params = {\n",
    "    'vect__max_df': (0.80, .90),\n",
    "    'vect__min_df': (.05, .10), \n",
    "    'vect__max_features': (500, 1000), \n",
    "    'clf__n_estimators': (10, 100), \n",
    "    'clf__max_depth': (None, 10) \n",
    "}\n",
    "\n",
    "# create gridsearch object\n",
    "gs = GridSearchCV(pipe, params, cv=3, n_jobs=-2, verbose=1)\n",
    "\n",
    "# fit gridseach \n",
    "gs.fit(X_clean, Y)"
   ]
  },
  {
   "cell_type": "code",
   "execution_count": 9,
   "metadata": {},
   "outputs": [
    {
     "output_type": "execute_result",
     "data": {
      "text/plain": [
       "0.4400840925017519"
      ]
     },
     "metadata": {},
     "execution_count": 9
    }
   ],
   "source": [
    "baseline_acc = Y.sum()/len(Y)\n",
    "baseline_acc"
   ]
  },
  {
   "cell_type": "code",
   "execution_count": 10,
   "metadata": {},
   "outputs": [
    {
     "output_type": "execute_result",
     "data": {
      "text/plain": [
       "0.8248061329795076"
      ]
     },
     "metadata": {},
     "execution_count": 10
    }
   ],
   "source": [
    "gs.best_score_"
   ]
  },
  {
   "cell_type": "code",
   "execution_count": 11,
   "metadata": {},
   "outputs": [
    {
     "output_type": "execute_result",
     "data": {
      "text/plain": [
       "{'clf__max_depth': None,\n",
       " 'clf__n_estimators': 100,\n",
       " 'vect__max_df': 0.8,\n",
       " 'vect__max_features': 500,\n",
       " 'vect__min_df': 0.05}"
      ]
     },
     "metadata": {},
     "execution_count": 11
    }
   ],
   "source": [
    "gs.best_params_"
   ]
  },
  {
   "cell_type": "markdown",
   "metadata": {
    "toc-hr-collapsed": true
   },
   "source": [
    "## Follow Along \n",
    "\n",
    "What you should be doing now:\n",
    "1. Join the Kaggle Competition\n",
    "2. Download the data\n",
    "3. Train a model (try using the pipe method I just demoed)"
   ]
  },
  {
   "cell_type": "markdown",
   "metadata": {},
   "source": [
    "## Challenge\n",
    "\n",
    "You're trying to achieve 75% Accuracy on your model."
   ]
  },
  {
   "cell_type": "markdown",
   "metadata": {},
   "source": [
    "## Latent Semantic Indexing (Learn)\n",
    "<a id=\"p2\"></a>"
   ]
  },
  {
   "cell_type": "markdown",
   "metadata": {},
   "source": [
    "## Overview"
   ]
  },
  {
   "cell_type": "markdown",
   "metadata": {},
   "source": [
    "![](https://res.cloudinary.com/dyd911kmh/image/upload/f_auto,q_auto:best/v1538411402/image3_maagmh.png)"
   ]
  },
  {
   "source": [
    "**Take Away:** LSA has 2 main benefits\n",
    "\n",
    "1. Dimensionality Reduction\n",
    "2. Topic Modeling (feature engineering) -- identifies the latent/hidden topics that are present in our doc-term matrix. This is something that counting vectorizers can't do (i.e. CountVectorizer, TFIDF)"
   ],
   "cell_type": "markdown",
   "metadata": {}
  },
  {
   "cell_type": "code",
   "execution_count": 12,
   "metadata": {},
   "outputs": [
    {
     "output_type": "execute_result",
     "data": {
      "text/plain": [
       "<IPython.lib.display.YouTubeVideo at 0x7fcddbc1e2b0>"
      ],
      "text/html": "\n        <iframe\n            width=\"1024\"\n            height=\"576\"\n            src=\"https://www.youtube.com/embed/OvzJiur55vo\"\n            frameborder=\"0\"\n            allowfullscreen\n        ></iframe>\n        ",
      "image/jpeg": "[encoded data removed]"
     },
     "metadata": {},
     "execution_count": 12
    }
   ],
   "source": [
    "from IPython.display import YouTubeVideo\n",
    "YouTubeVideo('OvzJiur55vo', width=1024, height=576)"
   ]
  },
  {
   "cell_type": "markdown",
   "metadata": {},
   "source": [
    "### First an example\n",
    "\n",
    "Before we apply Latent Semantic Analysis in a pipeline, let's work through a simple example together in order to better understand how LSA works and develop an intuition along the way. \n",
    "\n",
    "First, if you haven't already, watch the short video provided above. We will be implementing the example from the video in our notebook. "
   ]
  },
  {
   "cell_type": "code",
   "execution_count": 13,
   "metadata": {},
   "outputs": [],
   "source": [
    "# Import\n",
    "\n",
    "from sklearn.decomposition import TruncatedSVD\n",
    "from sklearn.feature_extraction.text import CountVectorizer\n",
    "\n",
    "svd = TruncatedSVD(n_components=2, # number of topics to generate (also the size of the new feature space)\n",
    "                   algorithm='randomized',\n",
    "                   n_iter=10)\n",
    "\n",
    "# let's use the same data that was used in the video for consistancy \n",
    "\n",
    "        # topic 1 data \n",
    "data = [\"pizza\", \n",
    "        \"hamberger\", \n",
    "        \"cookie\", \n",
    "        \"pizza hamberger cookie\",\n",
    "        # topic 2 data\n",
    "        \"ramen\", \n",
    "        \"sushi\", \n",
    "        \"ramen sushi\"]"
   ]
  },
  {
   "cell_type": "code",
   "execution_count": 14,
   "metadata": {
    "deletable": false,
    "nbgrader": {
     "cell_type": "code",
     "checksum": "e12d5a1e7f851ea065d8637f94beffea",
     "grade": false,
     "grade_id": "cell-74a4478e1d50513b",
     "locked": false,
     "schema_version": 3,
     "solution": true,
     "task": false
    }
   },
   "outputs": [
    {
     "output_type": "execute_result",
     "data": {
      "text/plain": [
       "                        cookie  hamberger  pizza  ramen  sushi\n",
       "pizza                        0          0      1      0      0\n",
       "hamberger                    0          1      0      0      0\n",
       "cookie                       1          0      0      0      0\n",
       "pizza hamberger cookie       1          1      1      0      0\n",
       "ramen                        0          0      0      1      0\n",
       "sushi                        0          0      0      0      1\n",
       "ramen sushi                  0          0      0      1      1"
      ],
      "text/html": "<div>\n<style scoped>\n    .dataframe tbody tr th:only-of-type {\n        vertical-align: middle;\n    }\n\n    .dataframe tbody tr th {\n        vertical-align: top;\n    }\n\n    .dataframe thead th {\n        text-align: right;\n    }\n</style>\n<table border=\"1\" class=\"dataframe\">\n  <thead>\n    <tr style=\"text-align: right;\">\n      <th></th>\n      <th>cookie</th>\n      <th>hamberger</th>\n      <th>pizza</th>\n      <th>ramen</th>\n      <th>sushi</th>\n    </tr>\n  </thead>\n  <tbody>\n    <tr>\n      <th>pizza</th>\n      <td>0</td>\n      <td>0</td>\n      <td>1</td>\n      <td>0</td>\n      <td>0</td>\n    </tr>\n    <tr>\n      <th>hamberger</th>\n      <td>0</td>\n      <td>1</td>\n      <td>0</td>\n      <td>0</td>\n      <td>0</td>\n    </tr>\n    <tr>\n      <th>cookie</th>\n      <td>1</td>\n      <td>0</td>\n      <td>0</td>\n      <td>0</td>\n      <td>0</td>\n    </tr>\n    <tr>\n      <th>pizza hamberger cookie</th>\n      <td>1</td>\n      <td>1</td>\n      <td>1</td>\n      <td>0</td>\n      <td>0</td>\n    </tr>\n    <tr>\n      <th>ramen</th>\n      <td>0</td>\n      <td>0</td>\n      <td>0</td>\n      <td>1</td>\n      <td>0</td>\n    </tr>\n    <tr>\n      <th>sushi</th>\n      <td>0</td>\n      <td>0</td>\n      <td>0</td>\n      <td>0</td>\n      <td>1</td>\n    </tr>\n    <tr>\n      <th>ramen sushi</th>\n      <td>0</td>\n      <td>0</td>\n      <td>0</td>\n      <td>1</td>\n      <td>1</td>\n    </tr>\n  </tbody>\n</table>\n</div>"
     },
     "metadata": {},
     "execution_count": 14
    }
   ],
   "source": [
    "# CREATE Term-Frequency matrix \n",
    "\n",
    "tf_vect = CountVectorizer()\n",
    "tfm = tf_vect.fit_transform(data)\n",
    "tfm = pd.DataFrame(data=tfm.toarray(), columns = tf_vect.get_feature_names())\n",
    "\n",
    "tfm.index = data\n",
    "\n",
    "tfm"
   ]
  },
  {
   "cell_type": "code",
   "execution_count": 15,
   "metadata": {
    "deletable": false,
    "nbgrader": {
     "cell_type": "code",
     "checksum": "9e77786ba4332af03128a0a4bd101d2b",
     "grade": false,
     "grade_id": "cell-cfc0e060c5491e20",
     "locked": false,
     "schema_version": 3,
     "solution": true,
     "task": false
    }
   },
   "outputs": [
    {
     "output_type": "execute_result",
     "data": {
      "text/plain": [
       "array([[ 0.58,  0.  ],\n",
       "       [ 0.58,  0.  ],\n",
       "       [ 0.58,  0.  ],\n",
       "       [ 1.73,  0.  ],\n",
       "       [-0.  ,  0.71],\n",
       "       [-0.  ,  0.71],\n",
       "       [-0.  ,  1.41]])"
      ]
     },
     "metadata": {},
     "execution_count": 15
    }
   ],
   "source": [
    "# Use SVD to transform our Term-Frequency matrix into a Topic matrix with reduced dimensionality\n",
    "\n",
    "X_reduced = svd.fit_transform(tfm)\n",
    "X_reduced.round(2)"
   ]
  },
  {
   "cell_type": "code",
   "execution_count": 16,
   "metadata": {
    "deletable": false,
    "nbgrader": {
     "cell_type": "code",
     "checksum": "f4d45f8bf79393c9f929412dcd344bbb",
     "grade": false,
     "grade_id": "cell-f93d7b170dec7dfd",
     "locked": false,
     "schema_version": 3,
     "solution": true,
     "task": false
    }
   },
   "outputs": [
    {
     "output_type": "execute_result",
     "data": {
      "text/plain": [
       "                        American_Food  Japanese_Food\n",
       "pizza                            0.58           0.00\n",
       "hamberger                        0.58           0.00\n",
       "cookie                           0.58           0.00\n",
       "pizza hamberger cookie           1.73           0.00\n",
       "ramen                           -0.00           0.71\n",
       "sushi                           -0.00           0.71\n",
       "ramen sushi                     -0.00           1.41"
      ],
      "text/html": "<div>\n<style scoped>\n    .dataframe tbody tr th:only-of-type {\n        vertical-align: middle;\n    }\n\n    .dataframe tbody tr th {\n        vertical-align: top;\n    }\n\n    .dataframe thead th {\n        text-align: right;\n    }\n</style>\n<table border=\"1\" class=\"dataframe\">\n  <thead>\n    <tr style=\"text-align: right;\">\n      <th></th>\n      <th>American_Food</th>\n      <th>Japanese_Food</th>\n    </tr>\n  </thead>\n  <tbody>\n    <tr>\n      <th>pizza</th>\n      <td>0.58</td>\n      <td>0.00</td>\n    </tr>\n    <tr>\n      <th>hamberger</th>\n      <td>0.58</td>\n      <td>0.00</td>\n    </tr>\n    <tr>\n      <th>cookie</th>\n      <td>0.58</td>\n      <td>0.00</td>\n    </tr>\n    <tr>\n      <th>pizza hamberger cookie</th>\n      <td>1.73</td>\n      <td>0.00</td>\n    </tr>\n    <tr>\n      <th>ramen</th>\n      <td>-0.00</td>\n      <td>0.71</td>\n    </tr>\n    <tr>\n      <th>sushi</th>\n      <td>-0.00</td>\n      <td>0.71</td>\n    </tr>\n    <tr>\n      <th>ramen sushi</th>\n      <td>-0.00</td>\n      <td>1.41</td>\n    </tr>\n  </tbody>\n</table>\n</div>"
     },
     "metadata": {},
     "execution_count": 16
    }
   ],
   "source": [
    "topic_cols = ['American_Food', 'Japanese_Food']\n",
    "dtm_reduced = pd.DataFrame(data=X_reduced.round(2), columns=topic_cols)\n",
    "dtm_reduced.index = data\n",
    "dtm_reduced"
   ]
  },
  {
   "cell_type": "markdown",
   "metadata": {},
   "source": [
    "Ok, now that we have gone through an example of applying LSA on a small dataset, let's apply it in a model building pipeline. "
   ]
  },
  {
   "cell_type": "code",
   "execution_count": 17,
   "metadata": {
    "deletable": false,
    "nbgrader": {
     "cell_type": "code",
     "checksum": "6e03b48a4a557a5d08513f0c7c3962e4",
     "grade": false,
     "grade_id": "cell-0ff7ed88cbc5eb32",
     "locked": false,
     "schema_version": 3,
     "solution": true,
     "task": false
    }
   },
   "outputs": [],
   "source": [
    "# build a pipeline, incorporate SVD, and run a gridsearch \n",
    "\n",
    "# create data transformers\n",
    "svd = TruncatedSVD()\n",
    "\n",
    "tfidf = TfidfVectorizer(stop_words='english')\n",
    "\n",
    "# create classifier\n",
    "rfc = RandomForestClassifier(random_state=1234)\n",
    "\n",
    "# instantiate pipeline object\n",
    "lsa = Pipeline([('vect', tfidf), # data transformer\n",
    "                ('svd', svd)])   # data transformer 2\n",
    "\n",
    "pipe = Pipeline([('lsa', lsa),   # data transformer\n",
    "                 ('clf', rfc)])  # classifier"
   ]
  },
  {
   "cell_type": "code",
   "execution_count": 18,
   "metadata": {},
   "outputs": [
    {
     "output_type": "execute_result",
     "data": {
      "text/plain": [
       "[('lsa',\n",
       "  Pipeline(steps=[('vect', TfidfVectorizer(stop_words='english')),\n",
       "                  ('svd', TruncatedSVD())])),\n",
       " ('clf', RandomForestClassifier(random_state=1234))]"
      ]
     },
     "metadata": {},
     "execution_count": 18
    }
   ],
   "source": [
    "pipe.steps"
   ]
  },
  {
   "cell_type": "code",
   "execution_count": 19,
   "metadata": {},
   "outputs": [],
   "source": [
    "params = {\n",
    "    \"lsa__svd__n_components\": (10, 100), \n",
    "    \"lsa__vect__max_df\": (.80, .90), \n",
    "    \"clf__n_estimators\": (10, 100), \n",
    "    \"clf__max_depth\": (None, 10)  \n",
    "                               }"
   ]
  },
  {
   "cell_type": "code",
   "execution_count": 20,
   "metadata": {},
   "outputs": [
    {
     "output_type": "stream",
     "name": "stdout",
     "text": [
      "Fitting 3 folds for each of 16 candidates, totalling 48 fits\n"
     ]
    },
    {
     "output_type": "execute_result",
     "data": {
      "text/plain": [
       "GridSearchCV(cv=3,\n",
       "             estimator=Pipeline(steps=[('lsa',\n",
       "                                        Pipeline(steps=[('vect',\n",
       "                                                         TfidfVectorizer(stop_words='english')),\n",
       "                                                        ('svd',\n",
       "                                                         TruncatedSVD())])),\n",
       "                                       ('clf',\n",
       "                                        RandomForestClassifier(random_state=1234))]),\n",
       "             n_jobs=-1,\n",
       "             param_grid={'clf__max_depth': (None, 10),\n",
       "                         'clf__n_estimators': (10, 100),\n",
       "                         'lsa__svd__n_components': (10, 100),\n",
       "                         'lsa__vect__max_df': (0.8, 0.9)},\n",
       "             verbose=5)"
      ]
     },
     "metadata": {},
     "execution_count": 20
    }
   ],
   "source": [
    "gs_lsa = GridSearchCV(pipe, params, cv=3, n_jobs=-1, verbose=5)\n",
    "gs_lsa.fit(X_clean, Y)"
   ]
  },
  {
   "cell_type": "code",
   "execution_count": 21,
   "metadata": {},
   "outputs": [
    {
     "output_type": "execute_result",
     "data": {
      "text/plain": [
       "0.8647692761315052"
      ]
     },
     "metadata": {},
     "execution_count": 21
    }
   ],
   "source": [
    "gs_lsa.best_score_"
   ]
  },
  {
   "cell_type": "markdown",
   "metadata": {
    "toc-hr-collapsed": true
   },
   "source": [
    "## Follow Along\n",
    "1. Join the Kaggle Competition\n",
    "2. Download the data\n",
    "3. Train a model & try: \n",
    "    - Creating a Text Extraction & Classification Pipeline\n",
    "    - Tune the pipeline with a `GridSearchCV` or `RandomizedSearchCV`\n",
    "    - Add some Latent Semantic Indexing (lsi) into your pipeline. *Note:* You can grid search a nested pipeline, but you have to use double underscores ie `lsi__svd__n_components`\n",
    "4. Make a submission to Kaggle \n"
   ]
  },
  {
   "cell_type": "markdown",
   "metadata": {},
   "source": [
    "## Challenge\n",
    "\n",
    "Continue to apply Latent Semantic Indexing (LSI) to various datasets. "
   ]
  },
  {
   "cell_type": "markdown",
   "metadata": {},
   "source": [
    "# Word Embeddings with Spacy (Learn)\n",
    "<a id=\"p3\"></a>"
   ]
  },
  {
   "cell_type": "markdown",
   "metadata": {},
   "source": [
    "# Overview"
   ]
  },
  {
   "cell_type": "code",
   "execution_count": 22,
   "metadata": {
    "deletable": false,
    "nbgrader": {
     "cell_type": "code",
     "checksum": "996d16297087ad9c8acbfbeb726b15bb",
     "grade": false,
     "grade_id": "cell-30f6f3d27deb63a3",
     "locked": false,
     "schema_version": 3,
     "solution": true,
     "task": false
    }
   },
   "outputs": [],
   "source": [
    "import spacy\n",
    "\n",
    "# build a model that is trained on word vectors \n",
    "\n",
    "# load in pre-trained w2v model \n",
    "nlp = spacy.load(\"en_core_web_lg\")"
   ]
  },
  {
   "cell_type": "markdown",
   "metadata": {},
   "source": [
    "## Follow Along"
   ]
  },
  {
   "cell_type": "code",
   "execution_count": 23,
   "metadata": {},
   "outputs": [],
   "source": [
    "train = pd.read_csv('whiskey-reviews-ds24/train.csv')\n",
    "test = pd.read_csv('whiskey-reviews-ds24/test.csv')"
   ]
  },
  {
   "cell_type": "code",
   "execution_count": 24,
   "metadata": {},
   "outputs": [
    {
     "output_type": "execute_result",
     "data": {
      "text/plain": [
       "     id                                        description  ratingCategory\n",
       "0  1321  \\nSometimes, when whisky is batched, a few lef...               1\n",
       "1  3861  \\nAn uncommon exclusive bottling of a 6 year o...               0\n",
       "2   655  \\nThis release is a port version of Amrut’s In...               1\n",
       "3   555  \\nThis 41 year old single cask was aged in a s...               1\n",
       "4  1965  \\nQuite herbal on the nose, with aromas of dri...               1"
      ],
      "text/html": "<div>\n<style scoped>\n    .dataframe tbody tr th:only-of-type {\n        vertical-align: middle;\n    }\n\n    .dataframe tbody tr th {\n        vertical-align: top;\n    }\n\n    .dataframe thead th {\n        text-align: right;\n    }\n</style>\n<table border=\"1\" class=\"dataframe\">\n  <thead>\n    <tr style=\"text-align: right;\">\n      <th></th>\n      <th>id</th>\n      <th>description</th>\n      <th>ratingCategory</th>\n    </tr>\n  </thead>\n  <tbody>\n    <tr>\n      <th>0</th>\n      <td>1321</td>\n      <td>\\nSometimes, when whisky is batched, a few lef...</td>\n      <td>1</td>\n    </tr>\n    <tr>\n      <th>1</th>\n      <td>3861</td>\n      <td>\\nAn uncommon exclusive bottling of a 6 year o...</td>\n      <td>0</td>\n    </tr>\n    <tr>\n      <th>2</th>\n      <td>655</td>\n      <td>\\nThis release is a port version of Amrut’s In...</td>\n      <td>1</td>\n    </tr>\n    <tr>\n      <th>3</th>\n      <td>555</td>\n      <td>\\nThis 41 year old single cask was aged in a s...</td>\n      <td>1</td>\n    </tr>\n    <tr>\n      <th>4</th>\n      <td>1965</td>\n      <td>\\nQuite herbal on the nose, with aromas of dri...</td>\n      <td>1</td>\n    </tr>\n  </tbody>\n</table>\n</div>"
     },
     "metadata": {},
     "execution_count": 24
    }
   ],
   "source": [
    "train.head()"
   ]
  },
  {
   "cell_type": "code",
   "execution_count": 25,
   "metadata": {},
   "outputs": [],
   "source": [
    "# isolate the text data from the dataframe\n",
    "# raw unclean text data\n",
    "X_train_raw = train.description\n",
    "X_test_raw = test.description"
   ]
  },
  {
   "cell_type": "code",
   "execution_count": 26,
   "metadata": {},
   "outputs": [],
   "source": [
    "# cleaned text data\n",
    "X_train_clean = [clean_data(text) for text in X_train_raw]\n",
    "X_test_clean = [clean_data(text) for text in X_test_raw]"
   ]
  },
  {
   "cell_type": "code",
   "execution_count": 27,
   "metadata": {},
   "outputs": [],
   "source": [
    "def get_word_vectors(docs):\n",
    "    \"\"\"\n",
    "    This serves as both our tokenizer and vectorizer.\n",
    "    Returns a nested list of word vectors (i.e. our doc-term matrix).\n",
    "    \"\"\"\n",
    "    return [nlp(doc).vector for doc in docs]"
   ]
  },
  {
   "cell_type": "code",
   "execution_count": 29,
   "metadata": {},
   "outputs": [],
   "source": [
    "# use our function to create our doc vectors \n",
    "X_train_vect = get_word_vectors(X_train_clean)\n",
    "X_test_vect = get_word_vectors(X_test_clean)"
   ]
  },
  {
   "cell_type": "code",
   "execution_count": 30,
   "metadata": {},
   "outputs": [
    {
     "output_type": "execute_result",
     "data": {
      "text/plain": [
       "(4087, 1022)"
      ]
     },
     "metadata": {},
     "execution_count": 30
    }
   ],
   "source": [
    "# check num of docs\n",
    "len(X_train_vect), len(X_test_vect)"
   ]
  },
  {
   "cell_type": "code",
   "execution_count": 31,
   "metadata": {},
   "outputs": [
    {
     "output_type": "execute_result",
     "data": {
      "text/plain": [
       "((300,), (300,))"
      ]
     },
     "metadata": {},
     "execution_count": 31
    }
   ],
   "source": [
    "# check dimensionality \n",
    "X_train_vect[0].shape, X_test_vect[0].shape"
   ]
  },
  {
   "cell_type": "code",
   "execution_count": 32,
   "metadata": {},
   "outputs": [],
   "source": [
    "y_train = train.ratingCategory"
   ]
  },
  {
   "cell_type": "code",
   "execution_count": 33,
   "metadata": {},
   "outputs": [
    {
     "output_type": "execute_result",
     "data": {
      "text/plain": [
       "RandomForestClassifier(oob_score=True)"
      ]
     },
     "metadata": {},
     "execution_count": 33
    }
   ],
   "source": [
    "# use out-of-bag score\n",
    "rfc = RandomForestClassifier(n_estimators=100, oob_score=True)\n",
    "\n",
    "rfc.fit(X_train_vect, y_train)"
   ]
  },
  {
   "cell_type": "code",
   "execution_count": 36,
   "metadata": {},
   "outputs": [
    {
     "output_type": "execute_result",
     "data": {
      "text/plain": [
       "1.0"
      ]
     },
     "metadata": {},
     "execution_count": 36
    }
   ],
   "source": [
    "# training accuracy score \n",
    "rfc.score(X_train_vect, y_train)"
   ]
  },
  {
   "cell_type": "code",
   "execution_count": 37,
   "metadata": {},
   "outputs": [
    {
     "output_type": "execute_result",
     "data": {
      "text/plain": [
       "0.7269390751162221"
      ]
     },
     "metadata": {},
     "execution_count": 37
    }
   ],
   "source": [
    "# validation score (i.e. the out-of-bag score)\n",
    "rfc.oob_score_"
   ]
  },
  {
   "cell_type": "code",
   "execution_count": null,
   "metadata": {},
   "outputs": [],
   "source": []
  },
  {
   "cell_type": "markdown",
   "metadata": {},
   "source": [
    "## Challenge\n",
    "\n",
    "What you should be doing now:\n",
    "1. Join the Kaggle Competition\n",
    "2. Download the data\n",
    "3. Train a model & try: \n",
    "    - Creating a Text Extraction & Classification Pipeline\n",
    "    - Tune the pipeline with a `GridSearchCV` or `RandomizedSearchCV`\n",
    "    - Add some Latent Semantic Indexing (lsi) into your pipeline. *Note:* You can grid search a nested pipeline, but you have to use double underscores ie `lsi__svd__n_components`\n",
    "    - Try to extract word embeddings with Spacy and use those embeddings as your features for a classification model.\n",
    "4. Make a submission to Kaggle "
   ]
  },
  {
   "cell_type": "markdown",
   "metadata": {},
   "source": [
    "# Review\n",
    "\n",
    "To review this module: \n",
    "* Continue working on the Kaggle competition\n",
    "* Find another text classification task to work on"
   ]
  }
 ],
 "metadata": {
  "kernelspec": {
   "name": "python390jvsc74a57bd031573d84b2a5682177834a321af42eea648d9a4417564de6bd7841ec3642bc80",
   "display_name": "Python 3.9.0 64-bit ('DS-Unit-4-Sprint-1-NLP': pipenv)"
  },
  "language_info": {
   "codemirror_mode": {
    "name": "ipython",
    "version": 3
   },
   "file_extension": ".py",
   "mimetype": "text/x-python",
   "name": "python",
   "nbconvert_exporter": "python",
   "pygments_lexer": "ipython3",
   "version": "3.9.0-final"
  }
 },
 "nbformat": 4,
 "nbformat_minor": 4
}